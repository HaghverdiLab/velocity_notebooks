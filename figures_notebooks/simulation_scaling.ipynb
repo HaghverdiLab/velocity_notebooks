{
 "cells": [
  {
   "cell_type": "markdown",
   "id": "d62527f4",
   "metadata": {},
   "source": [
    "## $\\kappa$-velo scaling on simulation\n",
    "\n",
    "In this notebook we will apply our $\\kappa$-velo method to a simulated RNA-velocity dataset. \n",
    "\n",
    "We are interested in the recovery, and scaling of the parameters $\\alpha$, $\\beta$ and $\\gamma$, which is one of the steps in the $\\kappa$-velo workflow. You can use this notebook to reproduce figures 2B-E and S2."
   ]
  },
  {
   "cell_type": "code",
   "execution_count": null,
   "id": "6fd76c40",
   "metadata": {},
   "outputs": [],
   "source": [
    "### load libraries\n",
    "\n",
    "# general libraries\n",
    "import pandas as pd\n",
    "\n",
    "# single cell libraries\n",
    "import scvelo as scv\n",
    "\n",
    "# plotting libraries\n",
    "import matplotlib.pyplot as plt\n",
    "\n",
    "# dimension reduction libraries\n",
    "from sklearn.decomposition import PCA #for generating a PCA embedding\n",
    "import sklearn as sk\n",
    "from scipy.stats import pearsonr\n",
    "\n",
    "import numpy as np\n",
    "# import our own functions\n",
    "%load_ext autoreload\n",
    "%autoreload 2\n",
    "from velocity.tools.fit import *"
   ]
  },
  {
   "cell_type": "markdown",
   "id": "fb427696",
   "metadata": {},
   "source": [
    "### Generate simulation data\n",
    "\n",
    "We first generate a simulation data that we will be using to test our $\\kappa$-velo method. The simulation is create using the build in function from scVelo: `scvelo.datasets.simulation`. Our simulation contains 200 genes and 5000 cells. The parameters $\\alpha$, $\\beta$ and $\\gamma$ are sampled from a multivariate log-normal distribution and scaled by a scaling factor $\\kappa$ between 1 and 10."
   ]
  },
  {
   "cell_type": "code",
   "execution_count": null,
   "id": "proof-sugar",
   "metadata": {},
   "outputs": [],
   "source": [
    "### set seed\n",
    "np.random.seed(0)"
   ]
  },
  {
   "cell_type": "code",
   "execution_count": null,
   "id": "15136782",
   "metadata": {},
   "outputs": [],
   "source": [
    "### set variables for simulation\n",
    "n_vars, n_obs, t_max, noise_level = 100, 5000, 30, 1\n",
    "switches = np.random.uniform(.6, .7, size=n_vars)"
   ]
  },
  {
   "cell_type": "code",
   "execution_count": null,
   "id": "a4ac1f04",
   "metadata": {},
   "outputs": [],
   "source": [
    "\n",
    "\n",
    "### set parameters\n",
    "mu = np.array([np.log(5), np.log(.3), np.log(.15)])\n",
    "R = np.array([[1, .2, .2],\n",
    "              [.2, 1, .2],\n",
    "              [.2, .2, 1]])\n",
    "C = np.array([.2, .2, .2])[:, None]\n",
    "cov = C.dot(C.T) * R\n",
    "\n",
    "\n",
    "alpha, beta, gamma = np.exp(np.random.multivariate_normal(mu, cov, size=n_vars).T ) "
   ]
  },
  {
   "cell_type": "code",
   "execution_count": null,
   "id": "indie-investigation",
   "metadata": {},
   "outputs": [],
   "source": [
    "### set different scaling factors (kappa)\n",
    "kappa = np.arange(.1, 15, (15-.1)/n_vars)"
   ]
  },
  {
   "cell_type": "code",
   "execution_count": null,
   "id": "bc352e59",
   "metadata": {},
   "outputs": [],
   "source": [
    "### generate dataset; fixed alpha, beta & gamma, only change kappa \n",
    "adata = scv.datasets.simulation(n_obs=n_obs, \n",
    "                                t_max=t_max, \n",
    "                                n_vars=n_vars, \n",
    "                                noise_level=noise_level, \n",
    "                                alpha=alpha*kappa, \n",
    "                                beta=beta*kappa, \n",
    "                                gamma=gamma*kappa, \n",
    "                                switches=switches/kappa)"
   ]
  },
  {
   "cell_type": "markdown",
   "id": "54e86454",
   "metadata": {},
   "source": [
    "### Recover dynamics and scaling factors ($\\kappa$)\n",
    "\n",
    "Here, we will calculate the velocities per cell for each gene. \n",
    "\n",
    "We compare the parameters recovered by scVelo using the function `scvelo.tl.recover_dynamics`, to our parameters recvored using the ` recover_reaction_rate_pars` function."
   ]
  },
  {
   "cell_type": "code",
   "execution_count": null,
   "id": "e5798c04",
   "metadata": {},
   "outputs": [],
   "source": [
    "### recover scvelo dynamics\n",
    "scv.tl.recover_dynamics(adata, adata.var_names, use_raw=True, fit_connected_states=False, t_max=20)"
   ]
  },
  {
   "cell_type": "code",
   "execution_count": null,
   "id": "546ba2f0",
   "metadata": {},
   "outputs": [],
   "source": [
    "### recover kappa-velo dynamics\n",
    "scaled_data = recover_reaction_rate_pars(adata, \n",
    "                                         use_raw=True, # whether to use raw or inputed counts\n",
    "                                         key=\"fit\", # key under which the parameters are saved\n",
    "                                         parallel=True, n_cores=4, # parallelisation for speed-up\n",
    "                                         inplace=False # return new adata object instead of editing the existing one\n",
    "                                        )"
   ]
  },
  {
   "cell_type": "markdown",
   "id": "af0ea8c6",
   "metadata": {},
   "source": [
    "Compare our fitted kappa's to the true kappa's. This figure is equivalent to Figure 2C in our main paper."
   ]
  },
  {
   "cell_type": "code",
   "execution_count": null,
   "id": "65b3c1d9",
   "metadata": {},
   "outputs": [],
   "source": [
    "### plot fitted kappas vs true kappas\n",
    "fig, ax = plt.subplots(1, 1, figsize=(6, 6))\n",
    "x, y = kappa*beta*2.5, scaled_data.var[\"fit_beta\"]*100\n",
    "plt.scatter(x, y, s=30, c=\"black\")\n",
    "plt.xlabel(\"True kappa\", size=20), plt.ylabel(\"Fitted kappa\", size=20)\n",
    "plt.text(np.max(x)/10, np.max(y)-np.max(y)/10, \"Person's corr: \"+str(np.round(pearsonr(x, y)[0],2)), #style='italic',\n",
    "        bbox={'facecolor': 'white', 'pad': 10})\n",
    "plt.xlim(0), plt.ylim(0)\n",
    "plt.tight_layout()\n",
    "\n",
    "plt.show()"
   ]
  },
  {
   "cell_type": "code",
   "execution_count": null,
   "id": "82585b7f",
   "metadata": {},
   "outputs": [],
   "source": [
    "### plot scVelo likelihood vs our likelihood\n",
    "fig, ax = plt.subplots(1, 1, figsize=(6, 6))\n",
    "x, y = adata.var[\"fit_likelihood\"], scaled_data.var[\"fit_likelihood\"]\n",
    "plt.scatter(x, y, s=30, c=\"black\")\n",
    "plt.xlabel(\"scVelo likelihood\", size=20), plt.ylabel(\"kappa-velo likelihood\", size=20)\n",
    "plt.xlim(0), plt.ylim(0)\n",
    "plt.plot((0, np.max(x)), (0, np.max(x)), color=\"red\")\n",
    "plt.tight_layout()\n",
    "\n",
    "plt.show()"
   ]
  },
  {
   "cell_type": "markdown",
   "id": "f369d0fe",
   "metadata": {},
   "source": [
    "### Calculate velocities\n",
    "\n",
    "Compare the velocities calculated in three different ways. \n",
    "\n",
    "1. true velocities (`v_true`): velocities calculated using the ground truth parameters\n",
    "2. scVelo velocities (`v_scvelo`): velocities calculated using the parameters recovered by scVelo\n",
    "3. scaled velocities (`v_scaled`): velocities calculated using the $\\kappa$-scaled parameters\n",
    "\n",
    "Note: the velocities are L2 normalised to make them comparable."
   ]
  },
  {
   "cell_type": "code",
   "execution_count": null,
   "id": "676b97c7",
   "metadata": {},
   "outputs": [],
   "source": [
    "### calculate ground truth velocities\n",
    "from velocity.tools.fit import *\n",
    "true_data = adata.copy()\n",
    "get_velocity(true_data, key=\"true\", normalise=\"std\")\n",
    "v_true = true_data.layers[\"velocity\"]/10"
   ]
  },
  {
   "cell_type": "code",
   "execution_count": null,
   "id": "e5641319",
   "metadata": {},
   "outputs": [],
   "source": [
    "### calculate scvelo velocities \n",
    "scv.pp.neighbors(adata)\n",
    "scv.tl.velocity(adata, use_raw=True)\n",
    "v_scvelo = (adata.layers[\"velocity\"]/np.std(adata.layers[\"velocity\"]))/10"
   ]
  },
  {
   "cell_type": "code",
   "execution_count": null,
   "id": "907223bd",
   "metadata": {},
   "outputs": [],
   "source": [
    "### scaled velocities\n",
    "get_velocity(scaled_data, use_raw=True, normalise=\"std\")\n",
    "v_scaled = scaled_data.layers[\"velocity\"]/10"
   ]
  },
  {
   "cell_type": "markdown",
   "id": "39dfe298",
   "metadata": {},
   "source": [
    "Compare the velocities estimated by scVelo and $\\kappa$-velo to the true velocities. Each dot represents the velocity of one gene in one cell. "
   ]
  },
  {
   "cell_type": "code",
   "execution_count": null,
   "id": "74d3b6ef",
   "metadata": {},
   "outputs": [],
   "source": [
    "### plot figuring comparing scVelo and kappa-velo to ground truth\n",
    "fig, ax = plt.subplots(1, 1, figsize=(6, 6), frameon=False)\n",
    "\n",
    "kwargs = {\"alpha\":.2, \"s\":7}\n",
    "idx = np.arange(0, n_vars, 1)\n",
    "cells = np.arange(0, n_obs, 25)\n",
    "xlim = (np.min(v_true), np.max(v_true))\n",
    "\n",
    "# for all cell over all genes\n",
    "ax.scatter(v_true[:,idx][cells], v_scvelo[:,idx][cells], \n",
    "           label=\"scVelo\", color=\"tab:red\", **kwargs)\n",
    "ax.scatter(v_true[:,idx][cells], v_scaled[:,idx][cells], \n",
    "           label=\"κ-velo\", color=\"royalblue\", **kwargs)\n",
    "ax.set_xlabel(\"True velocities\", size=18), ax.set_ylabel(\"Recovered velocities\", size=20)\n",
    "\n",
    "l = .6\n",
    "ax.set_xlim((-l,l)), ax.set_ylim((-l, l))\n",
    "\n",
    "ax.legend(fontsize=20)\n",
    "ax.set_xticks([-.5, 0, .5]), ax.set_yticks([-.5, 0, .5])\n",
    "plt.tight_layout()\n",
    "\n",
    "# save figure\n",
    "save_path = \"../figures/FigS9A_velocities-scvelo-vs-scaled.pdf\"\n",
    "plt.savefig(save_path, dpi=200, transparent=True)\n",
    "\n",
    "plt.show()"
   ]
  },
  {
   "cell_type": "code",
   "execution_count": null,
   "id": "d3d93708",
   "metadata": {},
   "outputs": [],
   "source": [
    "from velocity.visualisation.vis_utils import vector_distance\n",
    "### calculate change in direction\n",
    "a0, a1 = vector_distance(v_true, v_scvelo, metric=\"cosine\"), vector_distance(v_true, v_scaled, metric=\"cosine\")\n",
    "### calculate change in angle\n",
    "d0, d1 = vector_distance(v_true, v_scvelo, metric=\"norm_diff\"), vector_distance(v_true, v_scaled, metric=\"norm_diff\")\n",
    "n0, n1 = vector_distance(v_true, v_scvelo, metric=\"diff_norm\"), vector_distance(v_true, v_scaled, metric=\"diff_norm\")\n",
    "\n",
    "fig, axs = plt.subplots(1, 3, figsize=(8,5), frameon=False, gridspec_kw={'width_ratios': [ 1, 1, 1]})\n",
    "\n",
    "\n",
    "kwargs = {\"alpha\":0.5, \"density\":False, \"bins\":30}\n",
    "A= np.array((a0.tolist(), a1.tolist())).flatten()\n",
    "_, bins, _ = axs[0].hist(a0, **kwargs, color=\"white\")\n",
    "axs[0].hist(a0, bins=bins, alpha=.6, label=\"scVelo\", color=\"r\")\n",
    "axs[0].hist(a1, bins=bins, alpha = .6, color=\"royalblue\", label=\"κ-velo\")\n",
    "axs[0].set_title(\"Change in vector direction\")\n",
    "axs[0].set_yscale('log') \n",
    "axs[0].set_ylabel(\"Frequency\")\n",
    "axs[0].set_xlabel(\"Cosine similarity\")\n",
    "axs[0].set_xticks([0,1])\n",
    "axs[0].legend()\n",
    "#kwargs = {\"alpha\":0.5, \"density\":False, \"bins\":21}\n",
    "_, bins, _ = axs[1].hist(d1, **kwargs, color=\"white\")\n",
    "axs[1].hist(d0, bins=bins, alpha = .6, label=\"scVelo\", color=\"r\")\n",
    "axs[1].hist(d1, bins=bins, alpha = .6, color=\"royalblue\", label=\"κ-velo\")\n",
    "axs[1].set_title(\"Change in vector length\")\n",
    "axs[1].set_yscale('log') \n",
    "axs[0].sharey(axs[1])\n",
    "axs[1].set_ylabel(\"Frequency\")\n",
    "axs[1].set_xlabel(\"Diff. in vector norm\")\n",
    "#axs[1].set_xticks([-1,0,1])\n",
    "\n",
    "kwargs = {\"alpha\":0.5, \"density\":False, \"bins\":30}\n",
    "_, bins, _ = axs[2].hist(n1, **kwargs, color=\"white\")\n",
    "axs[2].hist(n0, bins=bins, alpha = .6, label=\"scVelo\", color=\"r\")\n",
    "axs[2].hist(n1, bins=bins, alpha = .6, color=\"royalblue\", label=\"κ-velo\")\n",
    "axs[2].set_title(\"Norm of the errors\")\n",
    "axs[2].set_yscale('log') \n",
    "axs[2].sharey(axs[1])\n",
    "axs[2].set_ylabel(\"Frequency\")\n",
    "axs[2].set_xlabel(\"Norm of the diff. in vector\")\n",
    "axs[2].set_xticks([0,.5])\n",
    "\n",
    "axs[0].legend(fontsize=10)\n",
    "plt.tight_layout()\n",
    "\n",
    "# save figure\n",
    "save_path = \"../figures/FigS9B_length_and_direction_compared_high-D.pdf\"\n",
    "plt.savefig(save_path, dpi=200, transparent=True)\n",
    "\n",
    "plt.show()"
   ]
  },
  {
   "cell_type": "code",
   "execution_count": null,
   "id": "5f0786f8",
   "metadata": {},
   "outputs": [],
   "source": [
    "### plot figuring comparing scVelo and kappa-velo to ground truth\n",
    "fig, ax = plt.subplots(1, 1, figsize=(6, 6), frameon=False)\n",
    "\n",
    "kwargs = {\"alpha\":.8, \"s\":30}\n",
    "idx = [10,80]\n",
    "cells = np.arange(0, n_obs, 20)\n",
    "xlim = (np.min(v_true), np.max(v_true))\n",
    "\n",
    "# for all cell over all genes\n",
    "ax.scatter(v_true[:,idx[1]][cells], v_scvelo[:,idx[1]][cells], \n",
    "           label=\"scVelo - fast gene\", color=\"tab:red\",  **kwargs)\n",
    "ax.scatter(v_true[:,idx[0]][cells], v_scvelo[:,idx[0]][cells], \n",
    "           label=\"scVelo - slow gene\", color=\"lightcoral\",marker=\"v\", **kwargs)\n",
    "ax.scatter(v_true[:,idx[1]][cells], v_scaled[:,idx[1]][cells], \n",
    "           label=\"κ-velo - fast gene\", color=\"royalblue\", **kwargs)\n",
    "ax.scatter(v_true[:,idx[0]][cells], v_scaled[:,idx[0]][cells], \n",
    "           label=\"κ-velo - slow gene\", color=\"deepskyblue\",marker=\"v\", **kwargs)\n",
    "\n",
    "\n",
    "ax.set_xlabel(\"True velocities\", size=18), ax.set_ylabel(\"Recovered velocities\", size=20)\n",
    "\n",
    "l = .3\n",
    "ax.set_xlim((-l,l)), ax.set_ylim((-l, l))\n",
    "\n",
    "ax.legend(fontsize=15)\n",
    "ax.set_xticks([-l, 0, l]), ax.set_yticks([-l, 0, l])\n",
    "plt.tight_layout()\n",
    "\n",
    "plt.show()"
   ]
  },
  {
   "cell_type": "markdown",
   "id": "4c95d832",
   "metadata": {},
   "source": [
    "### Projection onto PCA space\n",
    "\n",
    "To compare the velocities onto a low-dimensional embedding, we project the velocities, as calculated by scVelo and $\\kappa$-velo onto a PCA embedding and compare them with the true velocities. We compare the velocities both in terms of change in vector direction and change in vector length. \n",
    "To compare the vector direction, we use our function `vector_distance`, which uses cosine similarity to determine the difference in direction between two vectors. To compare the vector length, we use the same function `vector_distance`, but this time with metric \"norm_diff\", comparing the length of the vector using the difference in vector norm."
   ]
  },
  {
   "cell_type": "code",
   "execution_count": null,
   "id": "126d1b4b",
   "metadata": {},
   "outputs": [],
   "source": [
    "### generate PCA embedding using spliced counts\n",
    "pca = PCA(n_components=2, copy=True)\n",
    "pc = pca.fit(adata.layers[\"spliced\"])\n",
    "data = pc.transform(adata.layers[\"spliced\"])"
   ]
  },
  {
   "cell_type": "code",
   "execution_count": null,
   "id": "6976311f",
   "metadata": {},
   "outputs": [],
   "source": [
    "### calculate projection of velocities (true, scVelo and scaled) onto PCA\n",
    "zero = pca.transform(np.zeros((1,n_vars)))\n",
    "\n",
    "v_t = pca.transform(v_true)-zero#, norm=\"l2\")\n",
    "v_0 = pca.transform(v_scvelo)-zero#, norm=\"l2\")\n",
    "v_1 = pca.transform(v_scaled)-zero#, norm=\"l2\")"
   ]
  },
  {
   "cell_type": "code",
   "execution_count": null,
   "id": "c28dd272",
   "metadata": {},
   "outputs": [],
   "source": [
    "from velocity.visualisation.vis_utils import vector_distance\n",
    "### calculate change in direction\n",
    "a0, a1 = vector_distance(v_t, v_0, metric=\"cosine\"), vector_distance(v_t, v_1, metric=\"cosine\")\n",
    "### calculate change in angle\n",
    "d0, d1 = vector_distance(v_t, v_0, metric=\"norm_diff\"), vector_distance(v_t, v_1, metric=\"norm_diff\")\n",
    "\n",
    "d0_, d1_ = vector_distance(v_t, v_0, metric=\"diff_norm\"), vector_distance(v_t, v_1, metric=\"diff_norm\")"
   ]
  },
  {
   "cell_type": "code",
   "execution_count": null,
   "id": "92e9e31b",
   "metadata": {},
   "outputs": [],
   "source": [
    "sub = np.arange(0, len(v_t), 4)"
   ]
  },
  {
   "cell_type": "markdown",
   "id": "99caf83b",
   "metadata": {},
   "source": [
    "Plot the simulation in a PCA embedding. The grey velocities represent the true velocities. The red and blue velocities represent the scVelo-calculate and kappa-scaled velocities respectively."
   ]
  },
  {
   "cell_type": "code",
   "execution_count": null,
   "id": "928fd05a",
   "metadata": {},
   "outputs": [],
   "source": [
    "quiver_kwargs = {\"scale\": .1, \"angles\": \"xy\", \"scale_units\": \"xy\",\n",
    "                 #\"edgecolors\": \"k\", \"linewidth\": 0.1, \"headwidth\": 5, \"headaxislength\": 4, \"alpha\":.8\n",
    "                }\n",
    "\n",
    "path = \"../figures/\"\n",
    "\n",
    "titles = [\"True velocities on PCA\", \"scVelo velocities on PCA\",\n",
    "         \"κ-velo velocities on PCA\"]\n",
    "color = [\"grey\", \"tab:red\", \"royalblue\"]\n",
    "vec = [v_t, v_0, v_1]\n",
    "save_name = [\"FigS10A_real_velo_PCA\", \"FigS10C_scVelo_velo_PCA\", \"FigS10B_kvelo_velo_PCA\"]\n",
    "for i in range(3):\n",
    "    fig, axs = plt.subplots(1,1, figsize=(5, 4.5), frameon=False)\n",
    "    axs.scatter(data[sub,0], data[sub,1], s=1, c=\"black\", alpha=.5)\n",
    "    axs.quiver(data[sub,0], data[sub,1], vec[i][sub,0], vec[i][sub,1], color=color[i], **quiver_kwargs)\n",
    "    axs.set_title(titles[i], fontsize=24)\n",
    "    axs.set_xlabel(\"PC1\", fontsize=21)\n",
    "    axs.set_ylabel(\"PC2\", fontsize=21)\n",
    "    axs.set_yticks([])\n",
    "    axs.set_xticks([])\n",
    "    plt.tight_layout()\n",
    "    plt.savefig(path+save_name[i]+\".png\", dpi=200, transparent=True)\n",
    "\n",
    "plt.show()"
   ]
  },
  {
   "cell_type": "code",
   "execution_count": null,
   "id": "60df71bf",
   "metadata": {
    "scrolled": false
   },
   "outputs": [],
   "source": [
    "titles = [\"Cosine similarity κ-velo on PCA\", \"Cosine similarity scVelo on PCA\",\n",
    "         \"Diff in vector norm κ-velo on PCA\", \"Diff in vector norm  scVelo on PCA\",\n",
    "         \"Norm of the errors for κ-velo on PCA\", \"Norm of the errors for scVelo on PCA\"]\n",
    "color = [a1, a0, d1, d0, d1_, d0_]\n",
    "cmaps = [\"YlOrRd_r\", \"YlOrRd_r\", \n",
    "         \"bwr\", \"bwr\",\n",
    "        \"YlOrRd\", \"YlOrRd\"]\n",
    "vmin_vmax = [(0, 1), (0, 1), \n",
    "             (-.5, .5), (-.5, .5), \n",
    "             (0, np.max(d0_)), (0, np.max(d0_))]\n",
    "save_name = [\"Fig_cosine_kvelo_PCA\", \"Fig_cosine_scVelo_PCA\", \n",
    "             \"Fig_norm_kvelo_PCA\", \"Fig_norm_scVelo_PCA\",\n",
    "             \"FigS10D_errors_kvelo_PCA\", \"FigS10E_errors_scVelo_PCA\"]\n",
    "for i in range(6):\n",
    "    fig, axs = plt.subplots(1,1, figsize=(5, 4.5), frameon=False)\n",
    "    vmin, vmax=vmin_vmax[i]\n",
    "    im = axs.scatter(data[sub,0], data[sub,1], s=15, c=color[i][sub], alpha=.5, vmin=vmin, vmax=vmax, cmap=cmaps[i])\n",
    "    cax = fig.add_axes([0.1, 0.86, 0.4, 0.03])\n",
    "    fig.colorbar(im, cax=cax, orientation='horizontal')\n",
    "    axs.set_title(titles[i], fontsize=16)\n",
    "    axs.set_xlabel(\"PC1\", fontsize=15)\n",
    "    axs.set_ylabel(\"PC2\", fontsize=15)\n",
    "    axs.set_yticks([])\n",
    "    axs.set_xticks([])\n",
    "    plt.tight_layout()\n",
    "    plt.savefig(path+save_name[i]+\".pdf\", dpi=200, transparent=True)\n",
    "\n",
    "plt.show()"
   ]
  },
  {
   "cell_type": "markdown",
   "id": "8cac9768",
   "metadata": {},
   "source": [
    "Here, we compare the vectors in the PCA embedding in terms of size and angle."
   ]
  },
  {
   "cell_type": "code",
   "execution_count": null,
   "id": "61cb2429",
   "metadata": {},
   "outputs": [],
   "source": [
    "fig, axs = plt.subplots(1, 2, figsize=(5,5), frameon=False, gridspec_kw={'width_ratios': [ 1, 1]})\n",
    "\n",
    "\n",
    "kwargs = {\"alpha\":0.5, \"density\":False, \"bins\":50}\n",
    "A= np.array((a0.tolist(), a1.tolist())).flatten()\n",
    "_, bins, _ = axs[0].hist(a0, **kwargs, color=\"white\")\n",
    "axs[0].hist(a0, bins=bins, alpha=.6, label=\"scVelo\", color=\"r\")\n",
    "axs[0].hist(a1, bins=bins, alpha = .6, color=\"royalblue\", label=\"κ-velo\")\n",
    "axs[0].set_title(\"Change in vector direction\")\n",
    "#axs[0].set_xticks([0.5, 1])\n",
    "axs[0].set_yscale('log') \n",
    "axs[0].set_ylabel(\"Frequency\")\n",
    "axs[0].set_xlabel(\"Cosine similarity\")\n",
    "axs[0].legend()\n",
    "\n",
    "D= np.array((d0.tolist(), d1.tolist())).flatten()\n",
    "_, bins, _ = axs[1].hist(d0, **kwargs, color=\"white\", range=(-.5, .5))\n",
    "axs[1].hist(d0, bins=bins, alpha = .6, label=\"scVelo\", color=\"r\")\n",
    "axs[1].hist(d1, bins=bins, alpha = .6, color=\"royalblue\", label=\"κ-velo\")\n",
    "axs[1].set_title(\"Change in vector length\")\n",
    "axs[1].set_yscale('log') \n",
    "axs[1].sharey(axs[0])\n",
    "axs[1].set_ylabel(\"Frequency\")\n",
    "axs[1].set_xlabel(\"Diff. in vector norm\")\n",
    "#axs[1].set_xticks([-1,0,1])\n",
    "\n",
    "axs[0].legend(fontsize=10)\n",
    "plt.tight_layout()\n",
    "\n",
    "# save figure\n",
    "save_path = \"../figures/Fig3E_length_and_direction_compared.pdf\"\n",
    "plt.savefig(save_path, dpi=200, transparent=True)\n",
    "\n",
    "plt.show()"
   ]
  },
  {
   "cell_type": "code",
   "execution_count": null,
   "id": "00b855b9",
   "metadata": {},
   "outputs": [],
   "source": [
    "fig, axs = plt.subplots(1, 1, figsize=(5,5), frameon=False)\n",
    "axs=[axs]\n",
    "\n",
    "kwargs = {\"alpha\":0.5, \"density\":False, \"bins\":50}\n",
    "\n",
    "D= np.array((d0_.tolist(), d1_.tolist())).flatten()\n",
    "_, bins, _ = axs[0].hist(d0_, **kwargs, color=\"white\")#, range=(0, .5))\n",
    "axs[0].hist(d0_, bins=bins, alpha = .6, label=\"scVelo\", color=\"r\")\n",
    "axs[0].hist(d1_, bins=bins, alpha = .6, color=\"royalblue\", label=\"κ-velo\")\n",
    "axs[0].set_title(\"Norm of the errors\")\n",
    "axs[0].set_yscale('log') \n",
    "axs[0].set_ylabel(\"Frequency\")\n",
    "axs[0].set_xlabel(\"Norm of the diff. in vectors\")\n",
    "#axs[1].set_xticks([0,1])\n",
    "\n",
    "axs[0].legend(fontsize=10)\n",
    "plt.tight_layout()\n",
    "\n",
    "# save figure\n",
    "save_path = \"../figures/FigS11A_norm_of_the_errors.pdf\"\n",
    "plt.savefig(save_path, dpi=200, transparent=True)\n",
    "\n",
    "plt.show()"
   ]
  },
  {
   "cell_type": "code",
   "execution_count": null,
   "id": "0072fc82",
   "metadata": {},
   "outputs": [],
   "source": [
    "fig, ax = plt.subplots(1, 1, figsize=(7,7), frameon=False)\n",
    "kwargs = {\"alpha\":.5, \"s\":10}\n",
    "plt.scatter(a0, d0, label=\"scVelo\", color=\"tab:red\", **kwargs)\n",
    "plt.scatter(a1, d1, color=\"royalblue\", label=\"κ-velo\", **kwargs)\n",
    "plt.xlim(0.5, 1)\n",
    "ax.set_xlabel(\"Cosine similarity\", size=18), ax.set_ylabel(\"Diff. in vector norm\", size=20)\n",
    "ax.legend(fontsize=20)\n",
    "ax.set_xticks([ 0.5, 1])\n",
    "plt.tight_layout()\n",
    "\n",
    "# save figure\n",
    "save_path = \"../figures/FigS11B_error_by_cosine.pdf\"\n",
    "plt.savefig(save_path, dpi=200, transparent=True)\n",
    "\n",
    "\n",
    "plt.show()"
   ]
  },
  {
   "cell_type": "markdown",
   "id": "79fe2ede",
   "metadata": {},
   "source": [
    "Plot all three figures (Figure 2C-E) in the same figure. "
   ]
  },
  {
   "cell_type": "code",
   "execution_count": null,
   "id": "a58744fa",
   "metadata": {},
   "outputs": [],
   "source": [
    "### plot all three figures together\n",
    "fig, axs = plt.subplots(1, 4, figsize=(12,4), frameon=False, gridspec_kw={'width_ratios': [2, 2, 1, 1]})\n",
    "\n",
    "# plot recovered kappas\n",
    "x, y = kappa, scaled_data.var[\"fit_beta\"]*100\n",
    "axs[0].scatter(x, y, s=10, c=\"black\")\n",
    "axs[0].set_xticks([0, 5, 10, 15])\n",
    "axs[0].set_yticks([0, 2])\n",
    "axs[0].text(np.max(x)/30, np.max(y)+0.15, \"Person's corr: \"+str(np.round(pearsonr(x, y)[0],2)), bbox={'facecolor': 'white', 'pad': 10})\n",
    "\n",
    "# plot velocities comparison \n",
    "kwargs = {\"alpha\":.8, \"s\":30}\n",
    "idx = [10,80]\n",
    "cells = np.arange(0, n_obs, 10)\n",
    "xlim = (np.min(v_true), np.max(v_true))\n",
    "\n",
    "# for all cell over all genes\n",
    "axs[1].scatter(v_true[:,idx[1]][cells], v_scvelo[:,idx[1]][cells], \n",
    "           label=\"scVelo - fast gene\", color=\"tab:red\",  **kwargs)\n",
    "axs[1].scatter(v_true[:,idx[0]][cells], v_scvelo[:,idx[0]][cells], \n",
    "           label=\"scVelo - slow gene\", color=\"lightcoral\",marker=\"v\", **kwargs)\n",
    "axs[1].scatter(v_true[:,idx[1]][cells], v_scaled[:,idx[1]][cells], \n",
    "           label=\"κ-velo - fast gene\", color=\"royalblue\", **kwargs)\n",
    "axs[1].scatter(v_true[:,idx[0]][cells], v_scaled[:,idx[0]][cells], \n",
    "           label=\"κ-velo - slow gene\", color=\"deepskyblue\",marker=\"v\", **kwargs)\n",
    "l = .3\n",
    "axs[1].set_xlim((-l,l)), axs[1].set_ylim((-l, l))\n",
    "axs[1].legend(fontsize=9)\n",
    "axs[1].set_xticks([-.5, 0, .5]), axs[1].set_yticks([-.5, 0, .5])\n",
    "# plot direction comparison\n",
    "axs[2].set_yscale('log') \n",
    "kwargs = {\"alpha\":0.5, \"density\":False, \"bins\":50}\n",
    "_, bins, _ = axs[2].hist(A, **kwargs, color=\"white\")\n",
    "axs[2].hist(a0, bins=bins, alpha=.6, label=\"scVelo\", color=\"r\")\n",
    "axs[2].hist(a1, bins=bins, alpha = .6, color=\"royalblue\", label=[\"k-velo\"])\n",
    "axs[2].set_xticks([-1, 0, 1])\n",
    "axs[2].set_yscale('log') \n",
    "# plot size comparison\n",
    "_, bins, _ = axs[3].hist(D, **kwargs, color=\"white\", range=(-1, 1))\n",
    "axs[3].hist(d0, bins=bins, alpha = .6, label=\"scVelo\", color=\"r\")\n",
    "axs[3].hist(d1, bins=bins, alpha = .6, color=\"royalblue\", label=[\"K-SV\"])\n",
    "axs[3].set_yscale('log') \n",
    "axs[3].sharey(axs[2])\n",
    "axs[3].set_xticks([-1, 0, 1])\n",
    "plt.tight_layout()\n",
    "\n",
    "# save figure\n",
    "save_path = \"../figures/Fig3C-E_kappa_on_simulation.png\"\n",
    "plt.savefig(save_path, dpi=300, transparent=True)\n",
    "\n",
    "plt.show()"
   ]
  },
  {
   "cell_type": "markdown",
   "id": "971a6834",
   "metadata": {},
   "source": [
    "# Supplementary figures"
   ]
  },
  {
   "cell_type": "markdown",
   "id": "52e02bb4",
   "metadata": {},
   "source": [
    "### (1) Kappa from real time "
   ]
  },
  {
   "cell_type": "code",
   "execution_count": null,
   "id": "5c564eb7",
   "metadata": {},
   "outputs": [],
   "source": [
    "from velocity.tools.kappa_utils import *\n",
    "\n",
    "time = np.array(adata.obs.true_t.tolist())\n",
    "\n",
    "kappa_true_t = []\n",
    "for gene in adata.var_names:\n",
    "\n",
    "    reg, key, n = \"up\", \"fit\", 5000\n",
    "    alpha, beta, gamma, u, s, up_reg, down_reg = get_pars(adata, gene, key)\n",
    "\n",
    "    # in the case where we have a proxy of time we can also use it to assign cells to up \n",
    "    # and down-reg and ajust potential errors\n",
    "\n",
    "    up_reg = (time < adata[:,gene].var[\"true_t_\"][0])\n",
    "\n",
    "    r_ = up_reg if reg == \"up\" else down_reg\n",
    "\n",
    "    ordr = np.argsort(u[r_]) if reg == \"up\" else np.argsort(-u[r_])\n",
    "    reg_idx = np.where(r_)[0][ordr]\n",
    "    i = sample(n, u, reg, reg_idx)  # sampling of random pairs\n",
    "    delta_t = np.abs(time[i[1]] - time[i[0]])  # number of cells between i[0] and i[1]\n",
    "    (u0, u1) = u[i[0]], u[i[1]]  # u values for i[0] and i[1]\n",
    "\n",
    "    f = f_u(alpha if reg == \"up\" else 0, beta, u1, u0)\n",
    "    kappa_true_t.append( np.sum(f)/np.sum(delta_t))\n",
    "    #kappa_true_t.append(get_slope(delta_t, f))"
   ]
  },
  {
   "cell_type": "code",
   "execution_count": null,
   "id": "2e24a1e0",
   "metadata": {},
   "outputs": [],
   "source": [
    "\n",
    "fig, axs = plt.subplots(1, 1, figsize=(5,5), frameon=False)\n",
    "\n",
    "x, y = kappa*beta, kappa_true_t*adata.var[\"fit_beta\"]\n",
    "axs.scatter(x, y, color=\"black\")\n",
    "axs.set_xlabel(\"True kappa\")\n",
    "axs.set_ylabel(\"Fitted kappa from true time\")\n",
    "axs.text(np.max(x)/10, np.max(y)-np.max(y)/10, \"Person's corr: \"+str(np.round(pearsonr(x, y)[0],2)), #style='italic',\n",
    "        bbox={'facecolor': 'white', 'pad': 10})\n",
    "plt.tight_layout()\n",
    "# save figure\n",
    "save_path = \"../figures/FigS8A_kappa_from_true_t_A.pdf\"\n",
    "plt.savefig(save_path, dpi=100, transparent=True)\n",
    "\n",
    "\n",
    "fig, axs = plt.subplots(1, 1, figsize=(5,5), frameon=False)\n",
    "x, y = scaled_data.var[\"fit_beta\"]*100, kappa_true_t*adata.var[\"fit_beta\"]\n",
    "axs.scatter(x, y, color=\"black\")\n",
    "axs.set_xlabel(\"Fitted kappa from density\")\n",
    "axs.set_ylabel(\"Fitted kappa from true time\")\n",
    "axs.text(np.max(x)/10, np.max(y)-np.max(y)/10, \"Person's corr: \"+str(np.round(pearsonr(x, y)[0],2)), #style='italic',\n",
    "        bbox={'facecolor': 'white', 'pad': 10})\n",
    "plt.tight_layout()\n",
    "# save figure\n",
    "save_path = \"../figures/FigS8B_kappa_from_true_t_B.pdf\"\n",
    "plt.savefig(save_path, dpi=100, transparent=True)\n",
    "\n",
    "plt.show()"
   ]
  },
  {
   "cell_type": "markdown",
   "id": "c198bc9f",
   "metadata": {},
   "source": [
    "### (2) Kappa from s"
   ]
  },
  {
   "cell_type": "code",
   "execution_count": null,
   "id": "9c29531b",
   "metadata": {},
   "outputs": [],
   "source": [
    "### get kappa and scale anndata object\n",
    "beta_s = np.ones(scaled_data.shape[1])\n",
    "beta_u = scaled_data.var.fit_beta\n",
    "\n",
    "alpha, gamma, Uk = scaled_data.var.fit_alpha, scaled_data.var.fit_gamma, scaled_data.var.fit_U_switch\n",
    "scaling = scaled_data.var.fit_scaling\n",
    "Pi = scaled_data.layers[\"fit_Pi\"]\n",
    "unspliced, spliced = adata.layers[\"unspliced\"], adata.layers[\"spliced\"]\n",
    "for i in range(scaled_data.shape[1]):\n",
    "    if np.isnan(beta_u[i]):\n",
    "        beta_s[i] = np.nan\n",
    "    else:\n",
    "        k = (unspliced[:,i] * scaling[i]) > (gamma[i]/beta_u[i] * spliced[:,i])\n",
    "        st = S(alpha[i]/beta_u[i], gamma[i]/beta_u[i], 0, 0, Pi[:,i])\n",
    "        beta_s[i] = get_kappa(alpha=alpha[i]/beta_u[i], beta=1, gamma=gamma[i]/beta_u[i], \n",
    "                              ut=Pi[:,i], st=st, u_switch=Uk[i], k=k, mode=\"s\")\n",
    "\n",
    "\n"
   ]
  },
  {
   "cell_type": "code",
   "execution_count": null,
   "id": "a19ccf5a",
   "metadata": {},
   "outputs": [],
   "source": [
    "fig, axs = plt.subplots(1, 1, figsize=(5,5), frameon=False)\n",
    "x, y = beta_s.astype(float)*100, beta_u.astype(float)*100\n",
    "sub = (~np.isnan(y))&(~np.isnan(x))&(x!=-np.infty)\n",
    "x, y = x[sub], y[sub]\n",
    "plt.scatter(x, y, c=\"black\")\n",
    "axs.text(.15, 2, \n",
    "         \"Person's corr: \"+str(np.round(pearsonr(x, y)[0],2)),\n",
    "        bbox={'facecolor': 'white', 'pad': 10})\n",
    "axs.set_xlim((0, 2.2))\n",
    "axs.set_ylim((0, 2.2))\n",
    "axs.plot([0, 2.2], [0, 2.2])\n",
    "plt.xlabel(\"kappa from s(t)\")\n",
    "plt.ylabel(\"kappa from u(t)\")\n",
    "plt.savefig(\"../figures/FigS3A_kappa_from_S_sim.pdf\", dpi=200, transparent=True)\n",
    "plt.show()"
   ]
  },
  {
   "cell_type": "markdown",
   "id": "3fc4ae05",
   "metadata": {},
   "source": [
    "### (3) parallelogram approach\n",
    "To give you some insight on how $\\kappa$-velo calculate scaling factor $\\kappa$ for each gene, we zoom in on the application of the parallelogram approach on two genes a similar simulation. To get a better understanding of the approach, we highly recommend you to read Supplementary Note 1 in our manuscript. Below, you will find for both genes the u-s phase portrait and a scatter plot plotting $d(i,j)$ and $f(i,j)$, with a parellologram fitted around the points. The slope of the left border of the parellogram is used as an estimate for $\\kappa$."
   ]
  },
  {
   "cell_type": "code",
   "execution_count": null,
   "id": "06e8576e",
   "metadata": {},
   "outputs": [],
   "source": [
    "### define kwargs & functions \n",
    "ptkwargs = {\"s\":3, \"color\":\"grey\", \"alpha\":.8}\n",
    "lkwargs = dict(bounds=[(0.1, None)], x0=np.array([.1]), options={\"maxiter\": 2000, 'disp': True}, tol=1e-8, method=\"COBYLA\")\n",
    "\n",
    "def line(a, *args):\n",
    "    x, y = args[0], args[1]\n",
    "    x, y = x[x > .1], y[x > .1]\n",
    "    return np.sum(np.sqrt(((a*x)-y)**2))"
   ]
  },
  {
   "cell_type": "code",
   "execution_count": null,
   "id": "64608fc9",
   "metadata": {},
   "outputs": [],
   "source": [
    "### create new simulation \n",
    "np.random.seed(2)\n",
    "\n",
    "n_vars, n_obs, t_max, noise_level = 2, 3000, 20, [0.8]\n",
    "\n",
    "kappa = np.array([.5, 5])\n",
    "alpha, beta, gamma, switches = 5*kappa, .3*kappa, .15*kappa, [.8, .8]\n",
    "adata = scv.datasets.simulation(n_obs=n_obs, t_max=t_max, n_vars=n_vars, noise_level=noise_level, alpha=alpha, beta=beta, gamma=gamma, switches=switches)\n",
    "\n",
    "scv.tl.recover_dynamics(adata, use_raw=True, max_iter=1000)"
   ]
  },
  {
   "cell_type": "code",
   "execution_count": null,
   "id": "550ddeaf",
   "metadata": {},
   "outputs": [],
   "source": [
    "### plot parallelogram approach for gene 1\n",
    "fig, ax = plt.subplots(2, 1, figsize=(6, 8))\n",
    "\n",
    "j = \"0\"\n",
    "alpha, beta, gamma, ut, st, up_reg, down_reg = get_pars(adata, j)\n",
    "\n",
    "# plot almond\n",
    "scv.pl.scatter(adata,j, ax=ax[0], show=False, use_raw=True)\n",
    "ax[0].set_title(\"Gene 1\", size=15)\n",
    "\n",
    "# get density kappa\n",
    "alpha, beta, gamma, ut, st, up_reg, _ = get_pars(adata, j)\n",
    "t_dist, f = get_f_and_delta_t(ut, st, alpha, beta, _, up_reg, \"up\")\n",
    "a = op.minimize(line, args=(t_dist / np.max(t_dist), f / np.max(f)), **lkwargs).x\n",
    "\n",
    "# plot density kappa\n",
    "ax[1].scatter(t_dist, f,  **ptkwargs)\n",
    "ax[1].set_xlabel(\"d(i, j)\"), ax[1].set_ylabel(\"f(i, j)\")\n",
    "ax[1].plot(np.array([0, a]) * np.max(t_dist), np.array([0, 1]) * np.max(f), color=\"red\")\n",
    "\n",
    "# make plot less crowded\n",
    "for ax_ in ax:\n",
    "    ax_.set_xlim(0), ax_.set_ylim(0)\n",
    "    ax_.spines['right'].set_visible(False)\n",
    "    ax_.spines['top'].set_visible(False)\n",
    "\n",
    "plt.tight_layout()\n",
    "\n",
    "# save figure\n",
    "save_path = \"../figures/FigS2A_density-parallelogram.pdf\"\n",
    "plt.savefig(save_path, dpi=300, transparent=True)\n",
    "\n",
    "plt.show()"
   ]
  },
  {
   "cell_type": "code",
   "execution_count": null,
   "id": "99999514",
   "metadata": {},
   "outputs": [],
   "source": [
    "### print recovered kappa for gene 1\n",
    "print(((1 * np.max(f)) / (a * np.max(t_dist)))*beta *100)"
   ]
  },
  {
   "cell_type": "code",
   "execution_count": null,
   "id": "51b99f67",
   "metadata": {},
   "outputs": [],
   "source": [
    "### plot parallelogram approach for gene 2\n",
    "fig, ax = plt.subplots(2, 1, figsize=(6, 8))\n",
    "\n",
    "j = \"1\"\n",
    "alpha, beta, gamma, ut, st, up_reg, down_reg = get_pars(adata, j)\n",
    "\n",
    "# plot almond\n",
    "scv.pl.scatter(adata,j, ax=ax[0], show=False, use_raw=True)\n",
    "ax[0].set_title(\"Gene 2\", size=15)\n",
    "\n",
    "# plot density kappa\n",
    "t_dist, f = get_f_and_delta_t(ut, st, alpha, beta, _, up_reg, \"up\")\n",
    "\n",
    "kwargs = dict(bounds=[(0.1, None), (0.1, None), (0.1, None), (0.01, None)], x0=np.array([.1, 1, 1, .1]),\n",
    "              options={\"maxiter\": 2000, 'disp': True}, tol=1e-8, method=\"COBYLA\")\n",
    "mn = op.minimize(cost_parallelogram, args=(t_dist / np.max(t_dist), f / np.max(f)), **kwargs)\n",
    "a, b, c, d = mn.x\n",
    "\n",
    "ax[1].scatter(t_dist, f, **ptkwargs)\n",
    "ax[1].set_xlabel(\"d(i, j)\"), ax[1].set_ylabel(\"f(i, j)\")\n",
    "\n",
    "# recovered kappa line\n",
    "ax[1].plot(np.array([0, a]) * np.max(t_dist), np.array([0, b]) * np.max(f), color=\"red\")\n",
    "\n",
    "# rest of parallelogram\n",
    "ax[1].plot(np.array([a, (a + c), c, 0]) * np.max(t_dist), np.array([b, (b + d), d, 0]) * np.max(f), color=\"orange\")\n",
    "\n",
    "for ax_ in ax:\n",
    "    ax_.set_xlim(0), ax_.set_ylim(0)\n",
    "    ax_.spines['right'].set_visible(False)\n",
    "    ax_.spines['top'].set_visible(False)\n",
    "\n",
    "plt.tight_layout()\n",
    "\n",
    "# save figure\n",
    "save_path = \"../figures/FigS2B_density-parallelogram.pdf\"\n",
    "plt.savefig(save_path, dpi=300, transparent=True)\n",
    "\n",
    "plt.show()"
   ]
  }
 ],
 "metadata": {
  "kernelspec": {
   "display_name": "clone",
   "language": "python",
   "name": "clone"
  },
  "language_info": {
   "codemirror_mode": {
    "name": "ipython",
    "version": 3
   },
   "file_extension": ".py",
   "mimetype": "text/x-python",
   "name": "python",
   "nbconvert_exporter": "python",
   "pygments_lexer": "ipython3",
   "version": "3.8.5"
  }
 },
 "nbformat": 4,
 "nbformat_minor": 5
}
