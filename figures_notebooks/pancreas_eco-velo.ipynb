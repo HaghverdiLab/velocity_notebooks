{
 "cells": [
  {
   "cell_type": "markdown",
   "metadata": {},
   "source": [
    "## eco-velo on pancreas\n",
    "\n",
    "In this notebook we will apply our eco-velo method to the pancreas endocrinogenesis dataset. This dataset was originally published by Bastidas-Ponce and colleagues (https://doi.org/10.1242/dev.173849). \n"
   ]
  },
  {
   "cell_type": "code",
   "execution_count": null,
   "metadata": {},
   "outputs": [],
   "source": [
    "### load libraries\n",
    "\n",
    "# general libraries\n",
    "import numpy as np\n",
    "import pandas as pd\n",
    "\n",
    "# plotting libraries\n",
    "import matplotlib.pyplot as plt\n",
    "\n",
    "# dimension reduction libraries\n",
    "from sklearn.decomposition import PCA #for creating PCAs\n",
    "from sklearn.preprocessing import StandardScaler #for creating PCAs\n",
    "import umap\n",
    "from scipy.spatial import cKDTree\n",
    "\n",
    "# other\n",
    "import sklearn as sk #used for L2 normalization\n",
    "import time #to measure time of script running\n",
    "\n",
    "%load_ext autoreload\n",
    "%autoreload 2\n",
    "# import our own functions\n",
    "from velocity.tools.eco_velo import *\n",
    "import velocity.processing as pp\n",
    "from velocity.visualisation.pretty_plotting import lighten_color\n",
    "from velocity.processing import filtering "
   ]
  },
  {
   "cell_type": "code",
   "execution_count": null,
   "metadata": {},
   "outputs": [],
   "source": [
    "### current timestamp\n",
    "begin_time = time.time()"
   ]
  },
  {
   "cell_type": "markdown",
   "metadata": {},
   "source": [
    "### Load original dataset\n",
    "\n",
    "First, load the pancreas endocrinogenesis dataset. The dataset is made accesible in the scVelo package (version 0.2.4) and can be downloaded using the function `scvelo.datasets.pancreas()`. "
   ]
  },
  {
   "cell_type": "code",
   "execution_count": null,
   "metadata": {},
   "outputs": [],
   "source": [
    "### load pancreas dataset\n",
    "pancreas_path = \"../../prj_velocity/datasets/pancreas/pancreas.h5ad\"\n",
    "import anndata as ad\n",
    "adata = ad.read_h5ad(pancreas_path) \n",
    "\n",
    "### convert matrices from sparse to dense\n",
    "adata.X = adata.X.todense()\n",
    "adata.layers['spliced'] = adata.layers['spliced'].todense()\n",
    "adata.layers['unspliced'] = adata.layers['unspliced'].todense()"
   ]
  },
  {
   "cell_type": "markdown",
   "metadata": {},
   "source": [
    "## Prepare the data\n",
    "\n",
    "Process the dataset for eco-velo analysis. Please refer to https://doi.org/10.1101/2022.03.17.484754If to know more about processing. \n",
    "\n",
    "\n",
    "- (1) select HVGs, using analytic Pearson residuals (Lause et al., 2021 https://doi.org/10.1186/s13059-021-02451-7).\n",
    "- (2) filter cell cycle genes, and genes with too low unspliced / spliced counts\n",
    "- (3) normalise, and log-transform data"
   ]
  },
  {
   "cell_type": "markdown",
   "metadata": {},
   "source": [
    "#### (1) HVGs"
   ]
  },
  {
   "cell_type": "code",
   "execution_count": null,
   "metadata": {},
   "outputs": [],
   "source": [
    "### select HVGs\n",
    "hvgs = pp.filtering.get_hvgs(adata, no_of_hvgs=5000, theta=100, layer='spliced')\n",
    "print(\"Subsetting to top \" + str(len(hvgs)) + \" highly-variable genes.\")\n",
    "adata = adata[:, hvgs]"
   ]
  },
  {
   "cell_type": "markdown",
   "metadata": {},
   "source": [
    "#### (2) filtering"
   ]
  },
  {
   "cell_type": "code",
   "execution_count": null,
   "metadata": {},
   "outputs": [],
   "source": [
    "# remove cycling genes\n",
    "cc_path = \"../datasets/pancreas/cell_cycle_markers_all.csv\"\n",
    "cc_markers = pd.read_csv(cc_path, sep=\";\")\n",
    "cc_markers = cc_markers[\"gene\"].values\n",
    "cc_markers = np.unique(cc_markers)\n",
    "adata = adata[:, [i not in cc_markers for i in adata.var_names]]"
   ]
  },
  {
   "cell_type": "code",
   "execution_count": null,
   "metadata": {},
   "outputs": [],
   "source": [
    "### subset for genes that have high enough U and S counts\n",
    "minlim = 3\n",
    "us_genes = pp.filtering.get_high_us_genes(adata, minlim_u=minlim, minlim_s=minlim)\n",
    "print(\"Subsetting to \" + str(len(us_genes)) + \" genes with sufficient S and U counts.\")\n",
    "adata = adata[:,us_genes]"
   ]
  },
  {
   "cell_type": "markdown",
   "metadata": {},
   "source": [
    "#### (3) normalise\n",
    "\n",
    "Log-transform and L2 normalise the dataset. Normalisation is applied to spliced and unspliced counts seperately."
   ]
  },
  {
   "cell_type": "code",
   "execution_count": null,
   "metadata": {},
   "outputs": [],
   "source": [
    "### log transformation of the dataset\n",
    "adata.X = np.array(np.where(adata.X != 0, np.log(adata.X), 0))\n",
    "adata.layers['spliced'] = np.array(np.where(adata.layers['spliced'] != 0, np.log(adata.layers['spliced']), 0))\n",
    "adata.layers['unspliced'] = np.array(np.where(adata.layers['unspliced'] != 0, np.log(adata.layers['unspliced']), 0))"
   ]
  },
  {
   "cell_type": "code",
   "execution_count": null,
   "metadata": {},
   "outputs": [],
   "source": [
    "### L2 normalise spliced and unspliced separately\n",
    "adata.layers['spliced'] = sk.preprocessing.normalize(adata.layers['spliced'], norm='l2')\n",
    "adata.layers['unspliced'] = sk.preprocessing.normalize(adata.layers['unspliced'], norm='l2')"
   ]
  },
  {
   "cell_type": "markdown",
   "metadata": {},
   "source": [
    "## Calculate new UMAP embedding\n",
    "\n",
    "Since we removed many of the original genes from the dataset, we will recalculate the UMAP embedding. "
   ]
  },
  {
   "cell_type": "markdown",
   "metadata": {},
   "source": [
    "First, we run a PCA on scaled spliced data."
   ]
  },
  {
   "cell_type": "code",
   "execution_count": null,
   "metadata": {},
   "outputs": [],
   "source": [
    "### scale data (spliced counts)\n",
    "scal = StandardScaler()\n",
    "spliced_scaled = scal.fit_transform(adata.layers[\"spliced\"])"
   ]
  },
  {
   "cell_type": "code",
   "execution_count": null,
   "metadata": {},
   "outputs": [],
   "source": [
    "### run PCA\n",
    "n_pcs = 10\n",
    "pca = PCA(n_components=n_pcs, random_state=0)\n",
    "pca.fit(spliced_scaled)\n",
    "pca_pts = pca.transform(spliced_scaled)"
   ]
  },
  {
   "cell_type": "code",
   "execution_count": null,
   "metadata": {},
   "outputs": [],
   "source": [
    "### calculate UMAP\n",
    "reducer = umap.UMAP(random_state=0, n_neighbors=30, min_dist=1, n_components=2, metric=\"euclidean\")\n",
    "UMAP_data = reducer.fit_transform(pca_pts)"
   ]
  },
  {
   "cell_type": "code",
   "execution_count": null,
   "metadata": {},
   "outputs": [],
   "source": [
    "# flip s.t. it is in the same orientation as the other figure\n",
    "UMAP_data[:,1]=-UMAP_data[:,1]"
   ]
  },
  {
   "cell_type": "code",
   "execution_count": null,
   "metadata": {},
   "outputs": [],
   "source": [
    "### get colors of each cluster\n",
    "color_dict = dict(zip(adata.obs[\"clusters\"].cat.categories, adata.uns[\"clusters_colors\"]))\n",
    "c=adata.obs[\"clusters\"].map(color_dict)\n",
    "\n",
    "### plot UMAP (just spliced counts)\n",
    "fig, ax = plt.subplots(1, 1, figsize=(4, 3), frameon=False)\n",
    "ax.scatter(UMAP_data[:,0], UMAP_data[:,1], s=10, c=c)\n",
    "ax.axis(\"off\")\n",
    "fig.tight_layout()\n",
    "plt.show()"
   ]
  },
  {
   "cell_type": "markdown",
   "metadata": {},
   "source": [
    "## MNN on original gene space\n",
    "\n",
    "Last in the eco-velo workflow for each cell we will use its unspliced counts to find the mutual nearest neighbour (MNN) between all cells, defined by their spliced counts. \n",
    "\n",
    "Note: since we try to find an MNN in the first 50 neighbours, it might be that some cells are not assigned to any MNN."
   ]
  },
  {
   "cell_type": "code",
   "execution_count": null,
   "metadata": {},
   "outputs": [],
   "source": [
    "### identify MNNs\n",
    "k = 50\n",
    "mnn = find_mutual_nn(adata.layers['unspliced'], adata.layers['spliced'], top_n=5, k = k)\n",
    "print(np.sum(np.all(mnn==-1, axis=1))) # have no neighbors within top top_n"
   ]
  },
  {
   "cell_type": "code",
   "execution_count": null,
   "metadata": {},
   "outputs": [],
   "source": [
    "### select MNNs\n",
    "pos = UMAP_data[mnn]\n",
    "pos[np.array(mnn)==-1]=np.nan\n",
    "pos = np.nanmean(pos, axis=1)"
   ]
  },
  {
   "cell_type": "code",
   "execution_count": null,
   "metadata": {},
   "outputs": [],
   "source": [
    "### smoothing; averaging position over nearest neighbours\n",
    "NN = cKDTree(adata.layers['spliced']).query(x=adata.layers['spliced'], k=30)[1]\n",
    "pos_mean = np.nanmean(np.array(pos)[NN], axis=1)\n"
   ]
  },
  {
   "cell_type": "markdown",
   "metadata": {},
   "source": [
    "To calculate the running time of the complete time of the $\\kappa$-velo approach on the pancreas endocrinogenesis dataset, we started a timer all the way at the beginning. Here we stop the time and calculate how much time has passed."
   ]
  },
  {
   "cell_type": "code",
   "execution_count": null,
   "metadata": {},
   "outputs": [],
   "source": [
    "### aaaand cut!\n",
    "end_time = time.time()\n",
    "\n",
    "def format_time(t):\n",
    "  return f\"{int(t/3600)}H {int((t/60)%60) if t/3600>0 else int(t/60)}M {int(t%60)}S\"\n",
    "\n",
    "print(format_time(end_time-begin_time))"
   ]
  },
  {
   "cell_type": "code",
   "execution_count": null,
   "metadata": {},
   "outputs": [],
   "source": [
    "### get points for UMAP\n",
    "v = np.array(pos) - UMAP_data\n",
    "v_mean = pos_mean - UMAP_data"
   ]
  },
  {
   "cell_type": "code",
   "execution_count": null,
   "metadata": {},
   "outputs": [],
   "source": [
    "### set arguments for visualisation\n",
    "light_color = np.array([lighten_color(i, .3) for i in c])\n",
    "umap_pltkwargs={\"figsize\":(10, 8), \"frameon\":False}\n",
    "umap_quiver_kwargs = {\"scale\": 3, \"angles\": \"xy\", \"scale_units\": \"xy\", \"edgecolors\": \"k\",\n",
    "                      \"linewidth\": 0.5, \"headlength\": 7, \"headwidth\": 5, \"headaxislength\": 6}\n",
    "sub = np.any(mnn>=0, axis=1)\n",
    "sub[np.arange(0, len(sub), 5)]=False"
   ]
  },
  {
   "cell_type": "code",
   "execution_count": null,
   "metadata": {},
   "outputs": [],
   "source": [
    "### create UMAP plot (eco-velo visualisation)\n",
    "fig, ax = plt.subplots(1, 1, **umap_pltkwargs)\n",
    "\n",
    "ax.scatter(UMAP_data[:,0], UMAP_data[:,1], s=100, c=light_color)\n",
    "ax.axis(\"off\")\n",
    "ax.quiver(UMAP_data[sub,0], UMAP_data[sub,1], v[sub,0], v[sub,1], color=c[sub], **umap_quiver_kwargs)\n",
    "\n",
    "fig.tight_layout()\n",
    "\n",
    "# save figure\n",
    "save_path = \"../figures/Fig5C_UMAP_pancreas_eco-velo.png\"\n",
    "plt.savefig(save_path, dpi=300, transparent=True)\n",
    "\n",
    "plt.show()"
   ]
  },
  {
   "cell_type": "code",
   "execution_count": null,
   "metadata": {
    "scrolled": false
   },
   "outputs": [],
   "source": [
    "### make smoothed UMAP plot \n",
    "fig, ax = plt.subplots(1, 1, **umap_pltkwargs)\n",
    "\n",
    "ax.scatter(UMAP_data[:,0], UMAP_data[:,1], s=100, c=light_color)\n",
    "ax.axis(\"off\")\n",
    "sub = np.any(mnn>=0, axis=1)\n",
    "ax.quiver(UMAP_data[sub,0], UMAP_data[sub,1], v_mean[sub,0], v_mean[sub,1], color=c[sub], **umap_quiver_kwargs)\n",
    "\n",
    "fig.tight_layout()\n",
    "\n",
    "# save figure\n",
    "save_path = \"../figures/FigS8_UMAP_pancreas_eco-velo_smoothed.png\"\n",
    "plt.savefig(save_path, dpi=300, transparent=True)\n",
    "\n",
    "plt.show()"
   ]
  },
  {
   "cell_type": "markdown",
   "metadata": {},
   "source": [
    "## Supplementary figures\n",
    "\n",
    "#### Comparison to $\\kappa$-velo"
   ]
  },
  {
   "cell_type": "code",
   "execution_count": null,
   "metadata": {},
   "outputs": [],
   "source": [
    "# import UMAP coordinates and kappa-velo velocities\n",
    "UMAP_kappa_velo = np.array(pd.read_csv(\"../datasets/pancreas/umap_coor.csv\", index_col=0))\n",
    "kappa_velo_v = np.array(pd.read_csv(\"../datasets/pancreas/umap_kappa-velo_velocities.csv\", index_col=0))\n",
    "\n",
    "kappa_velo_v/=np.std(kappa_velo_v)"
   ]
  },
  {
   "cell_type": "code",
   "execution_count": null,
   "metadata": {},
   "outputs": [],
   "source": [
    "# project eco-velo on same UMAP\n",
    "eco_velo_v = UMAP_kappa_velo[mnn]\n",
    "eco_velo_v[np.array(mnn)==-1]=np.nan\n",
    "eco_velo_v = np.nanmean(eco_velo_v, axis=1)\n",
    "\n",
    "v = eco_velo_v - UMAP_kappa_velo\n",
    "v/=np.nanstd(v)*1\n",
    "\n",
    "#pos_mean = np.nanmean(np.array(eco_velo_v)[NN], axis=1)\n",
    "#v = pos_mean - UMAP_kappa_velo\n",
    "#v/=np.nanstd(v)"
   ]
  },
  {
   "cell_type": "code",
   "execution_count": null,
   "metadata": {},
   "outputs": [],
   "source": [
    "umap_quiver_kwargs = {\"scale\": 1, \"angles\": \"xy\", \"scale_units\": \"xy\", \"edgecolors\": \"k\",\n",
    "                      \"linewidth\": 0.2, \"headlength\": 7, \"headwidth\": 5, \"headaxislength\": 6}\n",
    "\n",
    "### create UMAP plot (eco-velo visualisation)\n",
    "fig, ax = plt.subplots(1, 1, figsize=(5, 4.5))\n",
    "\n",
    "ax.scatter(UMAP_kappa_velo[:,0], UMAP_kappa_velo[:,1], s=20, c=light_color)\n",
    "ax.axis(\"off\")\n",
    "ax.quiver(UMAP_kappa_velo[sub,0], UMAP_kappa_velo[sub,1], v[sub,0], v[sub,1], color=c[sub], **umap_quiver_kwargs)\n",
    "markers = [plt.Line2D([0,0],[0,0],color=color, marker='o', linestyle='') for color in color_dict.values()]\n",
    "plt.legend(markers, color_dict.keys(), numpoints=1, loc=\"lower right\", fontsize=7)\n",
    "plt.title(\"eco-velo velocities\", fontsize = 16)\n",
    "fig.tight_layout()\n",
    "\n",
    "# save figure\n",
    "save_path = \"../figures/FigXX_UMAP_pancreas_eco-velo_kappa_UMAP.png\"\n",
    "plt.savefig(save_path, dpi=300, transparent=True)\n",
    "\n",
    "plt.show()"
   ]
  },
  {
   "cell_type": "code",
   "execution_count": null,
   "metadata": {},
   "outputs": [],
   "source": [
    "from velocity.visualisation.vis_utils import vector_distance\n",
    "### calculate change in direction\n",
    "a0= vector_distance(v[sub], kappa_velo_v[sub], metric=\"cosine\")\n",
    "### calculate change in angle\n",
    "d0 = vector_distance(v[sub], kappa_velo_v[sub], metric=\"norm_diff\")\n",
    "n0 = vector_distance(v[sub], kappa_velo_v[sub], metric=\"diff_norm\")"
   ]
  },
  {
   "cell_type": "code",
   "execution_count": null,
   "metadata": {},
   "outputs": [],
   "source": [
    "v[sub].shape"
   ]
  },
  {
   "cell_type": "code",
   "execution_count": null,
   "metadata": {},
   "outputs": [],
   "source": [
    "from matplotlib import rcParams # for changing the parameters of the scVelo figures\n",
    "\n",
    "rcParams[\"axes.spines.left\"] = False\n",
    "rcParams[\"axes.spines.bottom\"] = False\n",
    "rcParams[\"axes.grid\"] = False\n",
    "rcParams[\"axes.spines.right\"] = False\n",
    "rcParams[\"axes.spines.top\"] = False\n",
    "\n",
    "titles = [\"Cosine similarity\", \n",
    "         \"Diff. in vector norm\", \n",
    "         \"Norm of the errors\"]\n",
    "color = [a0, d0, n0]\n",
    "cmaps = [\"YlOrRd_r\", \n",
    "         \"bwr\",\n",
    "        \"YlOrRd\"]\n",
    "vmin_vmax = [(-1, 1),  \n",
    "             (-5, 5),\n",
    "             (0, 5)]\n",
    "save_name = [\"fig_cosine_pancreas_eco_velo\", \n",
    "             \"fig_norm_pancreas_eco_velo\",\n",
    "             \"fig_errors_pancreas_eco_velo\"]\n",
    "for i in range(3):\n",
    "    fig, axs = plt.subplots(1,1, figsize=(5, 4.5), frameon=False)\n",
    "    vmin, vmax=vmin_vmax[i]\n",
    "    axs.scatter(UMAP_kappa_velo[~sub,0], UMAP_kappa_velo[~sub,1], s=10, color=\"lightgrey\",alpha=1)\n",
    "    im = axs.scatter(UMAP_kappa_velo[sub,0], UMAP_kappa_velo[sub,1], s=10, c=color[i], alpha=1, \n",
    "                     vmin=vmin, vmax=vmax, cmap=cmaps[i])\n",
    "    cax = fig.add_axes([0.52, 0.85, 0.4, 0.03])\n",
    "    cbar = fig.colorbar(im, cax=cax, orientation='horizontal')\n",
    "    cbar.ax.tick_params(labelsize=15)\n",
    "    #cbar.ax.set_yticklabels([\"0\", \"1\", \"3\", \"4\"], fontsize=10)\n",
    "    axs.set_title(titles[i], fontsize=16)\n",
    "    axs.set_yticks([])\n",
    "    axs.set_xticks([])\n",
    "    plt.tight_layout()\n",
    "    plt.savefig(\"../figures/\"+save_name[i], dpi=300, transparent=True)\n",
    "\n",
    "plt.show()"
   ]
  },
  {
   "cell_type": "code",
   "execution_count": null,
   "metadata": {},
   "outputs": [],
   "source": []
  }
 ],
 "metadata": {
  "kernelspec": {
   "display_name": "clone",
   "language": "python",
   "name": "clone"
  },
  "language_info": {
   "codemirror_mode": {
    "name": "ipython",
    "version": 3
   },
   "file_extension": ".py",
   "mimetype": "text/x-python",
   "name": "python",
   "nbconvert_exporter": "python",
   "pygments_lexer": "ipython3",
   "version": "3.8.5"
  }
 },
 "nbformat": 4,
 "nbformat_minor": 4
}
