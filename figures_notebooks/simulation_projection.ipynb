{
 "cells": [
  {
   "cell_type": "markdown",
   "id": "ef225a2b",
   "metadata": {},
   "source": [
    "# Projection of velocities on simulation\n",
    "\n",
    "In this notebook we illustrate the advantages of Nyström projection method to visualise velocities on a simulated dataset. Low-dimensional representation of velocity should preserve:\n",
    "- the direction of the vectors \n",
    "- the magnitude (speed of change) of the vectors\n",
    "- local variations (representing fluctuations of the dynamics & cell plasticities)\n",
    "\n",
    "This notebook reproduces figures 1 and S6-S7. "
   ]
  },
  {
   "cell_type": "code",
   "execution_count": null,
   "id": "eastern-anthony",
   "metadata": {},
   "outputs": [],
   "source": [
    "### load libraries\n",
    "\n",
    "# general libraries\n",
    "import numpy as np\n",
    "\n",
    "# single cell libraries\n",
    "import scvelo as scv\n",
    "\n",
    "# plotting libraries\n",
    "import matplotlib.pyplot as plt\n",
    "\n",
    "# dimension reduction libraries\n",
    "from sklearn.decomposition import PCA\n",
    "from sklearn.preprocessing import StandardScaler #for creating PCAs\n",
    "from sklearn.manifold import TSNE\n",
    "import umap"
   ]
  },
  {
   "cell_type": "code",
   "execution_count": null,
   "id": "c4207bf0",
   "metadata": {},
   "outputs": [],
   "source": [
    "%load_ext autoreload\n",
    "%autoreload 2\n",
    "\n",
    "from velocity.visualisation.vis import nystroem_project\n",
    "from velocity.tools.fit import get_velocity\n",
    "from simulation import *"
   ]
  },
  {
   "cell_type": "markdown",
   "id": "2499e3c9",
   "metadata": {},
   "source": [
    "# Generate simulation\n",
    "\n",
    "We want to assess different aspects of velocity projection:\n",
    "\n",
    "- how different visualisation methods capture regions with both high- and low variance and speed \n",
    "- how the methods could handle projecting new states to a space outside of the space observed in the original set\n",
    "\n",
    "To show both of these aspects, we generated a simulation with high variance in root cell states, and faster velocities towards the end of the branch. The final state is not yet reached, and the velocities of the latest cells point towards not yet observed future states."
   ]
  },
  {
   "cell_type": "code",
   "execution_count": null,
   "id": "proof-sugar",
   "metadata": {},
   "outputs": [],
   "source": [
    "### set random seed\n",
    "np.random.seed(3)\n",
    "\n",
    "### set variables\n",
    "n_vars, n_obs, t_max, noise_level = 25, 3000, 10, 1\n",
    "switches = np.arange(.9, 0.999, (.999-.9)/n_vars)\n",
    "start_t = None\n",
    "\n",
    "### set parameters alpha, beta gamma\n",
    "mu = np.array([1, .2, .05])\n",
    "R = np.array([[1., .2, .2], \n",
    "              [.2, 1., .2], \n",
    "              [.2, .2, 1.]])\n",
    "C = np.array([0.2, 0.2, 0.2])[:, None]\n",
    "cov = C.dot(C.T) * R\n",
    "alpha, beta, gamma = np.exp(np.random.multivariate_normal(mu, cov, size=n_vars).T)  # multivariate log-normal\n",
    "beta /= 3\n",
    "gamma /= 3\n",
    "\n",
    "### scale genes to different time scales (kappa)\n",
    "max_kappa = 15\n",
    "min_kappa = 1\n",
    "kappa = np.random.uniform(min_kappa, max_kappa, n_vars)\n",
    "kappa[0:3]=1\n",
    "alpha, beta, gamma, switches = alpha*kappa, beta*kappa, gamma*kappa, switches\n",
    "\n",
    "### create simulation dataset\n",
    "adata = simulation(n_obs=n_obs, t_max=t_max, n_vars=n_vars, noise_level=noise_level, alpha=alpha, beta=beta, gamma=gamma, switches=switches, start_t=start_t)\n",
    "\n",
    "### remove first 150 cells\n",
    "adata = adata[0:n_obs-150].copy()\n",
    "scv.pp.neighbors(adata)\n",
    "\n",
    "### recover true velocities\n",
    "get_velocity(adata, key=\"true\", normalise=\"std\")"
   ]
  },
  {
   "cell_type": "markdown",
   "id": "65188252",
   "metadata": {},
   "source": [
    "### Visualisation of velocities \n",
    "\n",
    "After calculatio of the low-dimensional embedding using the spliced counts (adata.layers[\"spliced\"]), we visualise the true velocities using Nyström projection and compare it to scVelo's approach. We compare the two approaches on:\n",
    "1. PCA\n",
    "2. t-SNE\n",
    "3. diffusion map\n",
    "4. UMAP"
   ]
  },
  {
   "cell_type": "markdown",
   "id": "d953cb2a",
   "metadata": {},
   "source": [
    "### 1. PCA \n",
    "\n",
    "These figures correspond to Figure 1A and 1B in the manuscript."
   ]
  },
  {
   "cell_type": "code",
   "execution_count": null,
   "id": "16a44901",
   "metadata": {},
   "outputs": [],
   "source": [
    "### calculate PCA embedding\n",
    "pca = PCA(n_components=10, copy=True)\n",
    "pc = pca.fit(adata.layers[\"spliced\"])\n",
    "pca_data = pc.transform(adata.layers[\"spliced\"])"
   ]
  },
  {
   "cell_type": "code",
   "execution_count": null,
   "id": "e0eb2a58",
   "metadata": {},
   "outputs": [],
   "source": [
    "plt.subplots(1, 1, figsize=(3, 2))\n",
    "plt.scatter(pca_data[:,0], pca_data[:,1], s=3, c=adata.obs[\"true_t\"])\n",
    "plt.xticks([]), plt.yticks([])\n",
    "plt.title(\"PCA - color: true time\")\n",
    "plt.colorbar()\n",
    "plt.show()"
   ]
  },
  {
   "cell_type": "code",
   "execution_count": null,
   "id": "c3e3cbc8",
   "metadata": {},
   "outputs": [],
   "source": [
    "### our projection approach\n",
    "pca_fut =  pc.transform(adata.layers[\"spliced\"] + adata.layers[\"velocity\"]/2)\n",
    "v_pca = pca_fut-pca_data"
   ]
  },
  {
   "cell_type": "code",
   "execution_count": null,
   "id": "85de8ee8",
   "metadata": {},
   "outputs": [],
   "source": [
    "## scvelo projection approach\n",
    "adata.obsm[\"X_pca\"]=pca_data\n",
    "bdata = adata.copy()\n",
    "scv.tl.velocity_graph(bdata)\n",
    "scv.tl.velocity_embedding(bdata, \"pca\")#, scale=0.10)\n",
    "v_pca_scv = bdata.obsm[\"velocity_pca\"][:,0:2]\n",
    "v_pca_scv/=np.std(v_pca_scv)\n",
    "v_pca_scv*=np.std(v_pca)"
   ]
  },
  {
   "cell_type": "code",
   "execution_count": null,
   "id": "4ba0c262",
   "metadata": {},
   "outputs": [],
   "source": [
    "### select cells to highlight\n",
    "idxfirst, step = 600, 5\n",
    "sub = np.arange(idxfirst, adata.shape[0], 5) \n",
    "\n",
    "cell = pca_data[idxfirst+step*5]\n",
    "dist = np.sum((pca_data[sub]-cell)**2, axis=1)\n",
    "sub_slow = sub[np.argsort(dist)[0:45]] #sample cells at very beginning of trajectory\n",
    "\n",
    "cell = pca_data[idxfirst+step*410]\n",
    "dist = np.sum((pca_data[sub]-cell)**2, axis=1)\n",
    "sub_fast = sub[np.argsort(dist)[0:20]] "
   ]
  },
  {
   "cell_type": "code",
   "execution_count": null,
   "id": "dc317bd9",
   "metadata": {},
   "outputs": [],
   "source": [
    "### set arguments for plotting\n",
    "main_plot_aspect_ratio = (8, 6)\n",
    "pltkwargs={\"figsize\":main_plot_aspect_ratio, \"frameon\":False}\n",
    "akwargs = {\"head_width\":.2, \"head_length\":.2, \"alpha\":.6, \"width\":0.001, \"color\":\"black\"}\n",
    "quiver_kwargs = {\"scale\": 1.5,\"angles\": \"xy\",\"scale_units\": \"xy\",\"edgecolors\": \"k\",\n",
    "                #\"linewidth\": 0.02,\"width\": .003, \n",
    "                # \"headwidth\": 4, \n",
    "                # \"headaxislength\": 5,\n",
    "                 \"alpha\":1,#.7\n",
    "                }\n",
    "(dim1, dim2) = (0, 1)\n",
    "vecs = [v_pca, v_pca_scv]"
   ]
  },
  {
   "cell_type": "code",
   "execution_count": null,
   "id": "ebbc5652",
   "metadata": {},
   "outputs": [],
   "source": [
    "### create PCA plot (kappa-velo visualisation)\n",
    "fig, ax = plt.subplots(1, 1, **pltkwargs)\n",
    "for v_ in vecs: # this line is done s.t. the two plots have the exact same dimensions, even if the velocities are different\n",
    "        ax.scatter(pca_data[sub,dim1]+v_pca[sub, dim1], pca_data[sub,dim2]+v_pca[sub, dim2], s=1, color=\"white\")\n",
    "ax.scatter(pca_data[sub,dim1], pca_data[sub,dim2], s=55, color=\"lightgrey\")\n",
    "ax.scatter(pca_data[sub_slow,dim1], pca_data[sub_slow,dim2], s=115, color=\"darkblue\")\n",
    "ax.scatter(pca_data[sub_slow,dim1], pca_data[sub_slow,dim2], s=55, color=\"lightgrey\")\n",
    "ax.scatter(pca_data[sub_fast,dim1], pca_data[sub_fast,dim2], s=115, color=\"darkred\")\n",
    "ax.scatter(pca_data[sub_fast,dim1], pca_data[sub_fast,dim2], s=55, color=\"lightgrey\")\n",
    "ax.axis(\"off\")\n",
    "\n",
    "\n",
    "ax.quiver(pca_data[sub,dim1], pca_data[sub,dim2], \n",
    "          v_pca[sub,dim1], v_pca[sub,dim2], **quiver_kwargs)\n",
    "\n",
    "fig.tight_layout()\n",
    "\n",
    "# save figure\n",
    "save_path = \"../figures/Fig2A_PCA_simulation_kappa-velo.png\"\n",
    "plt.savefig(save_path, dpi=300, transparent=True)\n",
    "\n",
    "plt.show()"
   ]
  },
  {
   "cell_type": "code",
   "execution_count": null,
   "id": "2e398a0d",
   "metadata": {},
   "outputs": [],
   "source": [
    "### create PCA plot (scVelo visualisation)\n",
    "fig, ax = plt.subplots(1, 1, **pltkwargs)\n",
    "for v_ in vecs:\n",
    "        ax.scatter(pca_data[sub,dim1]+v_[sub, dim1], pca_data[sub,dim2]+v_[sub, dim2], s=1, color=\"white\")\n",
    "ax.scatter(pca_data[sub,dim1], pca_data[sub,dim2], s=55, color=\"lightgrey\")\n",
    "ax.scatter(pca_data[sub_slow,dim1], pca_data[sub_slow,dim2], s=115, color=\"darkblue\")\n",
    "ax.scatter(pca_data[sub_slow,dim1], pca_data[sub_slow,dim2], s=55, color=\"lightgrey\")\n",
    "ax.scatter(pca_data[sub_fast,dim1], pca_data[sub_fast,dim2], s=115, color=\"darkred\")\n",
    "ax.scatter(pca_data[sub_fast,dim1], pca_data[sub_fast,dim2], s=55, color=\"lightgrey\")\n",
    "ax.axis(\"off\")\n",
    "\n",
    "ax.quiver(pca_data[sub,dim1], pca_data[sub,dim2], \n",
    "          v_pca_scv[sub,dim1], v_pca_scv[sub,dim2], #color=\"darkred\", \n",
    "             **quiver_kwargs)\n",
    "\n",
    "fig.tight_layout()\n",
    "\n",
    "# save figure\n",
    "save_path = \"../figures/Fig2B_PCA_simulation_scVelo.png\"\n",
    "plt.savefig(save_path, dpi=300, transparent=True)\n",
    "\n",
    "plt.show()"
   ]
  },
  {
   "cell_type": "markdown",
   "id": "43872ea6",
   "metadata": {},
   "source": [
    "#### supplementary figure nyström projection on PCA"
   ]
  },
  {
   "cell_type": "code",
   "execution_count": null,
   "id": "f14581d4",
   "metadata": {},
   "outputs": [],
   "source": [
    "fut_nystroem = nystroem_project(pca_data, pca_data, pca_fut, n_neighbors=15, force_no_scale=True)\n",
    "v_pca_nystroem = fut_nystroem-pca_data\n",
    "\n",
    "v_pca_nystroem/=np.std(v_pca_nystroem)\n",
    "v_pca_nystroem*=np.std(v_pca)"
   ]
  },
  {
   "cell_type": "code",
   "execution_count": null,
   "id": "93f62f99",
   "metadata": {},
   "outputs": [],
   "source": [
    "### create PCA plot (kappa-velo visualisation)\n",
    "fig, ax = plt.subplots(1, 1, **pltkwargs)\n",
    "for v_ in vecs: # this line is done s.t. the two plots have the exact same dimensions, even if the velocities are different\n",
    "        ax.scatter(pca_data[sub,dim1]+v_[sub, dim1], pca_data[sub,dim2]+v_[sub, dim2], s=1, color=\"white\")\n",
    "ax.scatter(pca_data[sub,dim1], pca_data[sub,dim2], s=55, color=\"lightgrey\")\n",
    "ax.scatter(pca_data[sub_slow,dim1], pca_data[sub_slow,dim2], s=115, color=\"darkblue\")\n",
    "ax.scatter(pca_data[sub_slow,dim1], pca_data[sub_slow,dim2], s=55, color=\"lightgrey\")\n",
    "ax.scatter(pca_data[sub_fast,dim1], pca_data[sub_fast,dim2], s=115, color=\"darkred\")\n",
    "ax.scatter(pca_data[sub_fast,dim1], pca_data[sub_fast,dim2], s=55, color=\"lightgrey\")\n",
    "ax.axis(\"off\")\n",
    "\n",
    "ax.quiver(pca_data[sub,dim1], pca_data[sub,dim2], \n",
    "              v_pca_nystroem[sub,dim1], v_pca_nystroem[sub,dim2], **quiver_kwargs)\n",
    "\n",
    "fig.tight_layout()\n",
    "\n",
    "# save figure\n",
    "save_path = \"../figures/FigSX_PCA_simulation_nystrom.png\"\n",
    "plt.savefig(save_path, dpi=300, transparent=True)\n",
    "\n",
    "plt.show()"
   ]
  },
  {
   "cell_type": "code",
   "execution_count": null,
   "id": "e02573c4",
   "metadata": {},
   "outputs": [],
   "source": [
    "### create PCA plot (kappa-velo visualisation)\n",
    "quiver_kwargs = {\"scale\": 1.5,\"angles\": \"xy\",\"scale_units\": \"xy\",\"edgecolors\": \"k\",\n",
    "                \"linewidth\": .5,\n",
    "                 \"headwidth\": 6, \n",
    "                 \"headlength\": 6, \n",
    "                 \"headaxislength\":6,\n",
    "                # \"alpha\":1,#.7\n",
    "                }\n",
    "\n",
    "main_plot_aspect_ratio = (2, 2)\n",
    "pltkwargs={\"figsize\":main_plot_aspect_ratio, \"frameon\":False}\n",
    "\n",
    "fig, ax = plt.subplots(1, 1, **pltkwargs)\n",
    "for v_ in vecs: # this line is done s.t. the two plots have the exact same dimensions, even if the velocities are different\n",
    "        ax.scatter(pca_data[sub_slow,dim1]+v_pca[sub_slow, dim1], pca_data[sub_slow,dim2]+v_pca[sub_slow, dim2], s=1, color=\"white\")\n",
    "ax.scatter(pca_data[sub_slow,dim1], pca_data[sub_slow,dim2], s=115, color=\"darkblue\")\n",
    "ax.scatter(pca_data[sub_slow,dim1], pca_data[sub_slow,dim2], s=55, color=\"lightgrey\")\n",
    "ax.axis(\"off\")\n",
    "\n",
    "\n",
    "ax.quiver(pca_data[sub_slow,dim1], pca_data[sub_slow,dim2], \n",
    "          v_pca[sub_slow,dim1], v_pca[sub_slow,dim2], **quiver_kwargs)\n",
    "\n",
    "fig.tight_layout()\n",
    "\n",
    "# save figure\n",
    "save_path = \"../figures/Fig2A_PCA_simulation_kappa-velo_slow.png\"\n",
    "plt.savefig(save_path, dpi=300, transparent=True)\n",
    "\n",
    "plt.show()\n",
    "\n",
    "\n",
    "fig, ax = plt.subplots(1, 1, **pltkwargs)\n",
    "for v_ in vecs: # this line is done s.t. the two plots have the exact same dimensions, even if the velocities are different\n",
    "        ax.scatter(pca_data[sub_slow,dim1]+v_pca[sub_slow, dim1], pca_data[sub_slow,dim2]+v_pca[sub_slow, dim2], s=1, color=\"white\")\n",
    "ax.scatter(pca_data[sub_slow,dim1], pca_data[sub_slow,dim2], s=115, color=\"darkblue\")\n",
    "ax.scatter(pca_data[sub_slow,dim1], pca_data[sub_slow,dim2], s=55, color=\"lightgrey\")\n",
    "ax.axis(\"off\")\n",
    "\n",
    "\n",
    "ax.quiver(pca_data[sub_slow,dim1], pca_data[sub_slow,dim2], \n",
    "          v_pca_nystroem[sub_slow,dim1], v_pca_nystroem[sub_slow,dim2], **quiver_kwargs)\n",
    "\n",
    "fig.tight_layout()\n",
    "\n",
    "# save figure\n",
    "save_path = \"../figures/Fig2A_PCA_simulation_kappa-velo_slow_nystrom.png\"\n",
    "plt.savefig(save_path, dpi=300, transparent=True)\n",
    "\n",
    "plt.show()\n",
    "\n",
    "\n",
    "\n",
    "fig, ax = plt.subplots(1, 1, **pltkwargs)\n",
    "for v_ in vecs: # this line is done s.t. the two plots have the exact same dimensions, even if the velocities are different\n",
    "        ax.scatter(pca_data[sub_slow,dim1]+v_pca[sub_slow, dim1], pca_data[sub_slow,dim2]+v_pca[sub_slow, dim2], s=1, color=\"white\")\n",
    "ax.scatter(pca_data[sub_slow,dim1], pca_data[sub_slow,dim2], s=115, color=\"darkblue\")\n",
    "ax.scatter(pca_data[sub_slow,dim1], pca_data[sub_slow,dim2], s=55, color=\"lightgrey\")\n",
    "ax.axis(\"off\")\n",
    "\n",
    "\n",
    "ax.quiver(pca_data[sub_slow,dim1], pca_data[sub_slow,dim2], \n",
    "          v_pca_scv[sub_slow,dim1], v_pca_scv[sub_slow,dim2], **quiver_kwargs)\n",
    "\n",
    "fig.tight_layout()\n",
    "\n",
    "# save figure\n",
    "save_path = \"../figures/Fig2A_PCA_simulation_kappa-velo_slow_scvelo.png\"\n",
    "plt.savefig(save_path, dpi=300, transparent=True)\n",
    "\n",
    "plt.show()"
   ]
  },
  {
   "cell_type": "code",
   "execution_count": null,
   "id": "f75acb36",
   "metadata": {},
   "outputs": [],
   "source": [
    "### create PCA plot (kappa-velo visualisation)\n",
    "main_plot_aspect_ratio = (2, 2)\n",
    "pltkwargs={\"figsize\":main_plot_aspect_ratio, \"frameon\":False}\n",
    "\n",
    "fig, ax = plt.subplots(1, 1, **pltkwargs)\n",
    "for v_ in vecs: # this line is done s.t. the two plots have the exact same dimensions, even if the velocities are different\n",
    "        ax.scatter(pca_data[sub_fast,dim1]+v_pca[sub_fast, dim1], \n",
    "                   pca_data[sub_fast,dim2]+v_pca[sub_fast, dim2], s=1, color=\"white\")\n",
    "ax.scatter(pca_data[sub_fast,dim1], pca_data[sub_fast,dim2], s=115, color=\"darkred\")\n",
    "ax.scatter(pca_data[sub_fast,dim1], pca_data[sub_fast,dim2], s=55, color=\"lightgrey\")\n",
    "ax.axis(\"off\")\n",
    "ax.quiver(pca_data[sub_fast,dim1], pca_data[sub_fast,dim2], \n",
    "          v_pca[sub_fast,dim1], v_pca[sub_fast,dim2], **quiver_kwargs)\n",
    "fig.tight_layout()\n",
    "\n",
    "# save figure\n",
    "save_path = \"../figures/Fig2A_PCA_simulation_kappa-velo_fast.png\"\n",
    "plt.savefig(save_path, dpi=300, transparent=True)\n",
    "plt.show()\n",
    "\n",
    "\n",
    "fig, ax = plt.subplots(1, 1, **pltkwargs)\n",
    "for v_ in vecs: # this line is done s.t. the two plots have the exact same dimensions, even if the velocities are different\n",
    "        ax.scatter(pca_data[sub_fast,dim1]+v_pca[sub_fast, dim1], \n",
    "                   pca_data[sub_fast,dim2]+v_pca[sub_fast, dim2], s=1, color=\"white\")\n",
    "ax.scatter(pca_data[sub_fast,dim1], pca_data[sub_fast,dim2], s=115, color=\"darkred\")\n",
    "ax.scatter(pca_data[sub_fast,dim1], pca_data[sub_fast,dim2], s=55, color=\"lightgrey\")\n",
    "ax.axis(\"off\")\n",
    "ax.quiver(pca_data[sub_fast,dim1], pca_data[sub_fast,dim2], \n",
    "          v_pca_nystroem[sub_fast,dim1], v_pca_nystroem[sub_fast,dim2], **quiver_kwargs)\n",
    "fig.tight_layout()\n",
    "\n",
    "# save figure\n",
    "save_path = \"../figures/Fig2A_PCA_simulation_kappa-velo_fast_nystrom.png\"\n",
    "plt.savefig(save_path, dpi=300, transparent=True)\n",
    "plt.show()\n",
    "\n",
    "\n",
    "\n",
    "fig, ax = plt.subplots(1, 1, **pltkwargs)\n",
    "for v_ in vecs: # this line is done s.t. the two plots have the exact same dimensions, even if the velocities are different\n",
    "        ax.scatter(pca_data[sub_fast,dim1]+v_pca[sub_fast, dim1], \n",
    "                   pca_data[sub_fast,dim2]+v_pca[sub_fast, dim2], s=1, color=\"white\")\n",
    "ax.scatter(pca_data[sub_fast,dim1], pca_data[sub_fast,dim2], s=115, color=\"darkred\")\n",
    "ax.scatter(pca_data[sub_fast,dim1], pca_data[sub_fast,dim2], s=55, color=\"lightgrey\")\n",
    "ax.axis(\"off\")\n",
    "ax.quiver(pca_data[sub_fast,dim1], pca_data[sub_fast,dim2], \n",
    "          v_pca_scv[sub_fast,dim1], v_pca_scv[sub_fast,dim2], **quiver_kwargs)\n",
    "\n",
    "fig.tight_layout()\n",
    "\n",
    "# save figure\n",
    "save_path = \"../figures/Fig2A_PCA_simulation_kappa-velo_fast_scvelo.png\"\n",
    "plt.savefig(save_path, dpi=300, transparent=True)\n",
    "\n",
    "plt.show()"
   ]
  },
  {
   "cell_type": "markdown",
   "id": "7f1ce9fc",
   "metadata": {},
   "source": [
    "### 2. t-SNE\n",
    "\n",
    "These figures correspond to Figure 1D in the manuscript and Supplementary Figure S4A and S4B."
   ]
  },
  {
   "cell_type": "code",
   "execution_count": null,
   "id": "473f8a14",
   "metadata": {},
   "outputs": [],
   "source": [
    "### set seed\n",
    "tSNE_data = TSNE(n_components=2, random_state=3, perplexity=50).fit_transform(pca_data)\n",
    "tSNE_data[:,1]=-tSNE_data[:,1]"
   ]
  },
  {
   "cell_type": "code",
   "execution_count": null,
   "id": "c91f5128",
   "metadata": {},
   "outputs": [],
   "source": [
    "plt.subplots(1, 1, figsize=(3, 2))\n",
    "plt.scatter(tSNE_data[:,0], tSNE_data[:,1], s=3, c=adata.obs[\"true_t\"])\n",
    "plt.xticks([]), plt.yticks([])\n",
    "plt.title(\"t-SNE - color: true time\")\n",
    "plt.colorbar()\n",
    "plt.show()"
   ]
  },
  {
   "cell_type": "code",
   "execution_count": null,
   "id": "b053d1d7",
   "metadata": {},
   "outputs": [],
   "source": [
    "### calculate projection of velocities onto embedding (kappa-velo method)\n",
    "tSNE_fut = nystroem_project(tSNE_data, pca_data, pca_fut, n_neighbors=50, force_no_scale=True)\n",
    "v_tsne_nystrom = tSNE_fut - tSNE_data "
   ]
  },
  {
   "cell_type": "code",
   "execution_count": null,
   "id": "9eb9eac0",
   "metadata": {},
   "outputs": [],
   "source": [
    "### calculate projection of velocities onto embedding (scVelo method)\n",
    "adata.obsm[\"X_tsne\"]=tSNE_data\n",
    "bdata = adata.copy()\n",
    "scv.tl.velocity_graph(bdata)\n",
    "scv.tl.velocity_embedding(bdata, \"tsne\")\n",
    "v_tsne_scvelo = bdata.obsm[\"velocity_tsne\"][:,0:2] # velocities from scvelo\n",
    "\n",
    "v_tsne_scvelo/=np.std(v_tsne_scvelo) # scale to same range for ease of comparison\n",
    "v_tsne_scvelo*=np.std(v_tsne_nystrom)"
   ]
  },
  {
   "cell_type": "code",
   "execution_count": null,
   "id": "1a1e06d9",
   "metadata": {},
   "outputs": [],
   "source": [
    "### set arguments for plotting\n",
    "quiver_kwargs = {\"scale\": 2,\"angles\": \"xy\",\"scale_units\": \"xy\",\"edgecolors\": \"k\",\n",
    "                \"linewidth\": 0.02,\"width\": .003, \n",
    "                 \"headwidth\": 4, \n",
    "                 \"headaxislength\": 5,\n",
    "                 \"alpha\":.9,#.7\n",
    "                }\n",
    "pltkwargs={\"figsize\":(6, 5), \"frameon\":False}\n",
    "(dim1, dim2) = (0, 1)"
   ]
  },
  {
   "cell_type": "code",
   "execution_count": null,
   "id": "244fc2f5",
   "metadata": {},
   "outputs": [],
   "source": [
    "### create t-SNE plot (kappa-velo visualisation) \n",
    "fig, ax = plt.subplots(1, 1, **pltkwargs)\n",
    "\n",
    "ax.scatter(tSNE_data[sub,dim1], tSNE_data[sub,dim2], s=55, color=\"lightgrey\")\n",
    "ax.axis(\"off\")\n",
    "ax.quiver(tSNE_data[sub,dim1], tSNE_data[sub,dim2], \n",
    "          v_tsne_nystrom[sub,dim1], v_tsne_nystrom[sub,dim2], **quiver_kwargs)\n",
    "fig.tight_layout()\n",
    "\n",
    "# save figure\n",
    "\n",
    "save_path = \"../figures/Fig2D_tSNE_nystroem.png\"\n",
    "plt.savefig(save_path, dpi=200, transparent=True)\n",
    "\n",
    "plt.show()"
   ]
  },
  {
   "cell_type": "code",
   "execution_count": null,
   "id": "cd1aea08",
   "metadata": {},
   "outputs": [],
   "source": [
    "### create t-SNE plot (scVelo visualisation) \n",
    "fig, ax = plt.subplots(1, 1, **pltkwargs)\n",
    "ax.scatter(tSNE_data[sub,dim1], tSNE_data[sub,dim2], s=100, color=\"lightgrey\")\n",
    "ax.axis(\"off\")\n",
    "ax.quiver(tSNE_data[sub,dim1], tSNE_data[sub,dim2], \n",
    "          v_tsne_scvelo[sub,dim1], v_tsne_scvelo[sub,dim2],\n",
    "          **quiver_kwargs)\n",
    "fig.tight_layout()\n",
    "\n",
    "# save figure\n",
    "save_path = \"../figures/FigS6B_tSNE_scVelo.pdf\"\n",
    "plt.savefig(save_path, dpi=200, transparent=True)\n",
    "\n",
    "plt.show()"
   ]
  },
  {
   "cell_type": "markdown",
   "id": "dd75a33b",
   "metadata": {},
   "source": [
    "### 3. diffusion map\n",
    "\n",
    "These figures correspond to Figure S4C and S4D in the Supplementary Figures."
   ]
  },
  {
   "cell_type": "code",
   "execution_count": null,
   "id": "fe1b52ac",
   "metadata": {},
   "outputs": [],
   "source": [
    "### calculate diffusion map embedding\n",
    "from velocity.visualisation.vis_utils import *\n",
    "sigma = 20\n",
    "evals, evecs, z_x = diffmap_eigen(pca_data, sigma=sigma)\n",
    "diffmap_data = evecs"
   ]
  },
  {
   "cell_type": "code",
   "execution_count": null,
   "id": "7428e595",
   "metadata": {},
   "outputs": [],
   "source": [
    "plt.subplots(1, 1, figsize=(3, 2))\n",
    "plt.scatter(diffmap_data[:,1], diffmap_data[:,2], s=3, c=adata.obs[\"true_t\"])\n",
    "plt.xticks([]), plt.yticks([])\n",
    "plt.title(\"diffusion map\\n color: true time\")\n",
    "plt.colorbar()\n",
    "plt.show()"
   ]
  },
  {
   "cell_type": "code",
   "execution_count": null,
   "id": "85c470ce",
   "metadata": {},
   "outputs": [],
   "source": [
    "### calculate projection of velocities onto embedding (kappa-velo method)\n",
    "diffmap_fut = add_proj(pca_data, pca_fut, evecs, evals, sigma, z_x)\n",
    "v_diffmap_nystrom = diffmap_fut-diffmap_data"
   ]
  },
  {
   "cell_type": "code",
   "execution_count": null,
   "id": "bfb7479a",
   "metadata": {},
   "outputs": [],
   "source": [
    "### calculate projection of velocities onto embedding (scVelo method)\n",
    "adata.obsm[\"X_diffmap_own\"]=diffmap_data\n",
    "bdata = adata.copy()\n",
    "scv.tl.velocity_graph(bdata)\n",
    "scv.tl.velocity_embedding(bdata, \"diffmap_own\")\n",
    "v_diffmap_scvelo = bdata.obsm[\"velocity_diffmap_own\"]\n",
    "v_diffmap_scvelo/=np.std(v_diffmap_scvelo[:,1:3])\n",
    "v_diffmap_scvelo*=np.std(v_diffmap_nystrom[:,1:3])"
   ]
  },
  {
   "cell_type": "code",
   "execution_count": null,
   "id": "bd582fd6",
   "metadata": {},
   "outputs": [],
   "source": [
    "### set arguments for plotting\n",
    "pltkwargs={\"figsize\":(8, 5), \"frameon\":False}\n",
    "quiver_kwargs = {\"scale\": 2,\"angles\": \"xy\",\"scale_units\": \"xy\",\"edgecolors\": \"k\"}\n",
    "(dim1, dim2) = (1, 2)"
   ]
  },
  {
   "cell_type": "code",
   "execution_count": null,
   "id": "7a02ac85",
   "metadata": {},
   "outputs": [],
   "source": [
    "### create diffusion map plot (kappa-velo visualisation) \n",
    "fig, ax = plt.subplots(1, 1, **pltkwargs)\n",
    "\n",
    "ax.scatter(diffmap_data[sub,dim1], diffmap_data[sub,dim2], s=55, color=\"lightgrey\")\n",
    "ax.axis(\"off\")\n",
    "ax.quiver(diffmap_data[sub,dim1], diffmap_data[sub,dim2], \n",
    "          v_diffmap_nystrom[sub,dim1], v_diffmap_nystrom[sub,dim2], **quiver_kwargs)\n",
    "fig.tight_layout()\n",
    "\n",
    "# save figure\n",
    "save_path = \"../figures/FigS7A_diffmap_nystroem.pdf\"\n",
    "plt.savefig(save_path, dpi=200, transparent=True)\n",
    "\n",
    "plt.show()"
   ]
  },
  {
   "cell_type": "code",
   "execution_count": null,
   "id": "7b7683d6",
   "metadata": {},
   "outputs": [],
   "source": [
    "### create diffusion map plot (scVelo visualisation) \n",
    "fig, ax = plt.subplots(1, 1, **pltkwargs)\n",
    "ax.scatter(diffmap_data[sub,dim1], diffmap_data[sub,dim2], s=55, color=\"lightgrey\")\n",
    "ax.axis(\"off\")\n",
    "\n",
    "ax.quiver(diffmap_data[sub,dim1], diffmap_data[sub,dim2], \n",
    "          v_diffmap_scvelo[sub,dim1], v_diffmap_scvelo[sub,dim2], **quiver_kwargs)\n",
    "\n",
    "fig.tight_layout()\n",
    "\n",
    "# save figure\n",
    "save_path = \"../figures/FigS7B_diffmap_scVelo.pdf\"\n",
    "plt.savefig(save_path, dpi=200, transparent=True)\n",
    "\n",
    "plt.show()"
   ]
  },
  {
   "cell_type": "markdown",
   "id": "dca8fb98",
   "metadata": {},
   "source": [
    "### 4. UMAP\n",
    "Figure S4E and S4F in Supplement."
   ]
  },
  {
   "cell_type": "code",
   "execution_count": null,
   "id": "b76060fb",
   "metadata": {},
   "outputs": [],
   "source": [
    "reducer = umap.UMAP(random_state=2, n_neighbors=30, min_dist=1, n_components=2, metric=\"euclidean\")\n",
    "UMAP_data = reducer.fit_transform(pca_data)"
   ]
  },
  {
   "cell_type": "code",
   "execution_count": null,
   "id": "103a240a",
   "metadata": {},
   "outputs": [],
   "source": [
    "UMAP_future = nystroem_project(UMAP_data, pca_data, pca_fut, n_neighbors=50, force_no_scale=True)\n",
    "v_umap_nystrom = UMAP_future-UMAP_data"
   ]
  },
  {
   "cell_type": "code",
   "execution_count": null,
   "id": "e96c11a0",
   "metadata": {},
   "outputs": [],
   "source": [
    "### calculate projection of velocities onto embedding (scVelo method)\n",
    "adata.obsm[\"X_umap\"]=UMAP_data\n",
    "bdata = adata.copy()\n",
    "scv.tl.velocity_graph(bdata)\n",
    "scv.tl.velocity_embedding(bdata, \"umap\")\n",
    "v_umap_scvelo = bdata.obsm[\"velocity_umap\"][:,0:2]\n",
    "### calculate projection of velocities onto embedding (kappa-velo method)\n",
    "v_umap_scvelo/=np.std(v_umap_scvelo)\n",
    "v_umap_scvelo*=np.std(v_umap_nystrom)"
   ]
  },
  {
   "cell_type": "code",
   "execution_count": null,
   "id": "07755b97",
   "metadata": {},
   "outputs": [],
   "source": [
    "### set arguments for plotting\n",
    "pltkwargs={\"figsize\":(6, 8), \"frameon\":False}\n",
    "(dim1, dim2) = (0, 1)\n",
    "quiver_kwargs={\"scale\": 1.5,\"angles\": \"xy\",\"scale_units\": \"xy\"}"
   ]
  },
  {
   "cell_type": "code",
   "execution_count": null,
   "id": "1a050028",
   "metadata": {},
   "outputs": [],
   "source": [
    "### create UMAP plot (kappa-velo visualisation) \n",
    "fig, ax = plt.subplots(1, 1, **pltkwargs)\n",
    "ax.scatter(UMAP_data[sub,dim1], UMAP_data[sub,dim2], s=55, color=\"lightgrey\")\n",
    "ax.axis(\"off\")\n",
    "ax.quiver(UMAP_data[sub,dim1], UMAP_data[sub,dim2], \n",
    "          v_umap_nystrom[sub,dim1], v_umap_nystrom[sub,dim2], **quiver_kwargs)\n",
    "fig.tight_layout()\n",
    "\n",
    "# save figure\n",
    "save_path = \"../figures/FigS6C_UMAP_nystroem.pdf\"\n",
    "plt.savefig(save_path, dpi=200, transparent=True)\n",
    "\n",
    "plt.show()"
   ]
  },
  {
   "cell_type": "code",
   "execution_count": null,
   "id": "92e84d0c",
   "metadata": {},
   "outputs": [],
   "source": [
    "### create UMAP plot (scVelo visualisation) \n",
    "fig, ax = plt.subplots(1, 1, **pltkwargs)\n",
    "ax.scatter(UMAP_data[sub,dim1], UMAP_data[sub,dim2], s=55, color=\"lightgrey\")\n",
    "ax.axis(\"off\")\n",
    "ax.quiver(UMAP_data[sub,dim1], UMAP_data[sub,dim2], \n",
    "          v_umap_scvelo[sub,dim1], v_umap_scvelo[sub,dim2], **quiver_kwargs)\n",
    "fig.tight_layout()\n",
    "\n",
    "# save figure\n",
    "save_path = \"../figures/FigS6D_UMAP_scVelo.pdf\"\n",
    "plt.savefig(save_path, dpi=200, transparent=True)\n",
    "\n",
    "plt.show()"
   ]
  }
 ],
 "metadata": {
  "kernelspec": {
   "display_name": "clone",
   "language": "python",
   "name": "clone"
  },
  "language_info": {
   "codemirror_mode": {
    "name": "ipython",
    "version": 3
   },
   "file_extension": ".py",
   "mimetype": "text/x-python",
   "name": "python",
   "nbconvert_exporter": "python",
   "pygments_lexer": "ipython3",
   "version": "3.8.5"
  }
 },
 "nbformat": 4,
 "nbformat_minor": 5
}
