{
 "cells": [
  {
   "cell_type": "markdown",
   "metadata": {},
   "source": [
    "## Pancreas dataset - complete pipeline"
   ]
  },
  {
   "cell_type": "code",
   "execution_count": null,
   "metadata": {},
   "outputs": [],
   "source": [
    "### load libraries\n",
    "\n",
    "# standard libraries\n",
    "import numpy as np\n",
    "\n",
    "# single-cell libraries\n",
    "import anndata as ad\n",
    "import scanpy as sc\n",
    "\n",
    "# plotting libraries\n",
    "import matplotlib.pyplot as plt\n",
    "from matplotlib import rcParams # for changing the parameters of the scVelo figures\n",
    "\n",
    "# dimension reductions\n",
    "from sklearn.decomposition import PCA #for creating PCAs\n",
    "from sklearn.preprocessing import StandardScaler #for creating PCAs\n",
    "import umap\n",
    "from scipy.spatial import cKDTree\n",
    "\n",
    "%load_ext autoreload\n",
    "%autoreload 2\n",
    "# import our own functions\n",
    "import velocity.processing as pp\n",
    "import velocity.tools as tl\n",
    "import velocity.visualisation as vis"
   ]
  },
  {
   "cell_type": "code",
   "execution_count": null,
   "metadata": {},
   "outputs": [],
   "source": [
    "### set arguments for plotting\n",
    "rcParams[\"axes.grid\"] = False\n",
    "rcParams[\"axes.spines.right\"] = False\n",
    "rcParams[\"axes.spines.top\"] = False\n",
    "\n",
    "# settings for pretty plots\n",
    "from velocity.visualisation.pretty_plotting import *\n",
    "### get colors of each cluster\n",
    "color_dict = dict(zip(adata.obs[\"clusters\"].cat.categories, adata.uns[\"clusters_colors\"]))\n",
    "cell_colors=adata.obs[\"clusters\"].map(color_dict)\n",
    "light_color = np.array([lighten_color(i, .3) for i in cell_colors])\n",
    "\n",
    "np.random.seed(0)\n",
    "\n",
    "import time\n",
    "def format_time(t):\n",
    "  return f\"{int(t/3600)}H {int((t/60)%60) if t/3600>0 else int(t/60)}M {int(t%60)}S\"\n",
    "\n",
    "begin_time = time.time()"
   ]
  },
  {
   "cell_type": "markdown",
   "metadata": {},
   "source": [
    "### Load original dataset\n"
   ]
  },
  {
   "cell_type": "code",
   "execution_count": null,
   "metadata": {},
   "outputs": [],
   "source": [
    "### load pancreas dataset\n",
    "dataset_path = \"../datasets/pancreas/pancreas.h5ad\"\n",
    "adata = ad.read_h5ad(dataset_path)"
   ]
  },
  {
   "cell_type": "code",
   "execution_count": null,
   "metadata": {},
   "outputs": [],
   "source": [
    "### plot dataset\n",
    "fig, axs = plt.subplots(1, 1, figsize=(6, 3), frameon=False)\n",
    "sc.pl.umap(adata, color=\"clusters\", size=30, ax=axs)"
   ]
  },
  {
   "cell_type": "code",
   "execution_count": null,
   "metadata": {},
   "outputs": [],
   "source": [
    "### convert matrices from sparse to dense\n",
    "adata.X = adata.X.todense()\n",
    "adata.layers['spliced'] = adata.layers['spliced'].todense()\n",
    "adata.layers['unspliced'] = adata.layers['unspliced'].todense()"
   ]
  },
  {
   "cell_type": "code",
   "execution_count": null,
   "metadata": {},
   "outputs": [],
   "source": [
    "### select HVGs\n",
    "hvgs = pp.filtering.get_hvgs(adata, no_of_hvgs=5000, theta=100, layer='spliced')\n",
    "print(\"Subsetting to top \" + str(len(hvgs)) + \" highly-variable genes.\")\n",
    "adata = adata[:, hvgs]"
   ]
  },
  {
   "cell_type": "code",
   "execution_count": null,
   "metadata": {},
   "outputs": [],
   "source": [
    "### subset for genes that have high enough U and S counts\n",
    "minlim = 4\n",
    "us_genes = pp.filtering.get_high_us_genes(adata, minlim_u=minlim, minlim_s=minlim)\n",
    "print(\"Subsetting to \" + str(len(us_genes)) + \" genes with sufficient S and U counts.\")\n",
    "adata = adata[:,us_genes]"
   ]
  },
  {
   "cell_type": "code",
   "execution_count": null,
   "metadata": {},
   "outputs": [],
   "source": [
    "### L1 normalise unspliced and spliced together with size vector\n",
    "pp.normalisation.normalise_layers(adata, mode='combined', norm='L1')"
   ]
  },
  {
   "cell_type": "code",
   "execution_count": null,
   "metadata": {},
   "outputs": [],
   "source": [
    "### imputation\n",
    "pp.imputation.impute_counts(adata, n_neighbours = 30, layer_NN = 'spliced', n_pcs = 15)"
   ]
  },
  {
   "cell_type": "markdown",
   "metadata": {},
   "source": [
    "### Recover reaction rate parameters"
   ]
  },
  {
   "cell_type": "code",
   "execution_count": null,
   "metadata": {},
   "outputs": [],
   "source": [
    "### recover dynamics for selected genes\n",
    "tl.fit.recover_reaction_rate_pars(adata, use_raw=False, n=100, \n",
    "                                  fit_kappa=True, fit_scaling=True)"
   ]
  },
  {
   "cell_type": "code",
   "execution_count": null,
   "metadata": {},
   "outputs": [],
   "source": [
    "copy_ = adata.copy()"
   ]
  },
  {
   "cell_type": "code",
   "execution_count": null,
   "metadata": {},
   "outputs": [],
   "source": [
    "adata = copy_.copy()"
   ]
  },
  {
   "cell_type": "markdown",
   "metadata": {},
   "source": [
    "### Additional filtering steps\n"
   ]
  },
  {
   "cell_type": "code",
   "execution_count": null,
   "metadata": {},
   "outputs": [],
   "source": [
    "### remove likelihood genes\n",
    "likelihood_genes = adata.var['fit_likelihood'].sort_values(ascending=False)\n",
    "likelihood_genes = likelihood_genes.dropna()\n",
    "likelihood_genes = likelihood_genes[likelihood_genes >= 0.4]\n",
    "likelihood_genes = likelihood_genes.index.values"
   ]
  },
  {
   "cell_type": "code",
   "execution_count": null,
   "metadata": {},
   "outputs": [],
   "source": [
    "print(str(len(likelihood_genes))+\" high-likelihood genes kept\")\n",
    "adata = adata[:, likelihood_genes]"
   ]
  },
  {
   "cell_type": "code",
   "execution_count": null,
   "metadata": {},
   "outputs": [],
   "source": [
    "import pandas as pd\n",
    "cc_path = \"cell_cycle_markers_all.csv\"\n",
    "cc_markers = pd.read_csv(cc_path, sep=\";\")\n",
    "cc_markers = cc_markers[\"gene\"].values\n",
    "cc_markers = np.unique(cc_markers)\n",
    "\n",
    "print(np.sum([i in cc_markers for i in adata.var_names])) # check how many cell cycling genes we have"
   ]
  },
  {
   "cell_type": "code",
   "execution_count": null,
   "metadata": {},
   "outputs": [],
   "source": [
    "### set prior state on genes\n",
    "connections_dict = {'Alpha': ['Pre-endocrine'],\n",
    "                  'Beta': ['Pre-endocrine'],\n",
    "                  'Delta': ['Pre-endocrine'],\n",
    "                  'Epsilon': ['Pre-endocrine'],\n",
    "                  'Pre-endocrine': ['Ngn3 high EP'],\n",
    "                  'Ngn3 high EP': ['Ductal'],\n",
    "                  'Ngn3 high EP': [ 'Ngn3 low EP']\n",
    "                   }\n",
    "\n",
    "tl.prior.set_prior_state(adata, connections_dict)"
   ]
  },
  {
   "cell_type": "code",
   "execution_count": null,
   "metadata": {},
   "outputs": [],
   "source": [
    "### find all genes where prior state matches the retrieved state\n",
    "matching_genes = tl.filtering.get_matching_state_genes(adata, perc_match=60)\n",
    "print(str(len(matching_genes))+\" prior state matching genes kept\")\n",
    "adata = adata[:, matching_genes]"
   ]
  },
  {
   "cell_type": "code",
   "execution_count": null,
   "metadata": {},
   "outputs": [],
   "source": [
    "print(np.sum([i in cc_markers for i in adata.var_names])) # check how many cell cycling genes we have"
   ]
  },
  {
   "cell_type": "markdown",
   "metadata": {},
   "source": [
    "### let's have a look at the genes"
   ]
  },
  {
   "cell_type": "code",
   "execution_count": null,
   "metadata": {},
   "outputs": [],
   "source": [
    "rcParams[\"axes.spines.left\"] = False\n",
    "rcParams[\"axes.spines.bottom\"] = False\n",
    "\n",
    "### plot fastest genes\n",
    "idx = [\"Nnat\", \"Adk\", \"Miat\", \"Ppp1r1a\", \"Gcg\"]\n",
    "tl.fit.plot_kinetics_wrapper(adata, idx, c=cell_colors)\n",
    "\n",
    "# save figure\n",
    "save_path = \"../figures/Fig4B_pancreas_fast_genes.png\"\n",
    "plt.tight_layout()\n",
    "plt.savefig(save_path, dpi=300, transparent=True)\n",
    "plt.show()\n",
    "\n",
    "plt.hist(np.log10(adata.var.fit_beta.astype(float)), bins=20)\n",
    "plt.hist(np.log10(adata[:,[\"Nnat\", \"Adk\", \"Miat\", \"Ppp1r1a\", \"Gcg\"]].var.fit_beta.astype(float)))\n",
    "plt.title(\"Fast genes' splicing rate\")\n",
    "plt.show()"
   ]
  },
  {
   "cell_type": "code",
   "execution_count": null,
   "metadata": {},
   "outputs": [],
   "source": [
    "### plot slowest genes\n",
    "idx = adata[:,adata.var.fit_likelihood>.7].var[\"fit_beta\"].sort_values(ascending=True).index[0:5].tolist()\n",
    "tl.fit.plot_kinetics_wrapper(adata, idx, c=cell_colors)\n",
    "\n",
    "# save figure\n",
    "save_path = \"../figures/Fig4B_pancreas_slow_genes.png\"\n",
    "plt.tight_layout()\n",
    "plt.savefig(save_path, dpi=300, transparent=True)\n",
    "\n",
    "plt.show()"
   ]
  },
  {
   "cell_type": "markdown",
   "metadata": {},
   "source": [
    "### Calculate velocities\n"
   ]
  },
  {
   "cell_type": "code",
   "execution_count": null,
   "metadata": {},
   "outputs": [],
   "source": [
    "### calculate velocity\n",
    "tl.fit.get_velocity(adata, use_raw=False, key=\"fit\", scale=True)"
   ]
  },
  {
   "cell_type": "code",
   "execution_count": null,
   "metadata": {},
   "outputs": [],
   "source": [
    "scaled_data = adata"
   ]
  },
  {
   "cell_type": "markdown",
   "metadata": {},
   "source": [
    "# Plot velocities in low-dimensional embedding\n"
   ]
  },
  {
   "cell_type": "code",
   "execution_count": null,
   "metadata": {},
   "outputs": [],
   "source": [
    "umap_quiver_kwargs = {\"scale\": 1, \"angles\": \"xy\", \"scale_units\": \"xy\", \"edgecolors\": \"k\",\n",
    "                      \"linewidth\": 0.2,\"width\": .002,\"headwidth\": 4,\"headaxislength\": 4} \n",
    "pca_quiver_kwargs = {\"scale\": 1, \"angles\": \"xy\", \"scale_units\": \"xy\", \"edgecolors\": \"k\",\n",
    "                     \"linewidth\": 0.1, \"headwidth\": 5, \"headaxislength\": 4}\n",
    "\n",
    "# for less crowded arrows\n",
    "sub=np.ones(adata.shape[0])\n",
    "sub[np.arange(0, adata.shape[0], 3)]=0\n",
    "sub = sub.astype(bool)"
   ]
  },
  {
   "cell_type": "markdown",
   "metadata": {},
   "source": [
    "## (1) in PCA"
   ]
  },
  {
   "cell_type": "code",
   "execution_count": null,
   "metadata": {},
   "outputs": [],
   "source": [
    "### scale data (imputed spliced counts)\n",
    "scal = StandardScaler()\n",
    "spliced_scaled = scal.fit_transform(scaled_data.layers[\"Ms\"])\n",
    "\n",
    "### run PCA\n",
    "np.random.seed(0)\n",
    "n_pcs = 15\n",
    "pca = PCA(n_components=n_pcs, random_state=0)\n",
    "pca.fit(spliced_scaled)\n",
    "pca_pts = pca.transform(spliced_scaled)\n",
    "\n",
    "### create future states\n",
    "scale = 50\n",
    "S_fut = scaled_data.layers[\"Ms\"]+(scaled_data.layers[\"velocity\"]*scale)\n",
    "\n",
    "### scale in the same way as we scaled S\n",
    "S_fut_scaled = scal.transform(S_fut)\n",
    "\n",
    "### apply pre-trained PCA transformation on scaled future states\n",
    "pca_pts_fut = pca.transform(S_fut_scaled)\n",
    "\n",
    "### get velocity vector in PCA space\n",
    "pca_v = pca_pts_fut-pca_pts"
   ]
  },
  {
   "cell_type": "code",
   "execution_count": null,
   "metadata": {},
   "outputs": [],
   "source": [
    "### create PCA plot of pancreas by kappa-velo\n",
    "rcParams[\"axes.spines.left\"] = True\n",
    "rcParams[\"axes.spines.bottom\"] = True\n",
    "fig, axs = plt.subplots(1, 2, figsize=(20, 10))\n",
    "\n",
    "axs[0].scatter(pca_pts_fut[:,0], pca_pts_fut[:,1], color=\"white\", s=1)\n",
    "axs[1].scatter(pca_pts_fut[:,1], pca_pts_fut[:,2], color=\"white\", s=1)\n",
    "axs[0].scatter(pca_pts[:,0], pca_pts[:,1], color=light_color, s=100)\n",
    "axs[1].scatter(pca_pts[:,1], pca_pts[:,2], color=light_color, s=100)\n",
    "\n",
    "# make pretty\n",
    "axs[0].set_xticks([])\n",
    "axs[0].set_yticks([])\n",
    "axs[1].set_xticks([])\n",
    "axs[1].set_yticks([])\n",
    "\n",
    "# axis labels\n",
    "axs[0].set_xlabel(\"1st PC\", fontsize=18)\n",
    "axs[0].set_ylabel(\"2nd PC\", fontsize=18)\n",
    "axs[1].set_xlabel(\"2st PC\", fontsize=18)\n",
    "axs[1].set_ylabel(\"3rd PC\", fontsize=18)\n",
    "\n",
    "# title\n",
    "axs[0].set_title(\"κ-velo velocities on PCA: PC1 and PC2\", fontsize=20)\n",
    "axs[1].set_title(\"κ-velo velocities on PCA: PC2 and PC3\", fontsize=20)\n",
    "\n",
    "# plot arrows \n",
    "axs[0].quiver(pca_pts[:,0], pca_pts[:,1], pca_v[:,0], pca_v[:,1], \n",
    "              color=cell_colors, **pca_quiver_kwargs)\n",
    "axs[1].quiver(pca_pts[:,1], pca_pts[:,2], pca_v[:,1], pca_v[:,2], \n",
    "              color=cell_colors, **pca_quiver_kwargs)\n",
    "\n",
    "plt.tight_layout()\n",
    "save_path = \"../figures/FigS15A_pancreas_PCA.png\"\n",
    "plt.savefig(save_path, dpi=200, transparent=True)\n",
    "\n",
    "plt.show()"
   ]
  },
  {
   "cell_type": "markdown",
   "metadata": {},
   "source": [
    "### Plot velocities in UMAP"
   ]
  },
  {
   "cell_type": "code",
   "execution_count": null,
   "metadata": {},
   "outputs": [],
   "source": [
    "### calculate UMAP \n",
    "reducer = umap.UMAP(random_state=2, n_neighbors=210, min_dist=1, n_components=2, metric=\"euclidean\")\n",
    "UMAP_data = reducer.fit_transform(pca_pts)\n",
    "UMAP_data[:,1] = -UMAP_data[:,1] # flip bc it is upside down\n",
    "\n",
    "plt.scatter(UMAP_data[:,0], UMAP_data[:,1], color=cell_colors, s=10)\n",
    "plt.tight_layout()\n",
    "plt.show()"
   ]
  },
  {
   "cell_type": "code",
   "execution_count": null,
   "metadata": {},
   "outputs": [],
   "source": [
    "### calculate velocity projections\n",
    "UMAP_fut = vis.vis.nystroem_project(UMAP_data, \n",
    "                                    pca_pts, \n",
    "                                    pca_pts_fut, \n",
    "                                    n_neighbors=50)\n",
    "UMAP_v = UMAP_fut-UMAP_data\n",
    "\n",
    "### get top 30 nearest neighbors\n",
    "NN = cKDTree(pca_pts).query(x=pca_pts, k=30, n_jobs=1)[1]\n",
    "\n",
    "### smoothed velocities\n",
    "UMAP_v_mean = np.nanmean(np.array(UMAP_v)[NN], axis=1)"
   ]
  },
  {
   "cell_type": "code",
   "execution_count": null,
   "metadata": {},
   "outputs": [],
   "source": [
    "UMAP_v/=(np.std(UMAP_v)*3)"
   ]
  },
  {
   "cell_type": "code",
   "execution_count": null,
   "metadata": {},
   "outputs": [],
   "source": [
    "rcParams[\"axes.spines.left\"] = False\n",
    "rcParams[\"axes.spines.bottom\"] = False\n",
    "\n",
    "fig, ax = plt.subplots(1, 1, figsize=(10, 8), frameon=False)\n",
    "ax.scatter(UMAP_data[:,0], UMAP_data[:,1], color=light_color, s=100)\n",
    "\n",
    "ax.set_yticks([])\n",
    "ax.set_xticks([])\n",
    "\n",
    "\n",
    "# plot arrows \n",
    "ax.quiver(UMAP_data[sub,0], UMAP_data[sub,1], UMAP_v[sub,0], UMAP_v[sub,1], \n",
    "              color=cell_colors[sub], \n",
    "              **umap_quiver_kwargs)\n",
    "\n",
    "plt.tight_layout()\n",
    "save_path = \"../figures/pancreas_UMAP.png\"\n",
    "plt.savefig(save_path, dpi=300, transparent=True)\n",
    "plt.show()"
   ]
  },
  {
   "cell_type": "code",
   "execution_count": null,
   "metadata": {},
   "outputs": [],
   "source": [
    "UMAP_v_mean/=(np.std(UMAP_v_mean)*3)\n",
    "\n",
    "fig, ax = plt.subplots(1, 1, figsize=(10, 8), frameon=False)\n",
    "ax.scatter(UMAP_data[:,0], UMAP_data[:,1], color=light_color, s=100)\n",
    "\n",
    "ax.set_yticks([])\n",
    "ax.set_xticks([])\n",
    "\n",
    "# plot arrows \n",
    "ax.quiver(UMAP_data[sub,0], UMAP_data[sub,1], UMAP_v_mean[sub,0], UMAP_v_mean[sub,1], \n",
    "              color=cell_colors[sub], \n",
    "              **umap_quiver_kwargs)\n",
    "\n",
    "plt.tight_layout()\n",
    "save_path = \"../figures/pancreas_UMAP_smoothed.png\"\n",
    "plt.savefig(save_path, dpi=300, transparent=True)\n",
    "plt.show()"
   ]
  },
  {
   "cell_type": "code",
   "execution_count": null,
   "metadata": {},
   "outputs": [],
   "source": [
    "end_time = time.time()\n",
    "print(format_time(end_time-begin_time))"
   ]
  },
  {
   "cell_type": "code",
   "execution_count": null,
   "metadata": {},
   "outputs": [],
   "source": [
    "# export for comparison with eco-velo\n",
    "\n",
    "import pandas as pd\n",
    "pd.DataFrame(UMAP_data).to_csv(\"umap_coor.csv\")\n",
    "pd.DataFrame(UMAP_v).to_csv(\"umap_v.csv\")"
   ]
  },
  {
   "cell_type": "markdown",
   "metadata": {},
   "source": [
    "# scVelo"
   ]
  },
  {
   "cell_type": "code",
   "execution_count": null,
   "metadata": {},
   "outputs": [],
   "source": [
    "# run scVelo\n",
    "\n",
    "import scvelo as scv\n",
    "begin_time = time.time()\n",
    "\n",
    "scVelo_data = ad.read_h5ad(dataset_path)\n",
    "\n",
    "scv.pp.filter_and_normalize(scVelo_data, n_top_genes=5000)\n",
    "scv.pp.moments(scVelo_data)\n",
    "\n",
    "scv.tl.recover_dynamics(scVelo_data, n_jobs=8)\n",
    "\n",
    "scv.tl.velocity_graph(scVelo_data)"
   ]
  },
  {
   "cell_type": "code",
   "execution_count": null,
   "metadata": {},
   "outputs": [],
   "source": [
    "# project on UMAP with scVelo\n",
    "scv.tl.velocity_graph(scVelo_data)\n",
    "\n",
    "scVelo_data.obsm[\"X_umap\"]=UMAP_data\n",
    "scv.pl.velocity_embedding(scVelo_data, basis='umap', scale=.1)"
   ]
  },
  {
   "cell_type": "code",
   "execution_count": null,
   "metadata": {},
   "outputs": [],
   "source": [
    "end_time = time.time()\n",
    "print(format_time(end_time-begin_time))"
   ]
  },
  {
   "cell_type": "code",
   "execution_count": null,
   "metadata": {},
   "outputs": [],
   "source": [
    "# plotting outside of scVelo so both figures have the same style\n",
    "\n",
    "scVelo_UMAP_velo = scVelo_data.obsm[\"velocity_umap\"]\n",
    "\n",
    "scVelo_UMAP_velo/=(np.std(scVelo_UMAP_velo)*3)\n",
    "\n",
    "### create PCA plot of pancreas by kappa-velo\n",
    "rcParams[\"axes.spines.left\"] = False\n",
    "rcParams[\"axes.spines.bottom\"] = False\n",
    "\n",
    "fig, ax = plt.subplots(1, 1, figsize=(10, 8), frameon=False)\n",
    "ax.scatter(UMAP_data[:,0], UMAP_data[:,1], color=light_color, s=100)\n",
    "\n",
    "ax.set_yticks([])\n",
    "ax.set_xticks([])\n",
    "ax.scatter(UMAP_data[:,0], UMAP_data[:,1], color=light_color, s=100)\n",
    "\n",
    "# plot arrows \n",
    "ax.quiver(UMAP_data[sub,0], UMAP_data[sub,1], scVelo_UMAP_velo[sub,0], scVelo_UMAP_velo[sub,1], \n",
    "         color=cell_colors[sub], \n",
    "          **umap_quiver_kwargs)\n",
    "plt.tight_layout()\n",
    "\n",
    "save_path = \"../figures/pancreas_UMAP_scVelo_full.png\"\n",
    "plt.savefig(save_path, dpi=300, transparent=True)\n",
    "\n",
    "\n",
    "plt.show()"
   ]
  },
  {
   "cell_type": "code",
   "execution_count": null,
   "metadata": {},
   "outputs": [],
   "source": [
    "### remove likelihood genes\n",
    "likelihood_genes = scVelo_data.var['fit_likelihood'].sort_values(ascending=False)\n",
    "likelihood_genes = likelihood_genes.dropna()\n",
    "#likelihood_genes = likelihood_genes[likelihood_genes > 0.6]\n",
    "likelihood_genes = likelihood_genes.index.values\n",
    "scVelo_data = scVelo_data[:, likelihood_genes]"
   ]
  },
  {
   "cell_type": "code",
   "execution_count": null,
   "metadata": {},
   "outputs": [],
   "source": [
    "### scale data (imputed spliced counts)\n",
    "scal = StandardScaler()\n",
    "spliced_scaled = scal.fit_transform(scVelo_data.layers[\"Ms\"])\n",
    "\n",
    "### run PCA\n",
    "np.random.seed(0)\n",
    "n_pcs = 15\n",
    "pca = PCA(n_components=n_pcs, random_state=0)\n",
    "pca.fit(spliced_scaled)\n",
    "pca_pts = pca.transform(spliced_scaled)\n",
    "\n",
    "### create future states\n",
    "scale = .2\n",
    "S_fut = scVelo_data.layers[\"Ms\"]+(scVelo_data.layers[\"velocity\"]*scale)\n",
    "\n",
    "### scale in the same way as we scaled S\n",
    "S_fut_scaled = scal.transform(S_fut)\n",
    "\n",
    "### apply pre-trained PCA transformation on scaled future states\n",
    "pca_pts_fut = pca.transform(S_fut_scaled)\n",
    "\n",
    "### get velocity vector in PCA space\n",
    "pca_v = pca_pts_fut-pca_pts"
   ]
  },
  {
   "cell_type": "code",
   "execution_count": null,
   "metadata": {},
   "outputs": [],
   "source": [
    "rcParams[\"axes.spines.left\"] = True\n",
    "rcParams[\"axes.spines.bottom\"] = True\n",
    "\n",
    "### create PCA plot of pancreas by kappa-velo\n",
    "fig, axs = plt.subplots(1, 2, figsize=(20, 10))\n",
    "\n",
    "axs[0].scatter(pca_pts[:,0], pca_pts[:,1], color=light_color, s=25)\n",
    "axs[1].scatter(pca_pts[:,1], pca_pts[:,2], color=light_color, s=25)\n",
    "\n",
    "# make pretty\n",
    "axs[0].set_xticks([])\n",
    "axs[0].set_yticks([])\n",
    "axs[1].set_xticks([])\n",
    "axs[1].set_yticks([])\n",
    "\n",
    "# axis labels\n",
    "axs[0].set_xlabel(\"1st PC\", fontsize=18)\n",
    "axs[0].set_ylabel(\"2nd PC\", fontsize=18)\n",
    "axs[1].set_xlabel(\"2st PC\", fontsize=18)\n",
    "axs[1].set_ylabel(\"3rd PC\", fontsize=18)\n",
    "\n",
    "# title\n",
    "axs[0].set_title(\"scVelo velocities on PCA: PC1 and PC2\", fontsize=20)\n",
    "axs[1].set_title(\"scVelo velocities on PCA: PC2 and PC3\", fontsize=20)\n",
    "\n",
    "# plot arrows \n",
    "axs[0].quiver(pca_pts[:,0], pca_pts[:,1], pca_v[:,0], pca_v[:,1], \n",
    "              color=cell_colors, **pca_quiver_kwargs)\n",
    "axs[1].quiver(pca_pts[:,1], pca_pts[:,2], pca_v[:,1], pca_v[:,2], \n",
    "              color=cell_colors, **pca_quiver_kwargs)\n",
    "markers = [plt.Line2D([0,0],[0,0],color=color, marker='o', linestyle='') for color in color_dict.values()]\n",
    "plt.legend(markers, color_dict.keys(), numpoints=1, loc=\"upper right\", fontsize=15)\n",
    "plt.tight_layout()\n",
    "save_path = \"../figures/FigS15B_pancreas_scVelo_PCA.png\"\n",
    "plt.savefig(save_path, dpi=200, transparent=True)\n",
    "\n",
    "plt.show()"
   ]
  },
  {
   "cell_type": "code",
   "execution_count": null,
   "metadata": {},
   "outputs": [],
   "source": [
    "### calculate velocity projections\n",
    "n_neighbors = 10\n",
    "UMAP_fut = vis.vis.nystroem_project(UMAP_data, pca_pts, pca_pts_fut, \n",
    "                                n_neighbors=n_neighbors,\n",
    "                                force_no_scale=True)\n",
    "UMAP_v_scvelo = UMAP_fut-UMAP_data\n",
    "\n",
    "### get top 30 nearest neighbors\n",
    "NN = cKDTree(pca_pts).query(x=pca_pts, k=30, n_jobs=1)[1]\n",
    "\n",
    "### smoothed velocities\n",
    "UMAP_v_mean = np.nanmean(np.array(UMAP_v_scvelo)[NN], axis=1)"
   ]
  },
  {
   "cell_type": "code",
   "execution_count": null,
   "metadata": {},
   "outputs": [],
   "source": [
    "rcParams[\"axes.spines.left\"] = False\n",
    "rcParams[\"axes.spines.bottom\"] = False\n",
    "\n",
    "UMAP_v_scvelo/=(np.std(UMAP_v_scvelo)*3)\n",
    "\n",
    "\n",
    "fig, ax = plt.subplots(1, 1, figsize=(10, 8), frameon=False)\n",
    "ax.scatter(UMAP_data[:,0], UMAP_data[:,1], color=light_color, s=100)\n",
    "\n",
    "ax.set_yticks([])\n",
    "ax.set_xticks([])\n",
    "\n",
    "# plot arrows \n",
    "ax.quiver(UMAP_data[sub,0], UMAP_data[sub,1], UMAP_v_scvelo[sub,0], UMAP_v_scvelo[sub,1], \n",
    "              color=cell_colors[sub], \n",
    "              **umap_quiver_kwargs)\n",
    "\n",
    "plt.tight_layout()\n",
    "save_path = \"../figures/pancreas_UMAP_scVelo.png\"\n",
    "plt.savefig(save_path, dpi=300, transparent=True)\n",
    "plt.show()"
   ]
  },
  {
   "cell_type": "code",
   "execution_count": null,
   "metadata": {},
   "outputs": [],
   "source": [
    "fig, ax = plt.subplots(1, 1, figsize=(10, 8), frameon=False)\n",
    "ax.scatter(UMAP_data[:,0], UMAP_data[:,1], color=light_color, s=100)\n",
    "\n",
    "ax.set_yticks([])\n",
    "ax.set_xticks([])\n",
    "\n",
    "# plot arrows \n",
    "UMAP_v_mean/=(np.std(UMAP_v_mean)*3)\n",
    "\n",
    "ax.quiver(UMAP_data[sub,0], UMAP_data[sub,1], UMAP_v_mean[sub,0], UMAP_v_mean[sub,1], \n",
    "              color=cell_colors[sub], \n",
    "              **umap_quiver_kwargs)\n",
    "\n",
    "plt.tight_layout()\n",
    "save_path = \"../figures/pancreas_UMAP_scVelo_smoothed.png\"\n",
    "markers = [plt.Line2D([0,0],[0,0],color=color, marker='o', linestyle='') for color in color_dict.values()]\n",
    "plt.legend(markers, color_dict.keys(), numpoints=1, loc=\"lower right\", fontsize=10)\n",
    "plt.savefig(save_path, dpi=300, transparent=True)\n",
    "plt.show()"
   ]
  },
  {
   "cell_type": "code",
   "execution_count": null,
   "metadata": {},
   "outputs": [],
   "source": [
    "# compare parameters\n",
    "\n",
    "### unscaled parameters\n",
    "alpha = scVelo_data.var[\"fit_alpha\"]/np.nanmedian(scVelo_data.var[\"fit_alpha\"])\n",
    "beta = scVelo_data.var[\"fit_beta\"]/np.nanmedian(scVelo_data.var[\"fit_beta\"])\n",
    "gamma = scVelo_data.var[\"fit_gamma\"]/np.nanmedian(scVelo_data.var[\"fit_gamma\"])\n",
    "\n",
    "### scaled parameters\n",
    "new_alpha = scaled_data.var[\"fit_alpha\"].astype(float)/np.nanmedian(scaled_data.var[\"fit_alpha\"].astype(float))\n",
    "new_beta = scaled_data.var[\"fit_beta\"].astype(float)/np.nanmedian(scaled_data.var[\"fit_beta\"].astype(float))\n",
    "new_gamma = scaled_data.var[\"fit_gamma\"].astype(float)/np.nanmedian(scaled_data.var[\"fit_gamma\"].astype(float))\n",
    "\n",
    "### plot the recovered parameters for original protocol (scVelo) and kappa-velo\n",
    "rcParams[\"axes.spines.left\"] = True\n",
    "rcParams[\"axes.spines.bottom\"] = True\n",
    "fig, axs = plt.subplots(1, 3, figsize=(9,3), frameon=False, sharey=False)\n",
    "\n",
    "_, bins, _ = axs[0].hist(np.log10(alpha), bins=20, alpha=.6, color=\"tab:red\", label=[\"scVelo\"], density=True)\n",
    "axs[0].hist(np.log10(new_alpha), bins=bins, alpha = .6, color=\"royalblue\", label=[\"κ-velo\"], density=True)\n",
    "l = np.max(np.log10(alpha))\n",
    "axs[0].set_xlim((-l, l))\n",
    "\n",
    "_, bins, _ = axs[1].hist(np.log10(beta), bins=20, alpha=.6, color=\"tab:red\", density=True)\n",
    "axs[1].hist(np.log10(new_beta), bins=bins, alpha = .6, color=\"royalblue\", density=True)\n",
    "l = np.max(np.log10(beta))\n",
    "axs[0].set_xlim((-l, l))\n",
    "\n",
    "_, bins, _ = axs[2].hist(np.log10(gamma), bins=20, alpha=.6, color=\"tab:red\", density=True)\n",
    "axs[2].hist(np.log10(new_gamma), bins=bins, alpha = .6, color=\"royalblue\", density=True)\n",
    "l = np.max(np.log10(gamma))\n",
    "axs[2].set_xlim((-l, l))\n",
    "\n",
    "pars = [\"alpha\", \"beta\", \"gamma\"]\n",
    "title = [\"Transcription rate\\n\", \"Splicing rate\\n\", \"Degradation rate\\n\"]\n",
    "for i in range(3):\n",
    "    axs[i].grid(False)\n",
    "    axs[i].set_xticks([-2, -1, 0, 1, 2])\n",
    "    axs[i].set_yticks([0,.5, 1, 1.5])\n",
    "    axs[i].set_ylim([0, 1.5])\n",
    "    axs[i].set_ylabel(\"Frequency\", fontsize=14)\n",
    "    axs[i].set_xlabel(\"log10\" +pars[i], fontsize=14)\n",
    "    axs[i].set_title(title[i], fontsize=18)\n",
    "    \n",
    "axs[0].legend(fontsize=12, loc='upper left')\n",
    "\n",
    "plt.tight_layout()\n",
    "\n",
    "# save figure\n",
    "save_path = \"../figures/FigS14_recovered_parameters_pancreas.pdf\"\n",
    "plt.savefig(save_path, dpi=200, transparent=True)\n",
    "\n",
    "plt.show()"
   ]
  },
  {
   "cell_type": "code",
   "execution_count": null,
   "metadata": {},
   "outputs": [],
   "source": [
    "\n",
    "rcParams[\"axes.spines.left\"] = True\n",
    "rcParams[\"axes.spines.bottom\"] = True\n",
    "rcParams[\"axes.spines.right\"] = True\n",
    "rcParams[\"axes.spines.top\"] = True\n",
    "\n",
    "fig, ax = plt.subplots(1, 1, figsize=(3,7), frameon=False, sharey=False)\n",
    "\n",
    "\n",
    "_, bins, _ = ax.hist(np.log10(beta), bins=20, alpha=.6, color=\"tab:red\", density=True)\n",
    "ax.hist(np.log10(new_beta), bins=bins, alpha = .6, color=\"royalblue\", density=True)\n",
    "l = np.max(np.abs(np.log10(beta)))\n",
    "ax.set_xlim((-l, l))\n",
    "\n",
    "\n",
    "ax.grid(False)\n",
    "ax.set_xticks([-2, -1, 0, 1, 2])\n",
    "ax.set_yticks([0,.5, 1, 1.5])\n",
    "ax.set_ylim((0, 1.8))\n",
    "ax.set_ylabel(\"\")\n",
    "ax.set_xlabel(\"\")\n",
    "    \n",
    "\n",
    "plt.tight_layout()\n",
    "\n",
    "# save figure\n",
    "save_path = \"../figures/recovered_parameters_pancreas_beta.png\"\n",
    "plt.savefig(save_path, dpi=300, transparent=True)\n",
    "\n",
    "plt.show()\n",
    "\n",
    "rcParams[\"axes.spines.right\"] = False\n",
    "rcParams[\"axes.spines.top\"] = False"
   ]
  },
  {
   "cell_type": "markdown",
   "metadata": {},
   "source": [
    "# supplementary figures"
   ]
  },
  {
   "cell_type": "markdown",
   "metadata": {},
   "source": [
    "## (1) comparison scVelo / $\\kappa$-velo"
   ]
  },
  {
   "cell_type": "code",
   "execution_count": null,
   "metadata": {},
   "outputs": [],
   "source": [
    "v_us, v_scvelo = UMAP_v, scVelo_UMAP_velo\n",
    "v_us /= np.std(v_us)\n",
    "v_scvelo /= np.std(v_scvelo)"
   ]
  },
  {
   "cell_type": "code",
   "execution_count": null,
   "metadata": {},
   "outputs": [],
   "source": [
    "from velocity.visualisation.vis_utils import vector_distance\n",
    "### calculate change in direction\n",
    "a0= vector_distance(v_us, v_scvelo, metric=\"cosine\")\n",
    "### calculate change in angle\n",
    "d0 = vector_distance(v_us, v_scvelo, metric=\"norm_diff\")\n",
    "n0 = vector_distance(v_us, v_scvelo, metric=\"diff_norm\")"
   ]
  },
  {
   "cell_type": "code",
   "execution_count": null,
   "metadata": {},
   "outputs": [],
   "source": [
    "rcParams[\"axes.spines.left\"] = False\n",
    "rcParams[\"axes.spines.bottom\"] = False\n",
    "\n",
    "# cell type umap\n",
    "fig, axs = plt.subplots(1,1, figsize=(5, 4.5), frameon=False)\n",
    "im = axs.scatter(UMAP_data[:,0], UMAP_data[:,1], s=15, color=cell_colors, alpha=1)\n",
    "axs.set_title(\"Cell types\", fontsize=16)\n",
    "axs.set_yticks([]), axs.set_xticks([])\n",
    "plt.tight_layout()\n",
    "markers = [plt.Line2D([0,0],[0,0],color=color, marker='o', linestyle='') for color in color_dict.values()]\n",
    "plt.legend(markers, color_dict.keys(), numpoints=1, loc=\"lower right\", fontsize=7)\n",
    "plt.savefig(\"../figures/fig_cell_type_pancreas\", dpi=300, transparent=True)\n",
    "\n",
    "# distance metric umap\n",
    "titles = [\"\", \"Diff. in vector norm\", \"\"]\n",
    "color = [a0, d0, n0]\n",
    "cmaps = [\"YlOrRd_r\", \"bwr\", \"YlOrRd\"]\n",
    "vmin_vmax = [(-1, 1), (-2, 2), (0, 3)]\n",
    "save_name = [\"fig_cosine_pancreas\", \"fig_norm_pancreas\", \"fig_errors_pancreas\"]\n",
    "for i in range(3):\n",
    "    fig, axs = plt.subplots(1,1, figsize=(5, 4.5), frameon=False)\n",
    "    vmin, vmax=vmin_vmax[i]\n",
    "    im = axs.scatter(UMAP_data[:,0], UMAP_data[:,1], s=15, c=color[i], alpha=.5, vmin=vmin, vmax=vmax, cmap=cmaps[i])\n",
    "    cax = fig.add_axes([0.52, 0.88, 0.4, 0.05])\n",
    "    cbar = fig.colorbar(im, cax=cax, orientation='horizontal')\n",
    "    cbar.ax.tick_params(labelsize=15)\n",
    "    axs.set_title(titles[i], fontsize=16)\n",
    "    axs.set_yticks([]), axs.set_xticks([])\n",
    "    plt.tight_layout()\n",
    "    plt.savefig(\"../figures/\"+save_name[i], dpi=300, transparent=True)\n",
    "\n",
    "plt.show()"
   ]
  },
  {
   "cell_type": "markdown",
   "metadata": {},
   "source": [
    "## (2) kappa from S"
   ]
  },
  {
   "cell_type": "code",
   "execution_count": null,
   "metadata": {},
   "outputs": [],
   "source": [
    "from velocity.tools.fit_utils import *\n",
    "from velocity.tools.kappa import *"
   ]
  },
  {
   "cell_type": "code",
   "execution_count": null,
   "metadata": {},
   "outputs": [],
   "source": [
    "adata = copy_.copy()"
   ]
  },
  {
   "cell_type": "code",
   "execution_count": null,
   "metadata": {},
   "outputs": [],
   "source": [
    "### get kappa and scale anndata object\n",
    "beta_s = np.ones(adata.shape[1])\n",
    "beta_u = adata.var.fit_beta\n",
    "\n",
    "alpha, gamma, Uk = adata.var.fit_alpha, adata.var.fit_gamma, adata.var.fit_U_switch\n",
    "scaling = adata.var.fit_scaling\n",
    "Pi = adata.layers[\"fit_Pi\"]\n",
    "unspliced, spliced = adata.layers[\"Mu\"], adata.layers[\"Ms\"]\n",
    "for i in range(scaled_data.shape[1]):\n",
    "    if np.isnan(beta_u[i]):\n",
    "        beta_s[i] = np.nan\n",
    "    else:\n",
    "        k = (unspliced[:,i] * scaling[i]) > (gamma[i]/beta_u[i] * spliced[:,i])\n",
    "        st = S(alpha[i]/beta_u[i], gamma[i]/beta_u[i], 0, 0, Pi[:,i])\n",
    "        beta_s[i] = get_kappa(alpha=alpha[i]/beta_u[i], beta=1, gamma=gamma[i]/beta_u[i], \n",
    "                              ut=Pi[:,i], st=st, u_switch=Uk[i], k=k, mode=\"s\")\n",
    "\n",
    "\n"
   ]
  },
  {
   "cell_type": "code",
   "execution_count": null,
   "metadata": {},
   "outputs": [],
   "source": [
    "from scipy.stats import pearsonr, spearmanr\n",
    "\n",
    "rcParams[\"axes.spines.left\"] = True\n",
    "rcParams[\"axes.spines.bottom\"] = True\n",
    "\n",
    "fig, axs = plt.subplots(1, 1, figsize=(5,5), frameon=False)\n",
    "x, y = np.log(beta_s.astype(float)*100), np.log(beta_u.astype(float)*100)\n",
    "sub = (~np.isnan(y))&(~np.isnan(x))&(x!=-np.infty)\n",
    "x, y = x[sub], y[sub]\n",
    "plt.scatter(x, y, c=\"black\")\n",
    "axs.text(-3.5, 3.3, \n",
    "         \"Person's corr: \"+str(np.round(pearsonr(x, y)[0],2)),\n",
    "        bbox={'facecolor': 'white', 'pad': 10})\n",
    "axs.set_xlim((-4, 4))\n",
    "axs.set_ylim((-4, 4))\n",
    "axs.plot([-4, 4], [-4, 4])\n",
    "plt.xlabel(\"log kappa from s(t)\")\n",
    "plt.ylabel(\"log kappa from u(t)\")\n",
    "#plt.savefig(\"../figures/SXX_pancreas_kappa_from_st.png\", dpi=300, transparent=True)\n",
    "plt.show()"
   ]
  },
  {
   "cell_type": "code",
   "execution_count": null,
   "metadata": {},
   "outputs": [],
   "source": [
    "import pandas as pd\n",
    "pd.DataFrame(UMAP_data).to_csv(\"umap_coor.csv\")\n",
    "pd.DataFrame(UMAP_v).to_csv(\"umap_v.csv\")"
   ]
  },
  {
   "cell_type": "code",
   "execution_count": null,
   "metadata": {},
   "outputs": [],
   "source": []
  }
 ],
 "metadata": {
  "kernelspec": {
   "display_name": "clone",
   "language": "python",
   "name": "clone"
  },
  "language_info": {
   "codemirror_mode": {
    "name": "ipython",
    "version": 3
   },
   "file_extension": ".py",
   "mimetype": "text/x-python",
   "name": "python",
   "nbconvert_exporter": "python",
   "pygments_lexer": "ipython3",
   "version": "3.8.5"
  }
 },
 "nbformat": 4,
 "nbformat_minor": 4
}
