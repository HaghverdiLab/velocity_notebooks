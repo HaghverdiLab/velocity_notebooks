{
 "cells": [
  {
   "cell_type": "markdown",
   "id": "dcb194e7",
   "metadata": {},
   "source": [
    "## eco-velo on simulation\n",
    "\n",
    "In this notebook we will apply our eco-velo method to a simulation. You can use this notebook to reproduce figures 5B and S7."
   ]
  },
  {
   "cell_type": "code",
   "execution_count": null,
   "id": "08c547f4",
   "metadata": {},
   "outputs": [],
   "source": [
    "### load libraries\n",
    "\n",
    "# general libraries\n",
    "import pandas as pd\n",
    "import numpy as np\n",
    "\n",
    "# single cell libraries\n",
    "import scvelo as scv\n",
    "import scanpy as sc\n",
    "#import anndata as ad\n",
    "\n",
    "# plotting libraries\n",
    "import matplotlib.pyplot as plt\n",
    "\n",
    "# dimension reduction libraries\n",
    "from sklearn.decomposition import PCA #for generating a PCA embedding\n",
    "from sklearn.manifold import TSNE #for generating a t-SNE embedding\n",
    "\n",
    "#other\n",
    "from scipy.spatial import cKDTree #for calculating NN\n",
    "import sklearn as sk #used for L2 normalization\n",
    "import sklearn.preprocessing #used for L2 normalization\n",
    "\n",
    "# import our own functions\n",
    "from kappavelo import *\n",
    "from processing import *\n",
    "from simulation import *"
   ]
  },
  {
   "cell_type": "code",
   "execution_count": null,
   "id": "eastern-anthony",
   "metadata": {},
   "outputs": [],
   "source": [
    "### set scvelo settings\n",
    "scv.settings.verbosity = 0 "
   ]
  },
  {
   "cell_type": "markdown",
   "id": "54e86454",
   "metadata": {},
   "source": [
    "### Generate simulation data\n",
    "\n",
    "Here, we generate the simulation data that we will be using to test our $\\kappa$-velo method. The simulation is create using the build in function from scVelo: `scvelo.datasets.simulation`. Our simulation contains 50 genes and 2850 cells. The parameters $\\alpha$, $\\beta$ and $\\gamma$ are sampled from a multivariate log-normal distribution and scaled by a scaling factor $\\kappa$ between 1 and 15."
   ]
  },
  {
   "cell_type": "code",
   "execution_count": null,
   "id": "0a8ca1d8",
   "metadata": {},
   "outputs": [],
   "source": [
    "### set seed\n",
    "np.random.seed(3)\n",
    "\n",
    "### set variables\n",
    "n_vars, n_obs, t_max, noise_level = 50, 3000, 10, 1\n",
    "switches = np.arange(.9, 0.999, (.999-.9)/n_vars)\n",
    "start_t = None\n",
    "\n",
    "### set parameters alpha, beta, gamma\n",
    "mu = np.array([1, .2, .05])\n",
    "R = np.array([[1., .2, .2], [.2, 1., .2], [.2, .2, 1.]])\n",
    "C = np.array([0.2, 0.2, 0.2])[:, None]\n",
    "cov = C.dot(C.T) * R\n",
    "alpha, beta, gamma = np.exp(np.random.multivariate_normal(mu, cov, size=n_vars).T)  # multivariate log-normal\n",
    "beta /= 3\n",
    "gamma /= 3\n",
    "\n",
    "### scale genes to different time scales (kappa)\n",
    "max_kappa = 15\n",
    "min_kappa = 1\n",
    "kappa = np.random.uniform(min_kappa, max_kappa, n_vars)\n",
    "kappa[0:3]=1\n",
    "alpha, beta, gamma, switches = alpha*kappa, beta*kappa, gamma*kappa, switches \n",
    "\n",
    "### create simulation dataset\n",
    "adata = simulation(n_obs=n_obs, t_max=t_max, n_vars=n_vars, noise_level=noise_level, alpha=alpha, beta=beta, gamma=gamma, switches=switches, start_t=start_t)\n",
    "\n",
    "### remove first 150 cells\n",
    "adata = adata[0:n_obs-150].copy()\n",
    "scv.pp.neighbors(adata)"
   ]
  },
  {
   "cell_type": "markdown",
   "id": "490f497d",
   "metadata": {},
   "source": [
    "### Find first MNN of u in S\n",
    "\n",
    "Here, we use the unspliced counts of each cell and match it to the first mutual nearest neighbour (MNN) in the S space. "
   ]
  },
  {
   "cell_type": "code",
   "execution_count": null,
   "id": "59b58f7f",
   "metadata": {},
   "outputs": [],
   "source": [
    "### log transformation of the dataset\n",
    "adata.X = np.matrix(np.where(adata.X != 0, np.log(adata.X), 0))\n",
    "adata.layers['spliced'] = np.matrix(np.where(adata.layers['spliced'] != 0, np.log(adata.layers['spliced']), 0))\n",
    "adata.layers['unspliced'] = np.matrix(np.where(adata.layers['unspliced'] != 0, np.log(adata.layers['unspliced']), 0))"
   ]
  },
  {
   "cell_type": "code",
   "execution_count": null,
   "id": "131fc440",
   "metadata": {},
   "outputs": [],
   "source": [
    "### L2 normalize spliced and unspliced separately\n",
    "adata.X = sk.preprocessing.normalize(adata.X, norm='l2')\n",
    "adata.layers['spliced'] = sk.preprocessing.normalize(adata.layers['spliced'], norm='l2')\n",
    "adata.layers['unspliced'] = sk.preprocessing.normalize(adata.layers['unspliced'], norm='l2')"
   ]
  },
  {
   "cell_type": "code",
   "execution_count": null,
   "id": "d547a4fd",
   "metadata": {},
   "outputs": [],
   "source": [
    "### get spliced and unspliced counts in matrix\n",
    "mnn = find_mutual_nn(adata.layers['unspliced'], adata.layers['spliced'], k = 100)"
   ]
  },
  {
   "cell_type": "markdown",
   "id": "c26aaeaa",
   "metadata": {},
   "source": [
    "### Visualisation of velocities \n",
    "\n",
    "Here, we visualise the velocities using eco-velo's approach. We show the approach on PCA, t-SNE, and UMAP embeddings. "
   ]
  },
  {
   "cell_type": "markdown",
   "id": "4628db34",
   "metadata": {},
   "source": [
    "### (I) PCA"
   ]
  },
  {
   "cell_type": "code",
   "execution_count": null,
   "id": "51587bf1",
   "metadata": {},
   "outputs": [],
   "source": [
    "### calculate PCA on spliced counts\n",
    "sc.tl.pca(adata, n_comps=5)"
   ]
  },
  {
   "cell_type": "code",
   "execution_count": null,
   "id": "574da994",
   "metadata": {},
   "outputs": [],
   "source": [
    "### plot PCA\n",
    "scv.pl.scatter(adata, \"pca\")"
   ]
  },
  {
   "cell_type": "code",
   "execution_count": null,
   "id": "1566c338",
   "metadata": {},
   "outputs": [],
   "source": [
    "### get points for PCA\n",
    "orig_points = adata.obsm[\"X_pca\"]\n",
    "new_points = orig_points[mnn]\n",
    "dx = new_points[:,0] - orig_points[:,0]\n",
    "dy = new_points[:,1] - orig_points[:,1]"
   ]
  },
  {
   "cell_type": "code",
   "execution_count": null,
   "id": "370d08ed",
   "metadata": {},
   "outputs": [],
   "source": [
    "### create selection\n",
    "step = 3\n",
    "select = np.zeros(adata.shape[0]).astype(bool)\n",
    "select[np.arange(0, adata.shape[0], step)]=True\n",
    "select[np.array(mnn)<=0]=False"
   ]
  },
  {
   "cell_type": "code",
   "execution_count": null,
   "id": "e8d00095",
   "metadata": {},
   "outputs": [],
   "source": [
    "### create PCA plot (eco-velo visualisation)\n",
    "fig, axs = plt.subplots(1, 1, figsize=(7, 6), frameon=False)\n",
    "\n",
    "kwargs = {\"vmin\":0, \"vmax\":30}\n",
    "axs.scatter(orig_points[select,0], orig_points[select,1], color=\"lightgrey\",s=100, **kwargs)\n",
    "\n",
    "n=4\n",
    "akwargs = {\"head_width\":.01, \"head_length\":.01, \"alpha\":.6, \"width\":0.001, \"color\":\"black\"}\n",
    "for i in np.where(select)[0]:\n",
    "    axs.arrow(orig_points[i,0], orig_points[i,1], dx=dx[i]/n, dy=dy[i]/n, **akwargs)\n",
    "\n",
    "axs.axis('off')\n",
    "fig.tight_layout()\n",
    "\n",
    "# save figure\n",
    "save_path = \"../figures/FigS7A_PCA_simulation_eco-velo.pdf\"\n",
    "plt.savefig(save_path, dpi=300, transparent=True)\n",
    "\n",
    "plt.show()"
   ]
  },
  {
   "cell_type": "markdown",
   "id": "b4a66c6a",
   "metadata": {},
   "source": [
    "### (II) UMAP"
   ]
  },
  {
   "cell_type": "code",
   "execution_count": null,
   "id": "8c2fbb76",
   "metadata": {},
   "outputs": [],
   "source": [
    "### calculate NN\n",
    "sc.pp.neighbors(adata, n_neighbors=20, use_rep = \"X_pca\", n_pcs=5)\n",
    "\n",
    "### calculate UMAP on spliced counts\n",
    "sc.tl.umap(adata)"
   ]
  },
  {
   "cell_type": "code",
   "execution_count": null,
   "id": "a7af5594",
   "metadata": {},
   "outputs": [],
   "source": [
    "### plot UMAP\n",
    "scv.pl.scatter(adata, \"umap\")"
   ]
  },
  {
   "cell_type": "code",
   "execution_count": null,
   "id": "63fb19d4",
   "metadata": {},
   "outputs": [],
   "source": [
    "### get points for UMAP\n",
    "orig_points = adata.obsm[\"X_umap\"]\n",
    "new_points = orig_points[mnn]\n",
    "dx = new_points[:,0] - orig_points[:,0]\n",
    "dy = new_points[:,1] - orig_points[:,1]"
   ]
  },
  {
   "cell_type": "code",
   "execution_count": null,
   "id": "a9299548",
   "metadata": {},
   "outputs": [],
   "source": [
    "### create UMAP plot (eco-velo visualisation)\n",
    "fig, axs = plt.subplots(1, 1, figsize=(8, 8), frameon=False)\n",
    "\n",
    "kwargs = {\"vmin\":0, \"vmax\":30}\n",
    "axs.scatter(orig_points[select,0], orig_points[select,1], \n",
    "            color=\"lightgrey\",\n",
    "            s=100, **kwargs)\n",
    "\n",
    "akwargs = {\"head_width\":.15, \"head_length\":.15, \"alpha\":.6, \"width\":0.001, \"color\":\"black\"}\n",
    "for i in np.where(select)[0]:\n",
    "    axs.arrow(orig_points[i,0], orig_points[i,1], dx=dx[i]/n, dy=dy[i]/n, **akwargs)\n",
    "    \n",
    "axs.axis('off')\n",
    "fig.tight_layout()\n",
    "\n",
    "# save figure\n",
    "save_path = \"../figures/FigS7B_UMAP_simulation_eco-velo.pdf\"\n",
    "plt.savefig(save_path, dpi=300, transparent=True)\n",
    "\n",
    "plt.show()"
   ]
  },
  {
   "cell_type": "markdown",
   "id": "ae74e281",
   "metadata": {},
   "source": [
    "### (III) t-SNE"
   ]
  },
  {
   "cell_type": "code",
   "execution_count": null,
   "id": "92d74a3e",
   "metadata": {},
   "outputs": [],
   "source": [
    "### calculate t-SNE on spliced counts\n",
    "data = TSNE(n_components=2, random_state=0, perplexity=100).fit_transform(adata.obsm[\"X_pca\"])\n",
    "data[:,0]=-data[:,0]\n",
    "adata.obsm[\"X_tsne\"]=data"
   ]
  },
  {
   "cell_type": "code",
   "execution_count": null,
   "id": "4a978ec1",
   "metadata": {},
   "outputs": [],
   "source": [
    "### plot t-SNE\n",
    "scv.pl.scatter(adata, \"tsne\")"
   ]
  },
  {
   "cell_type": "code",
   "execution_count": null,
   "id": "829deea3",
   "metadata": {},
   "outputs": [],
   "source": [
    "### get points for t-SNE\n",
    "orig_points = adata.obsm[\"X_tsne\"]\n",
    "new_points = orig_points[mnn]\n",
    "dx = new_points[:,0] - orig_points[:,0]\n",
    "dy = new_points[:,1] - orig_points[:,1]"
   ]
  },
  {
   "cell_type": "code",
   "execution_count": null,
   "id": "57893796",
   "metadata": {},
   "outputs": [],
   "source": [
    "### create selection\n",
    "step = 5\n",
    "select = np.zeros(adata.shape[0]).astype(bool)\n",
    "select[np.arange(0, adata.shape[0], step)]=True\n",
    "select[np.array(mnn)<=0]=False"
   ]
  },
  {
   "cell_type": "code",
   "execution_count": null,
   "id": "11de4698",
   "metadata": {},
   "outputs": [],
   "source": [
    "### create t-SNE plot (eco-velo visualisation)\n",
    "fig, axs = plt.subplots(1, 1, figsize=(7, 7), frameon=False)\n",
    "\n",
    "kwargs = {\"vmin\":0, \"vmax\":30}\n",
    "akwargs = {\"head_width\":.6, \"head_length\":.6, \"alpha\":.6, \"width\":0.0001, \"color\":\"black\"}\n",
    "\n",
    "axs.scatter(orig_points[select,0], orig_points[select,1], color=\"lightgrey\", s=100, **kwargs)\n",
    "\n",
    "for i in np.where(select)[0]:\n",
    "    axs.arrow(orig_points[i,0], orig_points[i,1], dx=dx[i]/n, dy=dy[i]/n, **akwargs)\n",
    "\n",
    "axs.axis('off')\n",
    "fig.tight_layout()\n",
    "\n",
    "# save figure\n",
    "save_path = \"../figures/Fig5B_tSNE_simulation_eco-velo.pdf\"\n",
    "plt.savefig(save_path, dpi=300, transparent=True)\n",
    "\n",
    "plt.show()"
   ]
  }
 ],
 "metadata": {
  "kernelspec": {
   "display_name": "clone",
   "language": "python",
   "name": "clone"
  },
  "language_info": {
   "codemirror_mode": {
    "name": "ipython",
    "version": 3
   },
   "file_extension": ".py",
   "mimetype": "text/x-python",
   "name": "python",
   "nbconvert_exporter": "python",
   "pygments_lexer": "ipython3",
   "version": "3.8.5"
  }
 },
 "nbformat": 4,
 "nbformat_minor": 5
}
