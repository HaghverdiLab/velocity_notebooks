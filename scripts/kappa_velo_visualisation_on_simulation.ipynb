{
 "cells": [
  {
   "cell_type": "markdown",
   "id": "ef225a2b",
   "metadata": {},
   "source": [
    "## $\\kappa$-velo visualisation on simulation\n",
    "\n",
    "In this notebook we will apply our $\\kappa$-velo method to a simulation. More specifically, in this notebook we are interested in the visualisation of the velocities, which is one of the steps in the $\\kappa$-velo workflow. You can use this notebook to reproduce figures 1A,B,D and S4A-F. "
   ]
  },
  {
   "cell_type": "code",
   "execution_count": null,
   "id": "eastern-anthony",
   "metadata": {},
   "outputs": [],
   "source": [
    "### load libraries\n",
    "\n",
    "# general libraries\n",
    "import numpy as np\n",
    "\n",
    "# single cell libraries\n",
    "import scvelo as scv\n",
    "\n",
    "# plotting libraries\n",
    "import matplotlib.pyplot as plt\n",
    "\n",
    "# dimension reduction libraries\n",
    "from sklearn.decomposition import PCA\n",
    "from sklearn.metrics import pairwise_distances\n",
    "from sklearn.manifold import TSNE\n",
    "import umap\n",
    "\n",
    "# other\n",
    "from scipy.spatial import cKDTree #for projection onto existing t-SNE\n",
    "\n",
    "# import our own functions\n",
    "from functions import *\n",
    "from projection import *\n",
    "from simulation import *"
   ]
  },
  {
   "cell_type": "code",
   "execution_count": null,
   "id": "cb20d3ec",
   "metadata": {},
   "outputs": [],
   "source": [
    "### set scvelo settings\n",
    "scv.settings.verbosity = 0 "
   ]
  },
  {
   "cell_type": "markdown",
   "id": "2499e3c9",
   "metadata": {},
   "source": [
    "### Generate simulation data\n",
    "\n",
    "Here, we generate a simulated dataset that we will use to test $\\kappa$-velo's visualisation approach on. We use scVelo's function `scvelo.datasets.simulation` to create the simulation. The simulated dataset has 25 genes and 2850 cells with parameters $\\alpha$, $\\beta$ and $\\gamma$ scaled by a scaling factor $\\kappa$ between 1 and 15. Finally, we use our function `get_velocity` to calculate the ground truth velocities using the true parameters. "
   ]
  },
  {
   "cell_type": "code",
   "execution_count": null,
   "id": "proof-sugar",
   "metadata": {},
   "outputs": [],
   "source": [
    "### set random seed\n",
    "np.random.seed(3)\n",
    "\n",
    "### set variables\n",
    "n_vars, n_obs, t_max, noise_level = 25, 3000, 10, 1\n",
    "switches = np.arange(.9, 0.999, (.999-.9)/n_vars)\n",
    "start_t = None\n",
    "\n",
    "### set parameters alpha, beta gamma\n",
    "mu = np.array([1, .2, .05])\n",
    "R = np.array([[1., .2, .2], [.2, 1., .2], [.2, .2, 1.]])\n",
    "C = np.array([0.2, 0.2, 0.2])[:, None]\n",
    "cov = C.dot(C.T) * R\n",
    "alpha, beta, gamma = np.exp(np.random.multivariate_normal(mu, cov, size=n_vars).T)  # multivariate log-normal\n",
    "beta /= 3\n",
    "gamma /= 3\n",
    "\n",
    "### scale genes to different time scales (kappa)\n",
    "max_kappa = 15\n",
    "min_kappa = 1\n",
    "kappa = np.random.uniform(min_kappa, max_kappa, n_vars)\n",
    "kappa[0:3]=1\n",
    "alpha, beta, gamma, switches = alpha*kappa, beta*kappa, gamma*kappa, switches\n",
    "\n",
    "### create simulation dataset\n",
    "adata = simulation(n_obs=n_obs, t_max=t_max, n_vars=n_vars, noise_level=noise_level, alpha=alpha, beta=beta, gamma=gamma, switches=switches, start_t=start_t)\n",
    "\n",
    "### remove first 150 cells\n",
    "adata = adata[0:n_obs-150].copy()\n",
    "scv.pp.neighbors(adata)\n",
    "\n",
    "### recover true velocities\n",
    "get_velocity(adata, key=\"true\")"
   ]
  },
  {
   "cell_type": "markdown",
   "id": "65188252",
   "metadata": {},
   "source": [
    "### Visualisation of velocities (scVelo vs $\\kappa$-velo)\n",
    "\n",
    "Here, we visualise the true velocities using scVelo's approach and our $\\kappa$-velo approach. First, we calculate an embedding using the spliced counts (.X). Then, we use either scVelo or $\\kappa$-velo to project the velocities onto the existing embedding. We compare the two approaches on PCA, t-SNE, diffusion map, and UMAP embeddings. "
   ]
  },
  {
   "cell_type": "markdown",
   "id": "d953cb2a",
   "metadata": {},
   "source": [
    "### (I) PCA \n",
    "\n",
    "These figures correspond to Figure 1A and 1B in the manuscript."
   ]
  },
  {
   "cell_type": "code",
   "execution_count": null,
   "id": "16a44901",
   "metadata": {},
   "outputs": [],
   "source": [
    "### calculate PCA embedding\n",
    "pca = PCA(n_components=2, copy=True)\n",
    "pc = pca.fit(adata.X)\n",
    "data = pc.transform(adata.X)"
   ]
  },
  {
   "cell_type": "code",
   "execution_count": null,
   "id": "c3e3cbc8",
   "metadata": {},
   "outputs": [],
   "source": [
    "### our projection approach\n",
    "zero = pca.transform(np.zeros((1,n_vars)))\n",
    "v_t = (pca.transform(adata.layers[\"velocity\"]*5)-zero)"
   ]
  },
  {
   "cell_type": "code",
   "execution_count": null,
   "id": "37be1dcc",
   "metadata": {},
   "outputs": [],
   "source": [
    "### scvelo projection approach\n",
    "adata.obsm[\"X_pca\"]=data\n",
    "bdata = adata.copy()\n",
    "scv.tl.velocity_graph(bdata)\n",
    "scv.tl.velocity_embedding(bdata, \"pca\")#, scale=0.10)\n",
    "v_0 = bdata.obsm[\"velocity_pca\"][:,0:2]\n",
    "v_0/=np.std(v_0)\n",
    "v_0*=np.std(v_t)"
   ]
  },
  {
   "cell_type": "code",
   "execution_count": null,
   "id": "4ba0c262",
   "metadata": {},
   "outputs": [],
   "source": [
    "### select cells to highlight\n",
    "step = 5\n",
    "idx_first = 600\n",
    "sub = np.arange(600, adata.shape[0], step) \n",
    "\n",
    "cell = data[idx_first+step*5]\n",
    "dist = np.sum((data[sub]-cell)**2, axis=1)\n",
    "sub_slow = sub[np.argsort(dist)[0:45]] #sample cells at very beginning of trajectory\n",
    "\n",
    "cell = data[idx_first+step*410]\n",
    "dist = np.sum((data[sub]-cell)**2, axis=1)\n",
    "sub_fast = sub[np.argsort(dist)[0:20]] "
   ]
  },
  {
   "cell_type": "code",
   "execution_count": null,
   "id": "dc317bd9",
   "metadata": {},
   "outputs": [],
   "source": [
    "### set arguments for plotting\n",
    "main_plot_aspect_ratio = (8, 6)\n",
    "pltkwargs={\"figsize\":main_plot_aspect_ratio, \"frameon\":False}\n",
    "akwargs = {\"head_width\":.2, \"head_length\":.2, \"alpha\":.6, \"width\":0.001, \"color\":\"black\"}\n",
    "(dim1, dim2) = (0, 1)\n",
    "vecs = [v_t, v_0]"
   ]
  },
  {
   "cell_type": "code",
   "execution_count": null,
   "id": "ebbc5652",
   "metadata": {},
   "outputs": [],
   "source": [
    "### create PCA plot (kappa-velo visualisation)\n",
    "fig, ax = plt.subplots(1, 1, **pltkwargs)\n",
    "for v_ in vecs:\n",
    "        ax.scatter(data[sub,dim1]+v_[sub, dim1], data[sub,dim2]+v_[sub, dim2], s=1, color=\"white\")\n",
    "ax.scatter(data[sub,dim1], data[sub,dim2], s=55, color=\"lightgrey\")\n",
    "ax.scatter(data[sub_slow,dim1], data[sub_slow,dim2], s=115, color=\"darkblue\")\n",
    "ax.scatter(data[sub_slow,dim1], data[sub_slow,dim2], s=55, color=\"lightgrey\")\n",
    "ax.scatter(data[sub_fast,dim1], data[sub_fast,dim2], s=115, color=\"darkred\")\n",
    "ax.scatter(data[sub_fast,dim1], data[sub_fast,dim2], s=55, color=\"lightgrey\")\n",
    "ax.axis(\"off\")\n",
    "\n",
    "for i in sub:\n",
    "    ax.arrow(data[i,dim1], data[i,dim2], dx=v_t[i,dim1], dy=v_t[i,dim2], **akwargs)\n",
    "\n",
    "fig.tight_layout()\n",
    "\n",
    "# save figure\n",
    "save_path = \"../figures/Fig2A_PCA_simulation_kappa-velo.pdf\"\n",
    "plt.savefig(save_path, dpi=300, transparent=True)\n",
    "\n",
    "plt.show()"
   ]
  },
  {
   "cell_type": "code",
   "execution_count": null,
   "id": "2e398a0d",
   "metadata": {},
   "outputs": [],
   "source": [
    "### create PCA plot (scVelo visualisation)\n",
    "fig, ax = plt.subplots(1, 1, **pltkwargs)\n",
    "for v_ in vecs:\n",
    "        ax.scatter(data[sub,dim1]+v_[sub, dim1], data[sub,dim2]+v_[sub, dim2], s=1, color=\"white\")\n",
    "ax.scatter(data[sub,dim1], data[sub,dim2], s=55, color=\"lightgrey\")\n",
    "ax.scatter(data[sub_slow,dim1], data[sub_slow,dim2], s=115, color=\"darkblue\")\n",
    "ax.scatter(data[sub_slow,dim1], data[sub_slow,dim2], s=55, color=\"lightgrey\")\n",
    "ax.scatter(data[sub_fast,dim1], data[sub_fast,dim2], s=115, color=\"darkred\")\n",
    "ax.scatter(data[sub_fast,dim1], data[sub_fast,dim2], s=55, color=\"lightgrey\")\n",
    "ax.axis(\"off\")\n",
    "\n",
    "for i in sub:\n",
    "    ax.arrow(data[i,dim1], data[i,dim2], \n",
    "             dx=v_0[i,dim1], dy=v_0[i,dim2], #color=\"darkred\", \n",
    "             **akwargs)\n",
    "\n",
    "fig.tight_layout()\n",
    "\n",
    "# save figure\n",
    "save_path = \"../figures/Fig2B_PCA_simulation_scVelo.pdf\"\n",
    "plt.savefig(save_path, dpi=300, transparent=True)\n",
    "\n",
    "plt.show()"
   ]
  },
  {
   "cell_type": "markdown",
   "id": "7f1ce9fc",
   "metadata": {},
   "source": [
    "### (II) t-SNE\n",
    "\n",
    "These figures correspond to Figure 1D in the manuscript and Figure S4A and S4B in the Supplementary Figures."
   ]
  },
  {
   "cell_type": "code",
   "execution_count": null,
   "id": "0ad2f02e",
   "metadata": {},
   "outputs": [],
   "source": [
    "### calculate PCA\n",
    "sc.pp.pca(adata)"
   ]
  },
  {
   "cell_type": "code",
   "execution_count": null,
   "id": "473f8a14",
   "metadata": {},
   "outputs": [],
   "source": [
    "### set seed\n",
    "np.random.seed(1)\n",
    "\n",
    "### calculate t-SNE embedding\n",
    "pca_transform = adata.varm[\"PCs\"]\n",
    "X_ = np.dot(adata.X, pca_transform)\n",
    "d2 = pairwise_distances(X_, metric=\"euclidean\")\n",
    "data = TSNE(n_components=2, random_state=2, metric=\"precomputed\", perplexity=60).fit_transform(d2)"
   ]
  },
  {
   "cell_type": "code",
   "execution_count": null,
   "id": "b053d1d7",
   "metadata": {},
   "outputs": [],
   "source": [
    "### calculate projection of velocities onto embedding (kappa-velo method)\n",
    "k = 50\n",
    "use_raw=True\n",
    "velocity_down_scale=0.2\n",
    "\n",
    "NN = cKDTree(X_).query(x=X_, k=k, n_jobs=1)[1]\n",
    "pca_transform = adata.varm[\"PCs\"]\n",
    "X_ = np.dot(adata.layers[\"spliced\" if use_raw else \"Ms\"], pca_transform)\n",
    "d2 = pairwise_distances(X_, metric=\"euclidean\")\n",
    "P_proj = tsne_d2p_NN(d2, NN, row_norm=True)\n",
    "W = nystrom(P_proj, data)\n",
    "\n",
    "# get transportation to future states\n",
    "X2 = np.dot(adata.layers[\"spliced\" if use_raw else \"Ms\"]+(adata.layers[\"velocity\"]/velocity_down_scale), pca_transform)\n",
    "d2 = pairwise_distances(X2, X_, metric=\"euclidean\")\n",
    "\n",
    "NN = cKDTree(X_).query(x=X2, k=k, n_jobs=1)[1]\n",
    "P_2 = tsne_d2p_NN(d2, NN)\n",
    "v_t = (np.dot(P_2, W)-data)"
   ]
  },
  {
   "cell_type": "code",
   "execution_count": null,
   "id": "9eb9eac0",
   "metadata": {},
   "outputs": [],
   "source": [
    "### calculate projection of velocities onto embedding (scVelo method)\n",
    "adata.obsm[\"X_tsne\"]=data\n",
    "bdata = adata.copy()\n",
    "scv.tl.velocity_graph(bdata)\n",
    "scv.tl.velocity_embedding(bdata, \"tsne\")\n",
    "v_scvelo = bdata.obsm[\"velocity_tsne\"][:,0:2] # velocities from scvelo\n",
    "\n",
    "v_scvelo/=np.std(v_scvelo) # scale to same range for ease of comparison\n",
    "v_scvelo*=np.std(v_t)"
   ]
  },
  {
   "cell_type": "code",
   "execution_count": null,
   "id": "5a50dc89",
   "metadata": {},
   "outputs": [],
   "source": [
    "### select only part of the cells to avoid overcrowding the t-SNE\n",
    "step = 5\n",
    "sub = np.arange(310, adata.shape[0], step)"
   ]
  },
  {
   "cell_type": "code",
   "execution_count": null,
   "id": "1a1e06d9",
   "metadata": {},
   "outputs": [],
   "source": [
    "### set arguments for plotting\n",
    "akwargs = {\"head_width\":.9, \"head_length\":1, \"alpha\":.9, \"width\":0.01, \"color\":\"black\"}\n",
    "pltkwargs={\"figsize\":(6, 6), \"frameon\":False}\n",
    "(dim1, dim2) = (0, 1)"
   ]
  },
  {
   "cell_type": "code",
   "execution_count": null,
   "id": "949ff6b8",
   "metadata": {},
   "outputs": [],
   "source": [
    "### create t-SNE plot (kappa-velo visualisation) \n",
    "fig, ax = plt.subplots(1, 1, **pltkwargs)\n",
    "\n",
    "ax.scatter(data[sub,dim1], data[sub,dim2], s=55, color=\"lightgrey\")\n",
    "ax.axis(\"off\")\n",
    "\n",
    "for i in sub:\n",
    "    ax.arrow(data[i,dim1], data[i,dim2], dx=v_t[i,dim1], dy=v_t[i,dim2], **akwargs)\n",
    "\n",
    "fig.tight_layout()\n",
    "\n",
    "# save figure\n",
    "save_path = \"../figures/FigS4A_tSNE_simulation_kappa-velo.pdf\"\n",
    "plt.savefig(save_path, dpi=300, transparent=True)\n",
    "save_path = \"../figures/Fig2D_tSNE_simulation_kappa-velo.pdf\"\n",
    "plt.savefig(save_path, dpi=300, transparent=True)\n",
    "\n",
    "plt.show()"
   ]
  },
  {
   "cell_type": "code",
   "execution_count": null,
   "id": "cd1aea08",
   "metadata": {},
   "outputs": [],
   "source": [
    "### create t-SNE plot (scVelo visualisation) \n",
    "fig, ax = plt.subplots(1, 1, **pltkwargs)\n",
    "ax.scatter(data[sub,dim1], data[sub,dim2], s=55, color=\"lightgrey\")\n",
    "ax.axis(\"off\")\n",
    "\n",
    "for i in sub:\n",
    "    ax.arrow(data[i,dim1], data[i,dim2], \n",
    "             dx=v_0[i,dim1], dy=v_0[i,dim2], #color=\"darkred\", \n",
    "             **akwargs)\n",
    "\n",
    "fig.tight_layout()\n",
    "\n",
    "# save figure\n",
    "save_path = \"../figures/FigS4B_tSNE_simulation_scVelo.pdf\"\n",
    "plt.savefig(save_path, dpi=300, transparent=True)\n",
    "\n",
    "plt.show()"
   ]
  },
  {
   "cell_type": "markdown",
   "id": "dd75a33b",
   "metadata": {},
   "source": [
    "### (III) diffusion map\n",
    "\n",
    "These figures correspond to Figure S4C and S4D in the Supplementary Figures."
   ]
  },
  {
   "cell_type": "code",
   "execution_count": null,
   "id": "fe1b52ac",
   "metadata": {},
   "outputs": [],
   "source": [
    "### calculate diffusion map embedding\n",
    "sigma = 20\n",
    "evals, evecs, z_x = diffmap_eigen(adata, sigma=sigma)"
   ]
  },
  {
   "cell_type": "code",
   "execution_count": null,
   "id": "85c470ce",
   "metadata": {},
   "outputs": [],
   "source": [
    "### calculate projection of velocities onto embedding (kappa-velo method)\n",
    "data = evecs\n",
    "pca_transform = adata.varm[\"PCs\"]\n",
    "v_t = add_proj(adata.X, adata.X+(adata.layers[\"velocity\"]/2), evecs, evals, sigma, z_x,pca_transform)-data"
   ]
  },
  {
   "cell_type": "code",
   "execution_count": null,
   "id": "bfb7479a",
   "metadata": {},
   "outputs": [],
   "source": [
    "### calculate projection of velocities onto embedding (scVelo method)\n",
    "adata.obsm[\"X_diffmap_own\"]=data[:,1:3]\n",
    "bdata = adata.copy()\n",
    "scv.tl.velocity_graph(bdata)\n",
    "scv.tl.velocity_embedding(bdata, \"diffmap_own\")#, scale=0.10)\n",
    "v_0 = bdata.obsm[\"velocity_diffmap_own\"]#[:,0:3]\n",
    "v_0/=np.std(v_0)\n",
    "v_0*=np.std(v_t)"
   ]
  },
  {
   "cell_type": "code",
   "execution_count": null,
   "id": "bd582fd6",
   "metadata": {},
   "outputs": [],
   "source": [
    "### set arguments for plotting\n",
    "pltkwargs={\"figsize\":(9, 6), \"frameon\":False}\n",
    "akwargs = {\"head_width\":.0005, \"head_length\":.0005, \"alpha\":.6, \"width\":0.00001, \"color\":\"black\"}\n",
    "(dim1, dim2) = (1, 2)"
   ]
  },
  {
   "cell_type": "code",
   "execution_count": null,
   "id": "93112aa1",
   "metadata": {
    "scrolled": true
   },
   "outputs": [],
   "source": [
    "### create diffusion map plot (kappa-velo visualisation) \n",
    "fig, ax = plt.subplots(1, 1, **pltkwargs)\n",
    "\n",
    "ax.scatter(data[sub,dim1], data[sub,dim2], s=55, color=\"lightgrey\")\n",
    "ax.axis(\"off\")\n",
    "\n",
    "for i in sub:\n",
    "    ax.arrow(data[i,dim1], data[i,dim2], dx=v_t[i,dim1], dy=v_t[i,dim2], **akwargs)\n",
    "\n",
    "fig.tight_layout()\n",
    "\n",
    "# save figure\n",
    "save_path = \"../figures/FigS4C_diffmap_simulation_kappa-velo.pdf\"\n",
    "plt.savefig(save_path, dpi=300, transparent=True)\n",
    "\n",
    "plt.show()"
   ]
  },
  {
   "cell_type": "code",
   "execution_count": null,
   "id": "7b7683d6",
   "metadata": {},
   "outputs": [],
   "source": [
    "### create diffusion map plot (scVelo visualisation) \n",
    "fig, ax = plt.subplots(1, 1, **pltkwargs)\n",
    "ax.scatter(data[sub,dim1], data[sub,dim2], s=55, color=\"lightgrey\")\n",
    "ax.axis(\"off\")\n",
    "\n",
    "for i in sub:\n",
    "    ax.arrow(data[i,dim1], data[i,dim2], \n",
    "             dx=v_0[i,dim1-1], dy=v_0[i,dim2-1], #color=\"darkred\", \n",
    "             **akwargs)\n",
    "\n",
    "fig.tight_layout()\n",
    "\n",
    "# save figure\n",
    "save_path = \"../figures/FigS4D_diffmap_simulation_scVelo.pdf\"\n",
    "plt.savefig(save_path, dpi=300, transparent=True)\n",
    "\n",
    "plt.show()"
   ]
  },
  {
   "cell_type": "markdown",
   "id": "dca8fb98",
   "metadata": {},
   "source": [
    "### (IV) UMAP\n",
    "\n",
    "These figures correspond to Figure S4E and S4F in the Supplementary Figures."
   ]
  },
  {
   "cell_type": "code",
   "execution_count": null,
   "id": "5307bac8",
   "metadata": {},
   "outputs": [],
   "source": [
    "### calculate diffusion map embedding\n",
    "reducer = umap.UMAP(random_state=2, n_components=2, metric=\"euclidean\", min_dist=.5)\n",
    "embedding = reducer.fit_transform(adata.layers[\"spliced\"])"
   ]
  },
  {
   "cell_type": "code",
   "execution_count": null,
   "id": "e96c11a0",
   "metadata": {},
   "outputs": [],
   "source": [
    "### calculate projection of velocities onto embedding (scVelo method)\n",
    "adata.obsm[\"X_umap\"]=embedding\n",
    "scv.tl.velocity_graph(adata)\n",
    "scv.tl.velocity_embedding(adata, \"umap\")\n",
    "v_0 = adata.obsm[\"velocity_umap\"][:,0:2]"
   ]
  },
  {
   "cell_type": "code",
   "execution_count": null,
   "id": "f94d99a9",
   "metadata": {},
   "outputs": [],
   "source": [
    "### calculate projection of velocities onto embedding (kappa-velo method)\n",
    "W = nystrom(P_proj, embedding)\n",
    "v_t = (np.dot(P_2, W)-embedding)/2\n",
    "v_0/=np.std(v_0)\n",
    "v_0*=np.std(v_t)"
   ]
  },
  {
   "cell_type": "code",
   "execution_count": null,
   "id": "07755b97",
   "metadata": {},
   "outputs": [],
   "source": [
    "### set arguments for plotting\n",
    "akwargs = {\"head_width\":.15, \"head_length\":.15, \"alpha\":.6, \"width\":0.01, \"color\":\"black\"}\n",
    "pltkwargs={\"figsize\":(6, 6), \"frameon\":False}\n",
    "(dim1, dim2) = (0, 1)"
   ]
  },
  {
   "cell_type": "code",
   "execution_count": null,
   "id": "1a050028",
   "metadata": {},
   "outputs": [],
   "source": [
    "### create UMAP plot (kappa-velo visualisation) \n",
    "fig, ax = plt.subplots(1, 1, **pltkwargs)\n",
    "\n",
    "ax.scatter(embedding[sub,dim1], embedding[sub,dim2], s=55, color=\"lightgrey\")\n",
    "ax.axis(\"off\")\n",
    "\n",
    "for i in sub:\n",
    "    ax.arrow(embedding[i,dim1], embedding[i,dim2], dx=v_t[i,dim1], dy=v_t[i,dim2], **akwargs)\n",
    "\n",
    "fig.tight_layout()\n",
    "\n",
    "# save figure\n",
    "save_path = \"../figures/FigS4E_UMAP_simulation_kappa-velo.pdf\"\n",
    "plt.savefig(save_path, dpi=300, transparent=True)\n",
    "\n",
    "plt.show()"
   ]
  },
  {
   "cell_type": "code",
   "execution_count": null,
   "id": "92e84d0c",
   "metadata": {},
   "outputs": [],
   "source": [
    "### create UMAP plot (scVelo visualisation) \n",
    "fig, ax = plt.subplots(1, 1, **pltkwargs)\n",
    "ax.scatter(embedding[sub,dim1], embedding[sub,dim2], s=55, color=\"lightgrey\")\n",
    "ax.axis(\"off\")\n",
    "\n",
    "for i in sub:\n",
    "    ax.arrow(embedding[i,dim1], embedding[i,dim2], \n",
    "             dx=v_0[i,dim1], dy=v_0[i,dim2], #color=\"darkred\", \n",
    "             **akwargs)\n",
    "\n",
    "fig.tight_layout()\n",
    "\n",
    "# save figure\n",
    "save_path = \"../figures/FigS4F_UMAP_simulation_scVelo.pdf\"\n",
    "plt.savefig(save_path, dpi=300, transparent=True)\n",
    "\n",
    "plt.show()"
   ]
  }
 ],
 "metadata": {
  "kernelspec": {
   "display_name": "prj_velocity",
   "language": "python",
   "name": "prj_velocity"
  },
  "language_info": {
   "codemirror_mode": {
    "name": "ipython",
    "version": 3
   },
   "file_extension": ".py",
   "mimetype": "text/x-python",
   "name": "python",
   "nbconvert_exporter": "python",
   "pygments_lexer": "ipython3",
   "version": "3.8.5"
  }
 },
 "nbformat": 4,
 "nbformat_minor": 5
}
