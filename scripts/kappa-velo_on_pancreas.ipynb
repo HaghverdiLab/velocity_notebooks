{
 "cells": [
  {
   "cell_type": "markdown",
   "metadata": {},
   "source": [
    "## $\\kappa$-velo on pancreas\n",
    "\n",
    "This notebook focuses on the application of $\\kappa$-velo on the pancreas endocrinogenesis dataset. This dataset was originally published by Bastidas-Ponce and colleagues (https://doi.org/10.1242/dev.173849) and it is one of the datasets described in the original scVelo paper. "
   ]
  },
  {
   "cell_type": "code",
   "execution_count": null,
   "metadata": {},
   "outputs": [],
   "source": [
    "### load libraries\n",
    "\n",
    "# standard libraries\n",
    "import numpy as np\n",
    "\n",
    "# single-cell libraries\n",
    "import anndata as ad\n",
    "import scvelo as scv\n",
    "\n",
    "# plotting libraries\n",
    "import matplotlib.pyplot as plt\n",
    "\n",
    "# dimension reductions\n",
    "from sklearn.decomposition import PCA #for creating PCAs\n",
    "from sklearn.preprocessing import StandardScaler #for creating PCAs\n",
    "import umap # for creating UMAP\n",
    "\n",
    "# other\n",
    "import time #to measure the time it takes to run script\n",
    "\n",
    "# load our own \n",
    "from processing import *\n",
    "from kappavelo import *\n",
    "from visualisation import *"
   ]
  },
  {
   "cell_type": "code",
   "execution_count": null,
   "metadata": {},
   "outputs": [],
   "source": [
    "### current timestamp\n",
    "begin_time = time.time()"
   ]
  },
  {
   "cell_type": "markdown",
   "metadata": {},
   "source": [
    "### Load original dataset\n",
    "\n",
    "Here, we load the pancreas endocrinogenesis dataset. The dataset is made accesible in the scVelo package (version 0.2.4) where you can download it using the function `scvelo.datasets.pancreas()`. "
   ]
  },
  {
   "cell_type": "code",
   "execution_count": null,
   "metadata": {},
   "outputs": [],
   "source": [
    "#scv.datasets.pancreas()"
   ]
  },
  {
   "cell_type": "code",
   "execution_count": null,
   "metadata": {},
   "outputs": [],
   "source": [
    "### load pancreas dataset\n",
    "pancreas_path = \"../datasets/pancreas/pancreas.h5ad\"\n",
    "adata = ad.read_h5ad(pancreas_path)"
   ]
  },
  {
   "cell_type": "markdown",
   "metadata": {},
   "source": [
    "### Processing of dataset\n",
    "\n",
    "Here, we process the dataset. We deviate from the standard scVelo processing pipeline. The $\\kappa$-velo processing workflow includes the following steps:\n",
    "\n",
    "1. select highly variable genes (HVGs)\n",
    "2. select genes with sufficient unspliced and spliced counts \n",
    "3. (L1) normalise U and S counts together\n",
    "4. Impute counts (using scVelo)\n",
    "\n",
    "If you want to know more about why certain steps of steps of processing are omitted or included, you can read all about it in our manuscript. \n",
    "\n",
    "First, we select 5000 HVGs on the spliced data, using analytic Pearson residuals (Lause et al., 2021 https://doi.org/10.1186/s13059-021-02451-7)."
   ]
  },
  {
   "cell_type": "code",
   "execution_count": null,
   "metadata": {
    "tags": []
   },
   "outputs": [],
   "source": [
    "### select HVGs\n",
    "hvgs = get_hvgs(adata, no_of_hvgs=5000, theta=100)"
   ]
  },
  {
   "cell_type": "code",
   "execution_count": null,
   "metadata": {},
   "outputs": [],
   "source": [
    "### make subset with HVGs only\n",
    "adata = adata[:, hvgs]"
   ]
  },
  {
   "cell_type": "markdown",
   "metadata": {},
   "source": [
    "Next, we keep only genes with sufficient unspliced and spliced counts (maximum count should be above 3)."
   ]
  },
  {
   "cell_type": "code",
   "execution_count": null,
   "metadata": {},
   "outputs": [],
   "source": [
    "### subset for genes that have high enough U and S counts\n",
    "minlim = 3\n",
    "spliced_matrix = adata.layers['spliced'].todense()\n",
    "unspliced_matrix = adata.layers['unspliced'].todense()\n",
    "us_genes = (np.array(np.max(spliced_matrix, axis=0)).flatten() > minlim) & (np.array(np.max(unspliced_matrix, axis=0)).flatten() > minlim)\n",
    "us_genes = adata.var_names[us_genes]\n",
    "len(us_genes)\n",
    "\n",
    "adata = adata[:,us_genes]"
   ]
  },
  {
   "cell_type": "markdown",
   "metadata": {},
   "source": [
    "Then, we normalise the spliced and unspliced counts together using our function `L1_normalise`. "
   ]
  },
  {
   "cell_type": "code",
   "execution_count": null,
   "metadata": {},
   "outputs": [],
   "source": [
    "### convert matrices from sparse to dense\n",
    "adata.X = adata.X.todense()\n",
    "adata.layers['spliced'] = adata.layers['spliced'].todense()\n",
    "adata.layers['unspliced'] = adata.layers['unspliced'].todense()"
   ]
  },
  {
   "cell_type": "code",
   "execution_count": null,
   "metadata": {},
   "outputs": [],
   "source": [
    "### L1 normalise unspliced and spliced together\n",
    "adata = L1_normalise(adata)"
   ]
  },
  {
   "cell_type": "markdown",
   "metadata": {},
   "source": [
    "Last in the processing pipeline, we impute the spliced and unspliced. Since we removed genes from the original dataset, we will recalculate the PCA dimensions. "
   ]
  },
  {
   "cell_type": "code",
   "execution_count": null,
   "metadata": {},
   "outputs": [],
   "source": [
    "### scale data\n",
    "scal = StandardScaler()\n",
    "spliced_scaled = scal.fit_transform(adata.layers[\"spliced\"])\n",
    "\n",
    "### run PCA\n",
    "pca = PCA(n_components=15)\n",
    "pca.fit(spliced_scaled)\n",
    "pca_embedding = pca.transform(spliced_scaled)\n",
    "\n",
    "### add PCA to adata object\n",
    "adata.obsm['X_pca'] = pca_embedding\n",
    "\n",
    "### calculate moments # todo this will be an external function soon\n",
    "scv.pp.moments(adata, n_pcs=15, n_neighbors=30)"
   ]
  },
  {
   "cell_type": "markdown",
   "metadata": {},
   "source": [
    "### Calculate velocities\n",
    "After processing, it is time to calculate the velocities for each cell. The $\\kappa$-workflow contains 4 steps to calculate the velocities:\n",
    "\n",
    "1. gene-wise inference of $\\alpha$, $\\beta$ and $\\gamma$\n",
    "2. remove low-likelihood genes\n",
    "3. calculate scaling factor $\\kappa$ per gene\n",
    "4. calculate high-dimensional velocities per cell\n",
    "\n",
    "First, we start with the gene-wise inferenceof the parameters using function `scvelo.tl.recover_dynamics`. "
   ]
  },
  {
   "cell_type": "code",
   "execution_count": null,
   "metadata": {},
   "outputs": [],
   "source": [
    "### recover dynamics for all genes\n",
    "scv.tl.recover_dynamics(adata, n_jobs=8, t_max=100, fit_connected_states=True, max_iter=100)"
   ]
  },
  {
   "cell_type": "markdown",
   "metadata": {},
   "source": [
    "Next, we remove all genes for which the fitted likelihood is below 0.4. "
   ]
  },
  {
   "cell_type": "code",
   "execution_count": null,
   "metadata": {},
   "outputs": [],
   "source": [
    "adata = ad.read_h5ad(\"../../prj_velocity/density/pancreas_L1_preproc_fitted\")"
   ]
  },
  {
   "cell_type": "code",
   "execution_count": null,
   "metadata": {},
   "outputs": [],
   "source": [
    "### get all genes sorted by likelihood\n",
    "likelihood_genes = adata.var['fit_likelihood'].sort_values(ascending=False)\n",
    "\n",
    "### remove genes with no recovered dynamics\n",
    "likelihood_genes = likelihood_genes.dropna()\n",
    "\n",
    "### select genes with likelihood higher than x\n",
    "likelihood_genes = likelihood_genes[likelihood_genes > 0.4]\n",
    "\n",
    "### select only the genes in pandas series\n",
    "likelihood_genes = likelihood_genes.index.values\n",
    "\n",
    "len(likelihood_genes)"
   ]
  },
  {
   "cell_type": "code",
   "execution_count": null,
   "metadata": {},
   "outputs": [],
   "source": [
    "### plot top likelihood genes\n",
    "scv.pl.scatter(adata, likelihood_genes[0:8], ncols=4, hspace=0.4, wspace=0.3, figsize=(5, 3))"
   ]
  },
  {
   "cell_type": "code",
   "execution_count": null,
   "metadata": {},
   "outputs": [],
   "source": [
    "### subset adata for genes with recovered parameters\n",
    "adata = adata[:, likelihood_genes]"
   ]
  },
  {
   "cell_type": "markdown",
   "metadata": {},
   "source": [
    "Recover scaling parameters kappa and scale the anndata object.\n",
    "\n",
    "Note the scale of recovered $\\kappa$ will not be exactly true to time, but can be off by a constant factor related to the chosen $\\Delta t$. However, if all components are scaled by the same factor, the direction of the high dimensional vector is still correct."
   ]
  },
  {
   "cell_type": "code",
   "execution_count": null,
   "metadata": {},
   "outputs": [],
   "source": [
    "### get kappa and scale anndata object\n",
    "scaled_data = kappa_velo(adata, inplace=False)"
   ]
  },
  {
   "cell_type": "code",
   "execution_count": null,
   "metadata": {},
   "outputs": [],
   "source": []
  },
  {
   "cell_type": "markdown",
   "metadata": {},
   "source": [
    "Compare the originally fitted parameters to the scaled parameters. (Figure 4A in main paper.)"
   ]
  },
  {
   "cell_type": "code",
   "execution_count": null,
   "metadata": {},
   "outputs": [],
   "source": [
    "### unscaled parameters\n",
    "alpha = adata.var[\"fit_alpha\"]/np.median(adata.var[\"fit_alpha\"])\n",
    "beta = adata.var[\"fit_beta\"]/np.median(adata.var[\"fit_beta\"])\n",
    "gamma = adata.var[\"fit_gamma\"]/np.median(adata.var[\"fit_gamma\"])\n",
    "\n",
    "### scaled parameters\n",
    "new_alpha = scaled_data.var[\"fit_alpha\"]/np.mean(scaled_data.var[\"fit_alpha\"])\n",
    "new_beta = scaled_data.var[\"fit_beta\"]/np.mean(scaled_data.var[\"fit_beta\"])\n",
    "new_gamma = scaled_data.var[\"fit_gamma\"]/np.mean(scaled_data.var[\"fit_gamma\"])\n",
    "\n",
    "### plot the recovered parameters for original protocol (scVelo) and kappa-velo\n",
    "fig, axs = plt.subplots(1, 3, figsize=(9,7), frameon=False, sharey=False)\n",
    "\n",
    "_, bins, _ = axs[0].hist(np.log10(alpha), bins=20, alpha=.6, color=\"tab:red\", label=[\"scVelo beta\"])\n",
    "axs[0].hist(np.log10(new_alpha), bins=bins, alpha = .6, color=\"royalblue\", label=[\"kappa-velo\"])\n",
    "l = np.max(np.log10(alpha))\n",
    "axs[0].set_xlim((-l, l))\n",
    "\n",
    "_, bins, _ = axs[1].hist(np.log10(beta), bins=20, alpha=.6, color=\"tab:red\")\n",
    "axs[1].hist(np.log10(new_beta), bins=bins, alpha = .6, color=\"royalblue\")\n",
    "l = np.max(np.log10(beta))\n",
    "axs[0].set_xlim((-l, l))\n",
    "\n",
    "_, bins, _ = axs[2].hist(np.log10(gamma), bins=20, alpha=.6, color=\"tab:red\")\n",
    "axs[2].hist(np.log10(new_gamma), bins=bins, alpha = .6, color=\"royalblue\")\n",
    "l = np.max(np.log10(gamma))\n",
    "axs[2].set_xlim((-l, l))\n",
    "\n",
    "pars = [\"alpha\", \"beta\", \"gamma\"]\n",
    "for i in range(3):\n",
    "    axs[i].grid(False)\n",
    "    axs[i].set_xticks([-2, -1, 0, 1, 2])\n",
    "    axs[i].set_yticks([0, 10, 20, 30, 40])\n",
    "    axs[i].set_ylabel(\"Frequency\")\n",
    "    axs[i].set_xlabel(\"log10\" +pars[i])\n",
    "    \n",
    "axs[0].legend(fontsize=10)\n",
    "\n",
    "plt.tight_layout()\n",
    "\n",
    "# save figure\n",
    "save_path = \"../figures/FigS5_recovered_parameters_pancreas.pdf\"\n",
    "plt.savefig(save_path, dpi=300, transparent=True)\n",
    "\n",
    "plt.show()"
   ]
  },
  {
   "cell_type": "markdown",
   "metadata": {},
   "source": [
    "After scaling the parameters, we want to have a look at a few \"fast\" and \"slow\" genes. We consider genes fast when they have high splicing rates and slow when they have low splicing rates."
   ]
  },
  {
   "cell_type": "code",
   "execution_count": null,
   "metadata": {},
   "outputs": [],
   "source": [
    "### set arguments for plotting\n",
    "kwargs = {\"s\":50, \"ncols\":5, \"fontsize\":20, \"frameon\":False, \n",
    "          \"legend_fontsize\":0, \"legend_loc_lines\":\"none\", \"color\":\"clusters\"}"
   ]
  },
  {
   "cell_type": "code",
   "execution_count": null,
   "metadata": {},
   "outputs": [],
   "source": [
    "### plot fastest genes\n",
    "fig, axs = plt.subplots(1, 5, figsize=(14,4), frameon=False)\n",
    "\n",
    "idx = np.argsort(-scaled_data.var[\"fit_beta\"])[:5].tolist()\n",
    "\n",
    "for i in range(5):\n",
    "    scv.pl.scatter(adata, adata.var_names[idx][i], ax=axs[i], show=False, **kwargs)\n",
    "    axs[i].grid(False)\n",
    "plt.tight_layout()\n",
    "\n",
    "# save figure\n",
    "save_path = \"../figures/Fig4B_pancreas_fast_genes.pdf\"\n",
    "plt.savefig(save_path, dpi=300, transparent=True)\n",
    "\n",
    "plt.show()"
   ]
  },
  {
   "cell_type": "code",
   "execution_count": null,
   "metadata": {},
   "outputs": [],
   "source": [
    "### plot slowest genes\n",
    "fig, axs = plt.subplots(1, 5, figsize=(14,4), frameon=False)\n",
    "\n",
    "idx=np.argsort(scaled_data.var[\"fit_beta\"])[:10].tolist()\n",
    "\n",
    "for i in range(5):\n",
    "    scv.pl.scatter(adata, adata.var_names[idx][i], ax=axs[i], show=False, **kwargs)\n",
    "    axs[i].grid(False)\n",
    "plt.tight_layout()\n",
    "\n",
    "# save figure\n",
    "save_path = \"../figures/Fig4B_pancreas_slow_genes.pdf\"\n",
    "plt.savefig(save_path, dpi=300, transparent=True)\n",
    "\n",
    "plt.show()\n"
   ]
  },
  {
   "cell_type": "markdown",
   "metadata": {},
   "source": [
    "### Visualisation of the velocities\n",
    "\n",
    "Here, we will visualise the scaled velocities both on a PCA and UMAP embedding. First, we recover the embedding on the spliced counts only and then we project the velocties onto embedding. Since PCA is a linear embedding this is relativelt straightforward. For non-linear embedddings, this is more complex. For the theory behind the projection of new points onto existing non-linear embeddings we refer you to the Methods section in our manuscript."
   ]
  },
  {
   "cell_type": "markdown",
   "metadata": {},
   "source": [
    "### (I) PCA\n",
    "\n",
    "First, we calculate the PCA embedding on the imputed spliced counts."
   ]
  },
  {
   "cell_type": "code",
   "execution_count": null,
   "metadata": {},
   "outputs": [],
   "source": [
    "### scale data (imputed spliced counts)\n",
    "scal = StandardScaler()\n",
    "spliced_scaled = scal.fit_transform(adata.layers[\"Ms\"])"
   ]
  },
  {
   "cell_type": "code",
   "execution_count": null,
   "metadata": {},
   "outputs": [],
   "source": [
    "### run PCA\n",
    "np.random.seed(0)\n",
    "n_pcs = 10\n",
    "pca = PCA(n_components=n_pcs, random_state=0)\n",
    "pca.fit(spliced_scaled)\n",
    "pca_pts = pca.transform(spliced_scaled)"
   ]
  },
  {
   "cell_type": "code",
   "execution_count": null,
   "metadata": {},
   "outputs": [],
   "source": [
    "### calculate velocity\n",
    "get_velocity(scaled_data, use_raw=False, normalise=\"L1\")"
   ]
  },
  {
   "cell_type": "code",
   "execution_count": null,
   "metadata": {},
   "outputs": [],
   "source": [
    "### scale down velocities \n",
    "velocity_down_scale = 100\n",
    "S_fut = scal.transform(adata.layers[\"Ms\"]+(scaled_data.layers[\"velocity\"]/velocity_down_scale))"
   ]
  },
  {
   "cell_type": "code",
   "execution_count": null,
   "metadata": {},
   "outputs": [],
   "source": [
    "### calculate future states (imputed spliced counts + velocities)\n",
    "pca_fut = pca.transform(S_fut)\n",
    "pca_v = pca_fut-pca_pts"
   ]
  },
  {
   "cell_type": "code",
   "execution_count": null,
   "metadata": {},
   "outputs": [],
   "source": [
    "### get colors of each cluster\n",
    "color_dict = dict(zip(adata.obs[\"clusters\"].cat.categories, adata.uns[\"clusters_colors\"]))\n",
    "c=adata.obs[\"clusters\"].map(color_dict)"
   ]
  },
  {
   "cell_type": "code",
   "execution_count": null,
   "metadata": {},
   "outputs": [],
   "source": [
    "### set arguments for plotting\n",
    "pltkwargs={\"figsize\":(10, 6), \"frameon\":False}\n",
    "light_color = np.array([lighten_color(i, .3) for i in c])\n",
    "sub = np.arange(0, adata.shape[0], 1)\n",
    "pca_quiver_kwargs = {\"scale\": .8, \"angles\": \"xy\", \"scale_units\": \"xy\", \"edgecolors\": \"k\",\n",
    "                     \"linewidth\": 0.5, \"headwidth\": 5, \"headaxislength\": 4}"
   ]
  },
  {
   "cell_type": "code",
   "execution_count": null,
   "metadata": {},
   "outputs": [],
   "source": [
    "### create PCA plot of pancreas by kappa-velo\n",
    "fig, ax = plt.subplots(1, 1, **pltkwargs)\n",
    "\n",
    "ax.scatter(pca_pts[:,0], pca_pts[:,1], s=155, color=light_color)\n",
    "ax.axis(\"off\")\n",
    "ax.quiver(pca_pts[sub,0], pca_pts[sub,1], pca_v[sub,0], pca_v[sub,1], color=c[sub], **pca_quiver_kwargs)\n",
    "\n",
    "fig.tight_layout()\n",
    "plt.show()"
   ]
  },
  {
   "cell_type": "markdown",
   "metadata": {},
   "source": [
    "### (II) UMAP\n",
    "\n",
    "Here, we project the calculated (scaled) velocities onto an UMAP embedding. "
   ]
  },
  {
   "cell_type": "code",
   "execution_count": null,
   "metadata": {},
   "outputs": [],
   "source": [
    "### recalculate UMAP on current subset of genes (spliced counts only)\n",
    "reducer = umap.UMAP(random_state=0, n_neighbors=110, min_dist=.6, n_components=2, metric=\"euclidean\")\n",
    "UMAP_data = reducer.fit_transform(pca_pts)"
   ]
  },
  {
   "cell_type": "code",
   "execution_count": null,
   "metadata": {},
   "outputs": [],
   "source": [
    "### plot UMAP (just spliced counts)\n",
    "fig, ax = plt.subplots(1, 1, figsize=(4, 3), frameon=False)\n",
    "ax.scatter(UMAP_data[:,0], UMAP_data[:,1], s=10, c=c)\n",
    "ax.axis(\"off\")\n",
    "fig.tight_layout()\n",
    "plt.show()"
   ]
  },
  {
   "cell_type": "markdown",
   "metadata": {},
   "source": [
    "Calculate the projection of the velocities onto the UMAP embedding."
   ]
  },
  {
   "cell_type": "code",
   "execution_count": null,
   "metadata": {},
   "outputs": [],
   "source": [
    "### calculate velocity projections\n",
    "n_neighbors = 100\n",
    "UMAP_fut = project_velocities(UMAP_data, pca_pts, pca_fut, n_neighbors=n_neighbors)\n",
    "v_projected = UMAP_fut-UMAP_data\n",
    "\n",
    "# smoothed arrows\n",
    "NN = cKDTree(adata.layers[\"Ms\"]).query(x=adata.layers[\"Ms\"], k=50, n_jobs=1)[1]\n",
    "v_projected_mean = np.nanmean(np.array(v_projected)[NN], axis=1)"
   ]
  },
  {
   "cell_type": "code",
   "execution_count": null,
   "metadata": {},
   "outputs": [],
   "source": [
    "### set arguments for plotting\n",
    "umap_pltkwargs={\"figsize\":(8, 7), \"frameon\":False}\n",
    "umap_quiver_kwargs = {\"scale\": 2,\"angles\": \"xy\",\"scale_units\": \"xy\",\"edgecolors\": \"k\",\n",
    "                      \"linewidth\": 0.2,\"width\": .002,\"headwidth\": 4,\"headaxislength\": 4}\n",
    "# subset velocity arrows for less crowded umap\n",
    "sub = np.ones(adata.shape[0]).astype(bool)\n",
    "sub[np.arange(0, adata.shape[0], 4)] = False"
   ]
  },
  {
   "cell_type": "markdown",
   "metadata": {},
   "source": [
    "Plot the result of the complete $\\kappa$-velo workflow (processing, velocity calculation and visualisation) on the pancreas endocrinogenesis dataset."
   ]
  },
  {
   "cell_type": "code",
   "execution_count": null,
   "metadata": {},
   "outputs": [],
   "source": [
    "### create UMAP plot of pancreas by kappa-velo\n",
    "fig, ax = plt.subplots(1, 1, **umap_pltkwargs)\n",
    "ax.scatter(UMAP_data[:,0], UMAP_data[:,1], s=100, c=light_color)\n",
    "ax.axis(\"off\")\n",
    "ax.quiver(UMAP_data[sub,0], UMAP_data[sub,1], v_projected[sub,0], v_projected[sub,1], color=c[sub], **umap_quiver_kwargs)\n",
    "fig.tight_layout()\n",
    "\n",
    "# save figure\n",
    "save_path = \"../figures/Fig4C_UMAP_pancreas_kappa_velo.pdf\"\n",
    "plt.savefig(save_path, dpi=300, transparent=True)\n",
    "\n",
    "plt.show()"
   ]
  },
  {
   "cell_type": "code",
   "execution_count": null,
   "metadata": {},
   "outputs": [],
   "source": [
    "### create smoothed UMAP plot of pancreas by kappa-velo\n",
    "fig, ax = plt.subplots(1, 1, **umap_pltkwargs)\n",
    "ax.scatter(UMAP_data[:,0], UMAP_data[:,1], s=100, c=light_color)\n",
    "ax.axis(\"off\")\n",
    "ax.quiver(UMAP_data[sub,0], UMAP_data[sub,1], v_projected_mean[sub,0], v_projected_mean[sub,1], color=c[sub], **umap_quiver_kwargs)\n",
    "fig.tight_layout()\n",
    "\n",
    "# save figure\n",
    "save_path = \"../figures/FigS6A_UMAP_pancreas_kappa_velo_smoothed.pdf\"\n",
    "plt.savefig(save_path, dpi=300, transparent=True)\n",
    "\n",
    "plt.show()"
   ]
  },
  {
   "cell_type": "markdown",
   "metadata": {},
   "source": [
    "To calculate the running time of the complete time of the $\\kappa$-velo approach on the pancreas endocrinogenesis dataset, we started a timer all the way at the beginning. Here we stop the time and calculate how much time has passed."
   ]
  },
  {
   "cell_type": "code",
   "execution_count": null,
   "metadata": {},
   "outputs": [],
   "source": [
    "### aaaand cut!\n",
    "end_time = time.time()\n",
    "\n",
    "def format_time(t):\n",
    "  return f\"{int(t/3600)}H {int((t/60)%60) if t/3600>0 else int(t/60)}M {int(t%60)}S\"\n",
    "\n",
    "print(format_time(end_time-begin_time))"
   ]
  },
  {
   "cell_type": "markdown",
   "metadata": {},
   "source": [
    "### Compare to scVelo"
   ]
  },
  {
   "cell_type": "code",
   "execution_count": null,
   "metadata": {},
   "outputs": [],
   "source": [
    "### get velocities\n",
    "scv.tl.velocity(adata, mode='dynamical')"
   ]
  },
  {
   "cell_type": "markdown",
   "metadata": {},
   "source": [
    "### (I) PCA\n",
    "\n",
    "Here, we visualise the velocities as calculated by scVelo (non-scaled) onto the PCA embedding."
   ]
  },
  {
   "cell_type": "code",
   "execution_count": null,
   "metadata": {},
   "outputs": [],
   "source": [
    "### get future points(spliced counts + velocities) in PCA space\n",
    "velocity_down_scale = .3\n",
    "S_fut = scal.transform(adata.layers[\"Ms\"]+(adata.layers[\"velocity\"]/velocity_down_scale))\n",
    "pca_fut = pca.transform(S_fut)\n",
    "pca_v = pca_fut-pca_pts"
   ]
  },
  {
   "cell_type": "code",
   "execution_count": null,
   "metadata": {},
   "outputs": [],
   "source": [
    "### set arguments for plotting\n",
    "sub = np.arange(0, adata.shape[0], 1)\n",
    "pltkwargs={\"figsize\":(10, 6), \"frameon\":False}"
   ]
  },
  {
   "cell_type": "code",
   "execution_count": null,
   "metadata": {},
   "outputs": [],
   "source": [
    "### create PCA plot of pancreas by scVelo \n",
    "fig, ax = plt.subplots(1, 1, **pltkwargs)\n",
    "ax.scatter(pca_pts[:,0], pca_pts[:,1], s=155, color=light_color)\n",
    "ax.quiver(pca_pts[sub,0], pca_pts[sub,1], pca_v[sub,0], pca_v[sub,1],color=c[sub], **pca_quiver_kwargs)\n",
    "ax.axis(\"off\")\n",
    "fig.tight_layout()\n",
    "plt.show()"
   ]
  },
  {
   "cell_type": "markdown",
   "metadata": {},
   "source": [
    "### (II) UMAP"
   ]
  },
  {
   "cell_type": "code",
   "execution_count": null,
   "metadata": {},
   "outputs": [],
   "source": [
    "### calculate velocity projections\n",
    "UMAP_fut = project_velocities(UMAP_data, pca_pts, pca_fut, n_neighbors=n_neighbors)\n",
    "v_projected = UMAP_fut-UMAP_data\n",
    "v_projected /= np.std(v_projected.flatten()) # s.t. they are easier to compare before and after scaling\n",
    "\n",
    "# smoothed arrows\n",
    "NN = cKDTree(adata.layers[\"Ms\"]).query(x=adata.layers[\"Ms\"], k=50, n_jobs=1)[1]\n",
    "v_projected_mean = np.nanmean(np.array(v_projected)[NN], axis=1)"
   ]
  },
  {
   "cell_type": "code",
   "execution_count": null,
   "metadata": {},
   "outputs": [],
   "source": [
    "### create UMAP plot of pancreas with velocities calculated by scVelo (non-scaled)\n",
    "fig, ax = plt.subplots(1, 1, **umap_pltkwargs)\n",
    "ax.scatter(UMAP_data[:,0], UMAP_data[:,1], s=100, c=light_color)\n",
    "ax.axis(\"off\")\n",
    "ax.quiver(UMAP_data[sub,0], UMAP_data[sub,1], v_projected[sub,0], v_projected[sub,1], color=c[sub], **umap_quiver_kwargs)\n",
    "fig.tight_layout()\n",
    "\n",
    "# save figure\n",
    "save_path = \"../figures/Fig4D_UMAP_pancreas_scVelo_kappa-velo-projection.pdf\"\n",
    "plt.savefig(save_path, dpi=300, transparent=True)\n",
    "\n",
    "plt.show()"
   ]
  },
  {
   "cell_type": "code",
   "execution_count": null,
   "metadata": {},
   "outputs": [],
   "source": [
    "### create UMAP plot of pancreas with smoothed velocities calculated by scVelo (non-scaled)\n",
    "fig, ax = plt.subplots(1, 1, **umap_pltkwargs)\n",
    "ax.scatter(UMAP_data[:,0], UMAP_data[:,1], s=100, c=light_color)\n",
    "ax.axis(\"off\")\n",
    "ax.quiver(UMAP_data[sub,0], UMAP_data[sub,1], v_projected_mean[sub,0], v_projected_mean[sub,1],\n",
    "          color=c[sub], **umap_quiver_kwargs)\n",
    "fig.tight_layout()\n",
    "\n",
    "# save figure\n",
    "save_path = \"../figures/FigS6B_UMAP_pancreas_scVelo_kappa-velo-projection_smoothed.pdf\"\n",
    "plt.savefig(save_path, dpi=300, transparent=True)\n",
    "\n",
    "plt.show()"
   ]
  },
  {
   "cell_type": "markdown",
   "metadata": {},
   "source": [
    "Lastly, we want to compare the $\\kappa$-velo velocity calculation and visualisation to the scVelo velocity calculation and visualisation (the figures above only compared the velocity calculation, but used the $\\kappa$-velo visualisation in both cases)."
   ]
  },
  {
   "cell_type": "code",
   "execution_count": null,
   "metadata": {},
   "outputs": [],
   "source": [
    "### calculate scVelos visualisation\n",
    "scv.tl.velocity_graph(adata)\n",
    "adata.obsm['X_umap'] = UMAP_data\n",
    "scv.tl.velocity_embedding(adata, basis='umap', scale=.1)\n",
    "v_scvelo = adata.obsm[\"velocity_umap\"]\n",
    "v_scvelo /= np.std(v_scvelo.flatten())"
   ]
  },
  {
   "cell_type": "code",
   "execution_count": null,
   "metadata": {},
   "outputs": [],
   "source": [
    "### create UMAP plot of pancreas - scVelo velocities (non-scaled) and visualisation\n",
    "fig, ax = plt.subplots(1, 1, **umap_pltkwargs)\n",
    "ax.scatter(UMAP_data[:,0], UMAP_data[:,1], s=100, c=light_color)\n",
    "ax.axis(\"off\")\n",
    "ax.quiver(UMAP_data[sub,0], UMAP_data[sub,1], v_scvelo[sub,0], v_scvelo[sub,1], color=c[sub], **umap_quiver_kwargs )\n",
    "fig.tight_layout()\n",
    "\n",
    "# save figure\n",
    "save_path = \"../figures/Fig4E_UMAP_pancreas_scVelo_scVelo-projection_smoothed.pdf\"\n",
    "plt.savefig(save_path, dpi=300, transparent=True)\n",
    "\n",
    "plt.show()"
   ]
  },
  {
   "cell_type": "code",
   "execution_count": null,
   "metadata": {},
   "outputs": [],
   "source": []
  }
 ],
 "metadata": {
  "kernelspec": {
   "display_name": "clone",
   "language": "python",
   "name": "clone"
  },
  "language_info": {
   "codemirror_mode": {
    "name": "ipython",
    "version": 3
   },
   "file_extension": ".py",
   "mimetype": "text/x-python",
   "name": "python",
   "nbconvert_exporter": "python",
   "pygments_lexer": "ipython3",
   "version": "3.8.5"
  }
 },
 "nbformat": 4,
 "nbformat_minor": 4
}
