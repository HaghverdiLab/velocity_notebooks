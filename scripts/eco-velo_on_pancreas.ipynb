{
 "cells": [
  {
   "cell_type": "markdown",
   "metadata": {},
   "source": [
    "## eco-velo on pancreas\n",
    "\n",
    "In this notebook we will apply our eco-velo method to the pancreas endocrinogenesis dataset. This dataset was originally published by Bastidas-Ponce and colleagues (https://doi.org/10.1242/dev.173849) and it is one of the datasets described in the original scVelo paper. \n",
    "\n",
    "You can use this notebook to reproduce figures 5C and S8."
   ]
  },
  {
   "cell_type": "code",
   "execution_count": null,
   "metadata": {},
   "outputs": [],
   "source": [
    "### load libraries\n",
    "\n",
    "# general libraries\n",
    "import pandas as pd\n",
    "import numpy as np\n",
    "\n",
    "# single-cell libraries\n",
    "import anndata as ad\n",
    "import scanpy as sc\n",
    "import scvelo as scv\n",
    "\n",
    "# plotting libraries\n",
    "import matplotlib.pyplot as plt\n",
    "\n",
    "# dimension reduction libraries\n",
    "from sklearn.decomposition import PCA #for creating PCAs\n",
    "from sklearn.preprocessing import StandardScaler #for creating PCAs\n",
    "import umap\n",
    "\n",
    "# other\n",
    "import sklearn as sk #used for L2 normalization\n",
    "from scipy.spatial import cKDTree #used for MNN method\n",
    "import time #to measure time of script running\n",
    "\n",
    "# import our own functions\n",
    "from functions import *"
   ]
  },
  {
   "cell_type": "code",
   "execution_count": null,
   "metadata": {},
   "outputs": [],
   "source": [
    "### set scvelo settings\n",
    "scv.settings.set_figure_params('scvelo', dpi_save=300, dpi=100, transparent=True)\n",
    "scv.settings.verbosity = 0"
   ]
  },
  {
   "cell_type": "code",
   "execution_count": null,
   "metadata": {},
   "outputs": [],
   "source": [
    "### current timestamp\n",
    "begin_time = time.time()"
   ]
  },
  {
   "cell_type": "markdown",
   "metadata": {},
   "source": [
    "### Load original dataset\n",
    "\n",
    "Here, we load the pancreas endocrinogenesis dataset. The dataset is made accesible in the scVelo package (version 0.2.4) where you can download it using the function `scvelo.datasets.pancreas()`. "
   ]
  },
  {
   "cell_type": "code",
   "execution_count": null,
   "metadata": {},
   "outputs": [],
   "source": [
    "### load pancreas dataset\n",
    "pancreas_path = \"../datasets/pancreas/pancreas.h5ad\"\n",
    "adata = ad.read_h5ad(pancreas_path)"
   ]
  },
  {
   "cell_type": "code",
   "execution_count": null,
   "metadata": {},
   "outputs": [],
   "source": [
    "### plot dataset\n",
    "fig, axs = plt.subplots(1, 1, figsize=(6, 3), frameon=False)\n",
    "sc.pl.umap(adata, color=\"clusters\", size=30, ax=axs)"
   ]
  },
  {
   "cell_type": "markdown",
   "metadata": {},
   "source": [
    "### Processing\n",
    "\n",
    "Here, we process the dataset. We deviate from the standard scVelo processing pipeline. If you want to know more about why certain steps of steps of processing are omitted or included, you can read all about it in our manuscript. \n",
    "\n",
    "First, we select 2000 HVGs on the spliced data, using analytic Pearson residuals (Lause et al., 2021 https://doi.org/10.1186/s13059-021-02451-7)."
   ]
  },
  {
   "cell_type": "code",
   "execution_count": null,
   "metadata": {},
   "outputs": [],
   "source": [
    "### select HVGs\n",
    "hvgs = get_hvgs(adata, no_of_hvgs=2000, theta=100)"
   ]
  },
  {
   "cell_type": "code",
   "execution_count": null,
   "metadata": {},
   "outputs": [],
   "source": [
    "### make subset with HVGs only\n",
    "adata = adata[:, hvgs]"
   ]
  },
  {
   "cell_type": "markdown",
   "metadata": {},
   "source": [
    "Next, we keep only genes with sufficient unspliced and spliced counts (maximum count should be above 3)."
   ]
  },
  {
   "cell_type": "code",
   "execution_count": null,
   "metadata": {},
   "outputs": [],
   "source": [
    "### select genes that have sufficient u and s counts\n",
    "minlim = 3\n",
    "spliced_matrix = adata.layers['spliced'].todense()\n",
    "unspliced_matrix = adata.layers['unspliced'].todense()\n",
    "us_genes = (np.array(np.max(spliced_matrix, axis=0)).flatten() > minlim) & (np.array(np.max(unspliced_matrix, axis=0)).flatten() > minlim)\n",
    "us_genes = adata.var_names[us_genes]\n",
    "len(us_genes)"
   ]
  },
  {
   "cell_type": "code",
   "execution_count": null,
   "metadata": {},
   "outputs": [],
   "source": [
    "### subset for us-genes\n",
    "adata = adata[:,us_genes]"
   ]
  },
  {
   "cell_type": "markdown",
   "metadata": {},
   "source": [
    "Log-transform and L2 normalise the dataset. Normalisation is applied to spliced and unspliced counts seperately."
   ]
  },
  {
   "cell_type": "code",
   "execution_count": null,
   "metadata": {},
   "outputs": [],
   "source": [
    "### log transformation of the dataset\n",
    "adata.X = np.matrix(np.where(adata.X.todense() != 0, np.log(adata.X.todense()), 0))\n",
    "adata.X = adata.X.todense()\n",
    "adata.layers['spliced'] = np.matrix(np.where(adata.layers['spliced'].todense() != 0, np.log(adata.layers['spliced'].todense()), 0))\n",
    "adata.layers['unspliced'] = np.matrix(np.where(adata.layers['unspliced'].todense() != 0, np.log(adata.layers['unspliced'].todense()), 0))"
   ]
  },
  {
   "cell_type": "code",
   "execution_count": null,
   "metadata": {},
   "outputs": [],
   "source": [
    "### L2 normalise spliced and unspliced separately\n",
    "adata.X = sk.preprocessing.normalize(adata.X, norm='l2')\n",
    "adata.layers['spliced'] = sk.preprocessing.normalize(adata.layers['spliced'], norm='l2')\n",
    "adata.layers['unspliced'] = sk.preprocessing.normalize(adata.layers['unspliced'], norm='l2')"
   ]
  },
  {
   "cell_type": "markdown",
   "metadata": {},
   "source": [
    "### Calculate new UMAP embedding\n",
    "\n",
    "Since we removed many of the original genes from the dataset, we will recalculate the UMAP embedding. "
   ]
  },
  {
   "cell_type": "code",
   "execution_count": null,
   "metadata": {},
   "outputs": [],
   "source": [
    "del adata.obsm['X_pca']\n",
    "del adata.obsm['X_umap']"
   ]
  },
  {
   "cell_type": "markdown",
   "metadata": {},
   "source": [
    "First, we run a PCA on scaled spliced data."
   ]
  },
  {
   "cell_type": "code",
   "execution_count": null,
   "metadata": {},
   "outputs": [],
   "source": [
    "### scale data (spliced counts)\n",
    "scal = StandardScaler()\n",
    "spliced_scaled = scal.fit_transform(adata.layers[\"spliced\"])"
   ]
  },
  {
   "cell_type": "code",
   "execution_count": null,
   "metadata": {},
   "outputs": [],
   "source": [
    "### run PCA\n",
    "n_pcs = 10\n",
    "pca = PCA(n_components=n_pcs)\n",
    "pca.fit(spliced_scaled)\n",
    "pca_pts = pca.transform(spliced_scaled)"
   ]
  },
  {
   "cell_type": "code",
   "execution_count": null,
   "metadata": {},
   "outputs": [],
   "source": [
    "### calculate UMAP\n",
    "reducer = umap.UMAP(random_state=0, n_neighbors=30, min_dist=.8, n_components=2, metric=\"euclidean\")\n",
    "data = reducer.fit_transform(pca_pts)\n",
    "adata.obsm['X_umap']=data"
   ]
  },
  {
   "cell_type": "code",
   "execution_count": null,
   "metadata": {},
   "outputs": [],
   "source": [
    "### plot UMAP (just spliced counts)\n",
    "fig, axs = plt.subplots(1, 1, figsize=(5, 3), frameon=False)\n",
    "sc.pl.umap(adata, color='clusters', ax=axs)\n",
    "plt.show()"
   ]
  },
  {
   "cell_type": "markdown",
   "metadata": {},
   "source": [
    "### MNN on original gene space\n",
    "\n",
    "Last in the eco-velo workflow for each cell we will use its unspliced counts to find the mutual nearest neighbour (MNN) between all cells, defined by their spliced counts. Note: since we try to find an MNN in the first 50 neighbours, it might be that some cells are not assigned to any MNN."
   ]
  },
  {
   "cell_type": "code",
   "execution_count": null,
   "metadata": {},
   "outputs": [],
   "source": [
    "### identify MNNs\n",
    "k = 50\n",
    "mnn = find_mutual_nn(adata.layers['unspliced'], adata.layers['spliced'], k = k)\n",
    "print(np.sum(mnn==-1))"
   ]
  },
  {
   "cell_type": "code",
   "execution_count": null,
   "metadata": {},
   "outputs": [],
   "source": [
    "### select MNNs\n",
    "data = adata.obsm[\"X_umap\"]\n",
    "pos = data[mnn]\n",
    "pos[np.array(mnn)==-1]=np.nan"
   ]
  },
  {
   "cell_type": "code",
   "execution_count": null,
   "metadata": {},
   "outputs": [],
   "source": [
    "### smoothing; averaging position over 30 nearest neighbours\n",
    "NN = cKDTree(spliced_matrix).query(x=spliced_matrix, k=30, n_jobs=1)[1]\n",
    "pos_mean = np.nanmean(np.array(pos)[NN], axis=1)"
   ]
  },
  {
   "cell_type": "markdown",
   "metadata": {},
   "source": [
    "To calculate the running time of the complete time of the $\\kappa$-velo approach on the pancreas endocrinogenesis dataset, we started a timer all the way at the beginning. Here we stop the time and calculate how much time has passed."
   ]
  },
  {
   "cell_type": "code",
   "execution_count": null,
   "metadata": {},
   "outputs": [],
   "source": [
    "### aaaand cut!\n",
    "end_time = time.time()\n",
    "\n",
    "def format_time(t):\n",
    "  return f\"{int(t/3600)}H {int((t/60)%60) if t/3600>0 else int(t/60)}M {int(t%60)}S\"\n",
    "\n",
    "print(format_time(end_time-begin_time))"
   ]
  },
  {
   "cell_type": "code",
   "execution_count": null,
   "metadata": {},
   "outputs": [],
   "source": [
    "### get points for UMAP\n",
    "v = np.array(pos) - data\n",
    "v_mean = pos_mean - data"
   ]
  },
  {
   "cell_type": "code",
   "execution_count": null,
   "metadata": {},
   "outputs": [],
   "source": [
    "### get colors of each cluster\n",
    "color_dict = dict(zip(adata.obs[\"clusters\"].cat.categories, adata.uns[\"clusters_colors\"]))\n",
    "c=adata.obs[\"clusters\"].map(color_dict)"
   ]
  },
  {
   "cell_type": "code",
   "execution_count": null,
   "metadata": {},
   "outputs": [],
   "source": [
    "### set arguments for visualisation\n",
    "light_color = np.array([lighten_color(i, .3) for i in c])\n",
    "umap_pltkwargs={\"figsize\":(10, 8), \"frameon\":False}\n",
    "umap_quiver_kwargs = {\"scale\": 3, \"angles\": \"xy\", \"scale_units\": \"xy\", \"edgecolors\": \"k\",\n",
    "                      \"linewidth\": 0.5, \"headlength\": 7, \"headwidth\": 5, \"headaxislength\": 6}\n",
    "sub = np.array(mnn)>=0"
   ]
  },
  {
   "cell_type": "code",
   "execution_count": null,
   "metadata": {},
   "outputs": [],
   "source": [
    "### create UMAP plot (eco-velo visualisation)\n",
    "fig, ax = plt.subplots(1, 1, **umap_pltkwargs)\n",
    "\n",
    "ax.scatter(data[:,0], data[:,1], s=100, c=light_color)\n",
    "ax.axis(\"off\")\n",
    "ax.quiver(data[sub,0], data[sub,1], v[sub,0], v[sub,1], color=c[sub], **umap_quiver_kwargs)\n",
    "\n",
    "fig.tight_layout()\n",
    "\n",
    "# save figure\n",
    "save_path = \"../figures/Fig5C_UMAP_pancreas_eco-velo.pdf\"\n",
    "plt.savefig(save_path, dpi=300, transparent=True)\n",
    "\n",
    "plt.show()"
   ]
  },
  {
   "cell_type": "code",
   "execution_count": null,
   "metadata": {
    "scrolled": false
   },
   "outputs": [],
   "source": [
    "### make smoothed UMAP plot \n",
    "fig, ax = plt.subplots(1, 1, **umap_pltkwargs)\n",
    "\n",
    "ax.scatter(data[:,0], data[:,1], s=100, c=light_color)\n",
    "ax.axis(\"off\")\n",
    "ax.quiver(data[sub,0], data[sub,1], v_mean[sub,0], v_mean[sub,1], color=c[sub], **umap_quiver_kwargs)\n",
    "\n",
    "fig.tight_layout()\n",
    "\n",
    "# save figure\n",
    "save_path = \"../figures/FigS8_UMAP_pancreas_eco-velo_smoothed.pdf\"\n",
    "plt.savefig(save_path, dpi=300, transparent=True)\n",
    "\n",
    "plt.show()"
   ]
  }
 ],
 "metadata": {
  "kernelspec": {
   "display_name": "prj_velocity",
   "language": "python",
   "name": "prj_velocity"
  },
  "language_info": {
   "codemirror_mode": {
    "name": "ipython",
    "version": 3
   },
   "file_extension": ".py",
   "mimetype": "text/x-python",
   "name": "python",
   "nbconvert_exporter": "python",
   "pygments_lexer": "ipython3",
   "version": "3.8.5"
  }
 },
 "nbformat": 4,
 "nbformat_minor": 4
}
