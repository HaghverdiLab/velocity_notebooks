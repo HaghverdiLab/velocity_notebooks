{
 "cells": [
  {
   "cell_type": "markdown",
   "id": "d62527f4",
   "metadata": {},
   "source": [
    "## $\\kappa$-velo scaling on simulation\n",
    "\n",
    "In this notebook we will apply our $\\kappa$-velo method to a simulation. More specifically, in this notebook we are interested in the scaling of the parameters $\\alpha$, $\\beta$ and $\\gamma$, which is one of the steps in the $\\kappa$-velo workflow. You can use this notebook to reproduce figures 2B-E and S2."
   ]
  },
  {
   "cell_type": "code",
   "execution_count": null,
   "id": "6fd76c40",
   "metadata": {},
   "outputs": [],
   "source": [
    "### load libraries\n",
    "\n",
    "# general libraries\n",
    "import pandas as pd\n",
    "\n",
    "# single cell libraries\n",
    "import scvelo as scv\n",
    "\n",
    "# plotting libraries\n",
    "import matplotlib.pyplot as plt\n",
    "\n",
    "# dimension reduction libraries\n",
    "from sklearn.decomposition import PCA #for generating a PCA embedding\n",
    "\n",
    "import sklearn as sk\n",
    "\n",
    "# import our own functions\n",
    "from kappavelo import *\n",
    "from visualisation import *"
   ]
  },
  {
   "cell_type": "markdown",
   "id": "fb427696",
   "metadata": {},
   "source": [
    "### Generate simulation data\n",
    "\n",
    "Here, we generate the simulation data that we will be using to test our $\\kappa$-velo method. The simulation is create using the build in function from scVelo: `scvelo.datasets.simulation`. Our simulation contains 200 genes and 5000 cells. The parameters $\\alpha$, $\\beta$ and $\\gamma$ are sampled from a multivariate log-normal distribution and scaled by a scaling factor $\\kappa$ between 1 and 10."
   ]
  },
  {
   "cell_type": "code",
   "execution_count": null,
   "id": "proof-sugar",
   "metadata": {},
   "outputs": [],
   "source": [
    "### set seed\n",
    "np.random.seed(2)"
   ]
  },
  {
   "cell_type": "code",
   "execution_count": null,
   "id": "15136782",
   "metadata": {},
   "outputs": [],
   "source": [
    "### set variables for simulation\n",
    "n_vars, n_obs, t_max, noise_level = 10, 5000, 30, 1\n",
    "switches = np.random.uniform(.1, .5, size=n_vars)"
   ]
  },
  {
   "cell_type": "code",
   "execution_count": null,
   "id": "a4ac1f04",
   "metadata": {},
   "outputs": [],
   "source": [
    "### set parameters\n",
    "mu = np.array([np.log(5), np.log(.3), np.log(.15)])\n",
    "R = np.array([[1, .2, .2],\n",
    "              [.2, 1, .2],\n",
    "              [.2, .2, 1]])\n",
    "C = np.array([.2, .2, .2])[:, None]\n",
    "cov = C.dot(C.T) * R\n",
    "\n",
    "kappa = np.arange(.01, 15, (15-1)/n_vars)\n",
    "\n",
    "alpha, beta, gamma = np.exp(np.random.multivariate_normal(mu, cov, size=n_vars).T ) "
   ]
  },
  {
   "cell_type": "code",
   "execution_count": null,
   "id": "indie-investigation",
   "metadata": {},
   "outputs": [],
   "source": [
    "### set different scaling factors (kappa)\n",
    "kappa = np.arange(1, 15, (15-1)/n_vars)"
   ]
  },
  {
   "cell_type": "code",
   "execution_count": null,
   "id": "bc352e59",
   "metadata": {},
   "outputs": [],
   "source": [
    "### generate dataset; fixed alpha, beta & gamma, only change kappa \n",
    "adata = scv.datasets.simulation(n_obs=n_obs, \n",
    "                                t_max=t_max, \n",
    "                                n_vars=n_vars, \n",
    "                                noise_level=noise_level, \n",
    "                                alpha=alpha*kappa, \n",
    "                                beta=beta*kappa, \n",
    "                                gamma=gamma*kappa, \n",
    "                                switches=switches/kappa)"
   ]
  },
  {
   "cell_type": "markdown",
   "id": "54e86454",
   "metadata": {},
   "source": [
    "### Recover dynamics and scaling factors ($\\kappa$)\n",
    "\n",
    "Here, we will calculate the velocities per cell for each gene. First, we recover the dynamics using function `scvelo.tl.recover_dynamics`. Afterwards, we use the $\\kappa$-velo function `get_intervals` to fit a kappa to each gene using all cells assigned to downregulation (for that gene). In case a NaN is retrieved (because there are not enough cells in downregulation), we run the function `get_intervals` again, but this time on all cells in the upregulation."
   ]
  },
  {
   "cell_type": "code",
   "execution_count": null,
   "id": "e5798c04",
   "metadata": {},
   "outputs": [],
   "source": [
    "### recover scvelo dynamics\n",
    "scv.tl.recover_dynamics(adata, adata.var_names, use_raw=True, fit_connected_states=False, t_max=20)"
   ]
  },
  {
   "cell_type": "code",
   "execution_count": null,
   "id": "546ba2f0",
   "metadata": {},
   "outputs": [],
   "source": [
    "### get kappa and scale anndata object\n",
    "scaled_data = kappa_velo(adata, inplace=False)"
   ]
  },
  {
   "cell_type": "markdown",
   "id": "af0ea8c6",
   "metadata": {},
   "source": [
    "Compare our fitted kappa's to the true kappa's. This figure is equivalent to Figure 2C in our main paper."
   ]
  },
  {
   "cell_type": "code",
   "execution_count": null,
   "id": "65b3c1d9",
   "metadata": {},
   "outputs": [],
   "source": [
    "### plot fitted kappas vs true kappas\n",
    "fig, ax = plt.subplots(1, 1, figsize=(6, 6))\n",
    "plt.scatter(kappa, scaled_data.var[\"fit_beta\"] * 100, s=30, c=\"black\")\n",
    "plt.xlabel(\"True kappa\", size=20), plt.ylabel(\"Fitted kappa\", size=20)\n",
    "plt.xlim(0), plt.ylim(0)\n",
    "ax.set_xticks([0, 5, 10])\n",
    "plt.tight_layout()\n",
    "\n",
    "# save figure\n",
    "save_path = \"../figures/Fig3C_recovered_kappas.png\"\n",
    "plt.savefig(save_path, dpi=400, transparent=True)\n",
    "\n",
    "plt.show()"
   ]
  },
  {
   "cell_type": "markdown",
   "id": "f369d0fe",
   "metadata": {},
   "source": [
    "### Calculate velocities\n",
    "\n",
    "Compare the velocities calculated in three different ways. \n",
    "\n",
    "1. true velocities (`v_true`): velocities calculated using the ground truth parameters\n",
    "2. scVelo velocities (`v_scvelo`): velocities calculated using the parameters recovered by scVelo\n",
    "3. scaled velocities (`v_scaled`): velocities calculated using the $\\kappa$-scaled parameters\n",
    "\n",
    "Note: the velocities are L2 normalised to make them comparable."
   ]
  },
  {
   "cell_type": "code",
   "execution_count": null,
   "id": "676b97c7",
   "metadata": {},
   "outputs": [],
   "source": [
    "### calculate ground truth velocities\n",
    "true_data = adata.copy()\n",
    "get_velocity(true_data, key=\"true\", normalise=\"L2\")\n",
    "v_true = true_data.layers[\"velocity\"]"
   ]
  },
  {
   "cell_type": "code",
   "execution_count": null,
   "id": "e5641319",
   "metadata": {},
   "outputs": [],
   "source": [
    "### calculate scvelo velocities \n",
    "scv.pp.neighbors(adata)\n",
    "scv.tl.velocity(adata, use_raw=True)\n",
    "v_scvelo = sk.preprocessing.normalize(adata.layers[\"velocity\"], norm='l2')"
   ]
  },
  {
   "cell_type": "code",
   "execution_count": null,
   "id": "907223bd",
   "metadata": {},
   "outputs": [],
   "source": [
    "### scaled velocities\n",
    "get_velocity(scaled_data, use_raw=True, normalise=\"L2\")\n",
    "v_scaled = scaled_data.layers[\"velocity\"]"
   ]
  },
  {
   "cell_type": "markdown",
   "id": "39dfe298",
   "metadata": {},
   "source": [
    "Compare the velocities estimated by scVelo and $\\kappa$-velo to the true velocities. Each dot represents the velocity of one gene in one cell. This figure corresponds to Figure 2D in our paper."
   ]
  },
  {
   "cell_type": "code",
   "execution_count": null,
   "id": "74d3b6ef",
   "metadata": {},
   "outputs": [],
   "source": [
    "### plot figuring comparing scVelo and kappa-velo to ground truth\n",
    "fig, ax = plt.subplots(1, 1, figsize=(6, 6), frameon=False)\n",
    "\n",
    "kwargs = {\"alpha\":.2, \"s\":7}\n",
    "idx = np.arange(0, n_vars, 1)\n",
    "cells = np.arange(0, n_obs, 25)\n",
    "xlim = (np.min(v_true), np.max(v_true))\n",
    "\n",
    "# for all cell over all genes\n",
    "ax.scatter(v_true[:,idx][cells], v_scvelo[:,idx][cells], \n",
    "           label=\"scVelo\", color=\"tab:red\", **kwargs)\n",
    "ax.scatter(v_true[:,idx][cells], v_scaled[:,idx][cells], \n",
    "           label=\"κ-velo\", color=\"royalblue\", **kwargs)\n",
    "ax.set_xlabel(\"True velocities\", size=18), ax.set_ylabel(\"Recovered velocities\", size=20)\n",
    "\n",
    "l = .8\n",
    "ax.set_xlim((-l,l)), ax.set_ylim((-l, l))\n",
    "\n",
    "ax.legend(fontsize=20)\n",
    "ax.set_xticks([-.5, 0, .5]), ax.set_yticks([-.5, 0, .5])\n",
    "plt.tight_layout()\n",
    "\n",
    "# save figure\n",
    "save_path = \"../figures/Fig3D_velocities-scvelo-vs-scaled.png\"\n",
    "plt.savefig(save_path, dpi=400, transparent=True)\n",
    "\n",
    "plt.show()"
   ]
  },
  {
   "cell_type": "markdown",
   "id": "4c95d832",
   "metadata": {},
   "source": [
    "### Projection onto PCA space\n",
    "\n",
    "To compare the velocities onto a low-dimensional embedding, we project the velocities, as calculated by scVelo and $\\kappa$-velo onto a PCA embedding and compare them with the true velocities. We compare the velocities both in terms of change in vector direction and change in vector length. \n",
    "To compare the vector direction, we use our function `vector_distance`, which uses cosine similarity to determine the difference in direction between two vectors. To compare the vector length, we use the same function `vector_distance`, but this time with metric \"norm_diff\", comparing the length of the vector using the difference in vector norm."
   ]
  },
  {
   "cell_type": "code",
   "execution_count": null,
   "id": "126d1b4b",
   "metadata": {},
   "outputs": [],
   "source": [
    "### generate PCA embedding using spliced counts\n",
    "pca = PCA(n_components=2, copy=True)\n",
    "pc = pca.fit(adata.X)\n",
    "data = pc.transform(adata.X)"
   ]
  },
  {
   "cell_type": "code",
   "execution_count": null,
   "id": "6976311f",
   "metadata": {},
   "outputs": [],
   "source": [
    "### calculate projection of velocities (true, scVelo and scaled) onto PCA\n",
    "zero = pca.transform(np.zeros((1,n_vars)))\n",
    "\n",
    "v_t = pca.transform(v_true)-zero\n",
    "v_0 = pca.transform(v_scvelo)-zero\n",
    "v_1 = pca.transform(v_scaled)-zero"
   ]
  },
  {
   "cell_type": "code",
   "execution_count": null,
   "id": "c28dd272",
   "metadata": {},
   "outputs": [],
   "source": [
    "### calculate change in direction\n",
    "a0, a1 = vector_distance(v_t, v_0, metric=\"cosine\"), vector_distance(v_t, v_1, metric=\"cosine\")"
   ]
  },
  {
   "cell_type": "code",
   "execution_count": null,
   "id": "11c51198",
   "metadata": {},
   "outputs": [],
   "source": [
    "### calculate change in angle\n",
    "d0, d1 = vector_distance(v_t, v_0, metric=\"norm_diff\"), vector_distance(v_t, v_1, metric=\"norm_diff\")"
   ]
  },
  {
   "cell_type": "markdown",
   "id": "99caf83b",
   "metadata": {},
   "source": [
    "Plot the simulation in a PCA embedding. The grey velocities represent the true velocities. The red and blue velocities represent the scVelo-calculate and kappa-scaled velocities respectively."
   ]
  },
  {
   "cell_type": "code",
   "execution_count": null,
   "id": "60df71bf",
   "metadata": {
    "scrolled": false
   },
   "outputs": [],
   "source": [
    "### plot velocities in PCA\n",
    "fig, axs = plt.subplots(1,2, figsize=(12, 6), frameon=False)\n",
    "\n",
    "axs[0].scatter(data[:,0], data[:,1], s=5, color=\"black\", alpha=.5)\n",
    "axs[1].scatter(data[:,0], data[:,1], s=5, color=\"black\", alpha=.5)\n",
    "\n",
    "quiver_kwargs = {\"scale\": .04, \"angles\": \"xy\", \"scale_units\": \"xy\",\n",
    "                 \"edgecolors\": \"k\", \"linewidth\": 0.1, \"headwidth\": 5, \"headaxislength\": 4, \"alpha\":.7}\n",
    "\n",
    "axs[0].quiver(data[:,0], data[:,1], v_t[:,0], v_t[:,1], color=\"grey\", **quiver_kwargs)\n",
    "axs[1].quiver(data[:,0], data[:,1], v_t[:,0], v_t[:,1], color=\"grey\", **quiver_kwargs)\n",
    "axs[0].quiver(data[:,0], data[:,1], v_0[:,0], v_0[:,1], color=\"tab:red\", **quiver_kwargs)\n",
    "axs[1].quiver(data[:,0], data[:,1], v_1[:,0], v_1[:,1], color=\"royalblue\", **quiver_kwargs)\n",
    "\n",
    "axs[0].set_title(\"scVelo velocities\")\n",
    "axs[1].set_title(\"κ-velo velocities\")\n",
    "\n",
    "plt.tight_layout()\n",
    "plt.show()"
   ]
  },
  {
   "cell_type": "markdown",
   "id": "8cac9768",
   "metadata": {},
   "source": [
    "Here, we compare the vectors in the PCA embedding in terms of size and angle."
   ]
  },
  {
   "cell_type": "code",
   "execution_count": null,
   "id": "61cb2429",
   "metadata": {},
   "outputs": [],
   "source": [
    "fig, axs = plt.subplots(1, 2, figsize=(4,4), frameon=False, gridspec_kw={'width_ratios': [ 1, 1]})\n",
    "\n",
    "axs[0].set_yscale('log') \n",
    "\n",
    "kwargs = {\"alpha\":0.5, \"density\":False, \"bins\":25}\n",
    "\n",
    "_, bins, _ = axs[0].hist(a0, **kwargs, label=\"scVelo\", color=\"r\")\n",
    "axs[0].hist(a1, bins=bins, alpha = .6, color=\"royalblue\", label=[\"K-SV\"])\n",
    "axs[0].set_xticks([-1, 0, 1])\n",
    "\n",
    "axs[0].set_yscale('log') \n",
    "axs[0].set_title(\"Cosine similarity\")\n",
    "\n",
    "_, bins, _ = axs[1].hist(d0, **kwargs, label=\"scVelo\", color=\"r\")\n",
    "axs[1].hist(d1, bins=bins, alpha = .6, color=\"royalblue\", label=[\"K-SV\"])\n",
    "axs[1].set_title(\"Difference in vector norm\")\n",
    "axs[1].set_yscale('log') \n",
    "axs[1].sharey(axs[0])\n",
    "axs[1].set_xticks([-.5, 0, .5])\n",
    "\n",
    "ax.grid(False)\n",
    "ax.legend(fontsize=20)\n",
    "plt.tight_layout()\n",
    "\n",
    "# save figure\n",
    "#save_path = \"../figures/Fig3E_length_and_direction_compared.png\"\n",
    "#plt.savefig(save_path, dpi=400, transparent=True)\n",
    "\n",
    "plt.show()"
   ]
  },
  {
   "cell_type": "markdown",
   "id": "79fe2ede",
   "metadata": {},
   "source": [
    "Plot all three figures (Figure 2C-E) in the same figure. "
   ]
  },
  {
   "cell_type": "code",
   "execution_count": null,
   "id": "a58744fa",
   "metadata": {},
   "outputs": [],
   "source": [
    "### plot all three figures together\n",
    "fig, axs = plt.subplots(1, 4, figsize=(12,4), frameon=False, gridspec_kw={'width_ratios': [2, 2, 1, 1]})\n",
    "\n",
    "# plot recovered kappas\n",
    "axs[0].scatter(kappa, scaled_data.var[\"fit_beta\"] * 300, \n",
    "            s=10, c=\"black\")\n",
    "axs[0].set_xticks([0, 5, 10, 15])\n",
    "axs[0].set_yticks([0, 5, 10])\n",
    "\n",
    "# plot velocities comparison \n",
    "kwargs = {\"alpha\":.2, \"s\":7}\n",
    "idx = np.arange(0, n_vars, 1)\n",
    "cells = np.arange(0, n_obs, 25)\n",
    "axs[1].scatter(v_true[:,idx][cells], v_scvelo[:,idx][cells], color=\"tab:red\", **kwargs)\n",
    "axs[1].scatter(v_true[:,idx][cells], v_scaled[:,idx][cells], color=\"royalblue\", **kwargs)\n",
    "l = .5\n",
    "axs[1].set_xlim((-l,l)), axs[1].set_ylim((-l, l))\n",
    "axs[1].set_xticks([-.5, 0, .5]), axs[1].set_yticks([-.5, 0, .5])\n",
    "\n",
    "# plot direction comparison\n",
    "axs[2].set_yscale('log') \n",
    "kwargs = {\"alpha\":0.5, \"density\":False, \"bins\":25}\n",
    "_, bins, _ = axs[2].hist(a0, **kwargs, label=\"scVelo\", color=\"r\")\n",
    "axs[2].hist(a1, bins=bins, alpha = .6, color=\"royalblue\", label=[\"K-SV\"])\n",
    "axs[2].set_xticks([-1, 0, 1])\n",
    "axs[2].set_yscale('log') \n",
    "\n",
    "# plot size comparison\n",
    "_, bins, _ = axs[3].hist(d0, **kwargs, label=\"scVelo\", color=\"r\")\n",
    "axs[3].hist(d1, bins=bins, alpha = .6, color=\"royalblue\", label=[\"K-SV\"])\n",
    "axs[3].set_yscale('log') \n",
    "axs[3].sharey(axs[2])\n",
    "axs[3].set_xticks([-.5, 0, .5])\n",
    "\n",
    "ax.grid(False)\n",
    "ax.legend(fontsize=20)\n",
    "plt.tight_layout()\n",
    "\n",
    "# save figure\n",
    "save_path = \"../figures/Fig3C-E_kappa_on_simulation.png\"\n",
    "plt.savefig(save_path, dpi=400, transparent=True)\n",
    "\n",
    "plt.show()"
   ]
  },
  {
   "cell_type": "markdown",
   "id": "971a6834",
   "metadata": {},
   "source": [
    "### Supplementary figures: parallelogram approach\n",
    "To give you some insight on how $\\kappa$-velo calculate scaling factor $\\kappa$ for each gene, we zoom in on the application of the parallelogram approach on two genes a similar simulation. To get a better understanding of the approach, we highly recommend you to read Supplementary Note 1 in our manuscript. Below, you will find for both genes the u-s phase portrait and a scatter plot plotting $d(i,j)$ and $f(i,j)$, with a parellologram fitted around the points. The slope of the left border of the parellogram is used as an estimate for $\\kappa$."
   ]
  },
  {
   "cell_type": "code",
   "execution_count": null,
   "id": "06e8576e",
   "metadata": {},
   "outputs": [],
   "source": [
    "### define kwargs & functions \n",
    "ptkwargs = {\"s\":3, \"color\":\"grey\", \"alpha\":.8}\n",
    "lkwargs = dict(bounds=[(0.1, None)], x0=np.array([.1]), options={\"maxiter\": 2000, 'disp': True}, tol=1e-8, method=\"COBYLA\")\n",
    "\n",
    "def line(a, *args):\n",
    "    x, y = args[0], args[1]\n",
    "    x, y = x[x > .1], y[x > .1]\n",
    "    return np.sum(np.sqrt(((a*x)-y)**2))"
   ]
  },
  {
   "cell_type": "code",
   "execution_count": null,
   "id": "64608fc9",
   "metadata": {},
   "outputs": [],
   "source": [
    "### create new simulation \n",
    "np.random.seed(2)\n",
    "\n",
    "n_vars, n_obs, t_max, noise_level = 2, 3000, 20, [0.8]\n",
    "\n",
    "kappa = np.array([.5, 5])\n",
    "alpha, beta, gamma, switches = 5*kappa, .3*kappa, .15*kappa, [.8, .8]\n",
    "adata = scv.datasets.simulation(n_obs=n_obs, t_max=t_max, n_vars=n_vars, noise_level=noise_level, alpha=alpha, beta=beta, gamma=gamma, switches=switches)\n",
    "\n",
    "scv.tl.recover_dynamics(adata, use_raw=True, max_iter=1000)"
   ]
  },
  {
   "cell_type": "code",
   "execution_count": null,
   "id": "550ddeaf",
   "metadata": {},
   "outputs": [],
   "source": [
    "### plot parallelogram approach for gene 1\n",
    "fig, ax = plt.subplots(2, 1, figsize=(6, 8))\n",
    "\n",
    "j = \"0\"\n",
    "alpha, beta, gamma, ut, st, up_reg, down_reg = get_pars(adata, j)\n",
    "\n",
    "# plot almond\n",
    "scv.pl.scatter(adata,j, ax=ax[0], show=False, use_raw=True)\n",
    "ax[0].set_title(\"Gene 1\", size=15)\n",
    "\n",
    "# get density kappa\n",
    "alpha, beta, gamma, ut, st, up_reg, _ = get_pars(adata, j)\n",
    "t_dist, f = get_f_and_delta_t(ut, st, alpha, beta, _, up_reg, \"up\")\n",
    "a = op.minimize(line, args=(t_dist / np.max(t_dist), f / np.max(f)), **lkwargs).x\n",
    "\n",
    "# plot density kappa\n",
    "ax[1].scatter(t_dist, f,  **ptkwargs)\n",
    "ax[1].set_xlabel(\"d(i, j)\"), ax[1].set_ylabel(\"f(i, j)\")\n",
    "ax[1].plot(np.array([0, a]) * np.max(t_dist), np.array([0, 1]) * np.max(f), color=\"red\")\n",
    "\n",
    "# make plot less crowded\n",
    "for ax_ in ax:\n",
    "    ax_.set_xlim(0), ax_.set_ylim(0)\n",
    "    ax_.spines['right'].set_visible(False)\n",
    "    ax_.spines['top'].set_visible(False)\n",
    "\n",
    "plt.tight_layout()\n",
    "\n",
    "# save figure\n",
    "save_path = \"../figures/FigS2A_density-parallelogram.pdf\"\n",
    "plt.savefig(save_path, dpi=300, transparent=True)\n",
    "\n",
    "plt.show()"
   ]
  },
  {
   "cell_type": "code",
   "execution_count": null,
   "id": "99999514",
   "metadata": {},
   "outputs": [],
   "source": [
    "### print recovered kappa for gene 1\n",
    "print(((1 * np.max(f)) / (a * np.max(t_dist)))*beta *100)"
   ]
  },
  {
   "cell_type": "code",
   "execution_count": null,
   "id": "51b99f67",
   "metadata": {},
   "outputs": [],
   "source": [
    "### plot parallelogram approach for gene 2\n",
    "fig, ax = plt.subplots(2, 1, figsize=(6, 8))\n",
    "\n",
    "j = \"1\"\n",
    "alpha, beta, gamma, ut, st, up_reg, down_reg = get_pars(adata, j)\n",
    "\n",
    "# plot almond\n",
    "scv.pl.scatter(adata,j, ax=ax[0], show=False, use_raw=True)\n",
    "ax[0].set_title(\"Gene 2\", size=15)\n",
    "\n",
    "# plot density kappa\n",
    "t_dist, f = get_f_and_delta_t(ut, st, alpha, beta, _, up_reg, \"up\")\n",
    "\n",
    "kwargs = dict(bounds=[(0.1, None), (0.1, None), (0.1, None), (0.01, None)], x0=np.array([.1, 1, 1, .1]),\n",
    "              options={\"maxiter\": 2000, 'disp': True}, tol=1e-8, method=\"COBYLA\")\n",
    "mn = op.minimize(cost_parallelogram, args=(t_dist / np.max(t_dist), f / np.max(f)), **kwargs)\n",
    "a, b, c, d = mn.x\n",
    "\n",
    "ax[1].scatter(t_dist, f, **ptkwargs)\n",
    "ax[1].set_xlabel(\"d(i, j)\"), ax[1].set_ylabel(\"f(i, j)\")\n",
    "\n",
    "# recovered kappa line\n",
    "ax[1].plot(np.array([0, a]) * np.max(t_dist), np.array([0, b]) * np.max(f), color=\"red\")\n",
    "\n",
    "# rest of parallelogram\n",
    "ax[1].plot(np.array([a, (a + c), c, 0]) * np.max(t_dist), np.array([b, (b + d), d, 0]) * np.max(f), color=\"orange\")\n",
    "\n",
    "for ax_ in ax:\n",
    "    ax_.set_xlim(0), ax_.set_ylim(0)\n",
    "    ax_.spines['right'].set_visible(False)\n",
    "    ax_.spines['top'].set_visible(False)\n",
    "\n",
    "plt.tight_layout()\n",
    "\n",
    "# save figure\n",
    "save_path = \"../figures/FigS2B_density-parallelogram.pdf\"\n",
    "plt.savefig(save_path, dpi=300, transparent=True)\n",
    "\n",
    "plt.show()"
   ]
  },
  {
   "cell_type": "code",
   "execution_count": null,
   "id": "ad5bc58e",
   "metadata": {},
   "outputs": [],
   "source": [
    "### print recovered kappa for gene 2\n",
    "print(((b * np.max(f)) / (a * np.max(t_dist)))*beta *100)"
   ]
  },
  {
   "cell_type": "code",
   "execution_count": null,
   "id": "5c7a6da2",
   "metadata": {},
   "outputs": [],
   "source": []
  }
 ],
 "metadata": {
  "kernelspec": {
   "display_name": "clone",
   "language": "python",
   "name": "clone"
  },
  "language_info": {
   "codemirror_mode": {
    "name": "ipython",
    "version": 3
   },
   "file_extension": ".py",
   "mimetype": "text/x-python",
   "name": "python",
   "nbconvert_exporter": "python",
   "pygments_lexer": "ipython3",
   "version": "3.8.5"
  }
 },
 "nbformat": 4,
 "nbformat_minor": 5
}
